{
 "cells": [
  {
   "cell_type": "markdown",
   "metadata": {},
   "source": [
    "# MLSGrid MRED MLS Replication Working Notebook\n",
    "## Objectives & Overview\n",
    "This project will, ultimately, deploy an application to Amazon Web Services (AWS) which accomplishes the following primary objectives.\n",
    "* Replicates the MRED MLS database\n",
    "    1. First in an initial replication and then\n",
    "    1. Maintains an updated replica of the MLS\n",
    "* Provides an API to allow for data analysis using the replica\n",
    "\n",
    "Additional discretionary objectives of this project include:\n",
    "* Publishing an open source Python API wrapper for the MLSGrid API\n",
    "* Publishing an open source Python package to enable the primary objectives of this project\n",
    "\n",
    "Unfortunately, as of the time of this project, MLSGrid does not provide any Python enablement of any of this (be it API, SDK, etc...).  Hence, this project is born.\n",
    "\n",
    "We're working through the [MLSGrid documentation](https://docs.mlsgrid.com/api-documentation/api-version-2.0) to build the Python wrapper to the MLSGrid API.  Some important notes as we start.\n",
    "* MLSGrid only provide a replication API, which uses the rather stodgy and seemingly outdated ODATA standard.\n",
    "* MLSGrid's support team seems thinly staffed, which has resulted in a rather \"go it alone\" approach to getting this done."
   ]
  },
  {
   "cell_type": "markdown",
   "metadata": {},
   "source": [
    "## Prerequisites\n",
    "This project requires a paid license to the [MLSGrid API](https://www.mlsgrid.com/).  To obtain this license, you'll need to be a real estate broker, or sponsored by a real estate broker, and work through the paid approval process with MLSGrid.  Details can be found on their site."
   ]
  },
  {
   "cell_type": "markdown",
   "metadata": {},
   "source": [
    "## Scaffolding the Project\n",
    "This is going to be a bit iterative, but let's stub it out as follows:\n",
    "\n",
    "```\n",
    "mlsgrid_api\n",
    "|   mred_notebook.ipynb\n",
    "|   COPYING\n",
    "|   README.md\n",
    "|   .gitignore\n",
    "|   requirements.txt\n",
    "|   .env\n",
    "|   mlsgrid_api.py\n",
    "|___.venv (python -m venv .venv)\n",
    "    |   ...venv stuff here...\n",
    "|___tests\n",
    "    |   test_mlsgrid_api.py\n",
    "```\n",
    "\n",
    "Let's create our project directory\n",
    "\n",
    "    `mkdir mlsgrid_api && cd mlsgrid_api`\n",
    "\n",
    "### #TODO\n",
    "- [ ] Explore using this Jupyter notebook as the README.md for the GitHub repo\n",
    "    - [ ] [Google search here](https://www.google.com/search?q=use+jupyter+notebook+as+readme.md+github&oq=use+&aqs=edge.0.69i59j69i57j0i131i433i512l2j69i60j69i65l2j69i60j69i61.1202j0j1&sourceid=chrome&ie=UTF-8)\n",
    "    - [ ] [Here's an article](https://andrewpwheeler.com/2021/09/06/using-jupyter-notebooks-to-make-nice-readmes-for-github/)\n",
    "\n",
    "We're already working in this Jupyter notebook, so make sure it's in the project directory.  In order to run any of the code in this notebook, we need to setup our Python virtual environment and install some packages."
   ]
  },
  {
   "cell_type": "markdown",
   "metadata": {},
   "source": [
    "## Python Virtual Environment\n",
    "Let's create our virtual environment.  We'll do this in the shell.\n",
    "\n",
    "    `python -m venv .venv`\n",
    "\n",
    "Let's activate our new Python environment.\n",
    "\n",
    "    `source /.venv/bin/activate`\n",
    "\n",
    "Now, let's upgrade `pip` as it will complain otherwise ...\n",
    "\n",
    "    `pip install --upgrade pip`\n",
    "\n",
    "Let's now install `jupyterlab` to get all of the goodness.\n",
    "\n",
    "    `pip install jupyterlab`\n",
    "\n",
    "You can now start VSCode in the project directory.\n",
    "\n",
    "    `code .`\n",
    "\n",
    "If you're working in VSCode, make sure you switch the interpreter & kernel to use your newly created virtual environment in this notebook going forward.\n",
    "\n",
    "We will publish this project publicly, opting for the **GNU General Public License v3.0** license after using [Choose A License](https://choosealicense.com/) for help.  The license is contained in the `LICENSE` file in the project directory."
   ]
  },
  {
   "cell_type": "code",
   "execution_count": 2,
   "metadata": {},
   "outputs": [
    {
     "name": "stdout",
     "output_type": "stream",
     "text": [
      "  % Total    % Received % Xferd  Average Speed   Time    Time     Time  Current\n",
      "                                 Dload  Upload   Total   Spent    Left  Speed\n",
      "100 35149  100 35149    0     0   134k      0 --:--:-- --:--:-- --:--:--  134k\n"
     ]
    }
   ],
   "source": [
    "! curl https://www.gnu.org/licenses/gpl-3.0.txt -o LICENSE"
   ]
  },
  {
   "cell_type": "markdown",
   "metadata": {},
   "source": [
    "## Git Repository\n",
    "Let's setup a git repo for the work we're doing so that we can manage versioning.  Before we do that, as we'll be working with sensitive API keys in our `.env` file, and we also have our virtual environment installed in the project directory (`./.venv/`), let's pull down a good Python-relevant `.gitignore` file to exclude these from the repo.  We'll use the version that [GitHub provides here](https://github.com/github/gitignore/blob/e5323759e387ba347a9d50f8b0ddd16502eb71d4/Python.gitignore)."
   ]
  },
  {
   "cell_type": "code",
   "execution_count": 8,
   "metadata": {},
   "outputs": [
    {
     "name": "stdout",
     "output_type": "stream",
     "text": [
      "  % Total    % Received % Xferd  Average Speed   Time    Time     Time  Current\n",
      "                                 Dload  Upload   Total   Spent    Left  Speed\n",
      "100  3078  100  3078    0     0  13042      0 --:--:-- --:--:-- --:--:-- 12987\n"
     ]
    }
   ],
   "source": [
    "! curl https://raw.githubusercontent.com/github/gitignore/main/Python.gitignore -o .gitignore"
   ]
  },
  {
   "cell_type": "markdown",
   "metadata": {},
   "source": [
    "Now, we're ready to initialize our git repo."
   ]
  },
  {
   "cell_type": "code",
   "execution_count": 9,
   "metadata": {},
   "outputs": [
    {
     "name": "stdout",
     "output_type": "stream",
     "text": [
      "Initialized empty Git repository in /home/captivus/projects/mlsgrid_api/.git/\n"
     ]
    }
   ],
   "source": [
    "! git init"
   ]
  },
  {
   "cell_type": "markdown",
   "metadata": {},
   "source": [
    "Let's add everything we have so far to our local repo."
   ]
  },
  {
   "cell_type": "code",
   "execution_count": 10,
   "metadata": {},
   "outputs": [],
   "source": [
    "! git add ."
   ]
  },
  {
   "cell_type": "markdown",
   "metadata": {},
   "source": [
    "Let's check the status of what's about to be committed to our git repo."
   ]
  },
  {
   "cell_type": "code",
   "execution_count": 11,
   "metadata": {},
   "outputs": [
    {
     "name": "stdout",
     "output_type": "stream",
     "text": [
      "On branch master\n",
      "\n",
      "No commits yet\n",
      "\n",
      "Changes to be committed:\n",
      "  (use \"git rm --cached <file>...\" to unstage)\n",
      "\t\u001b[32mnew file:   .gitignore\u001b[m\n",
      "\t\u001b[32mnew file:   LICENSE\u001b[m\n",
      "\t\u001b[32mnew file:   README.md\u001b[m\n",
      "\t\u001b[32mnew file:   mred_notebook.ipynb\u001b[m\n",
      "\n"
     ]
    }
   ],
   "source": [
    "! git status"
   ]
  },
  {
   "cell_type": "markdown",
   "metadata": {},
   "source": [
    "Now, let's commit it."
   ]
  },
  {
   "cell_type": "code",
   "execution_count": 12,
   "metadata": {},
   "outputs": [
    {
     "name": "stdout",
     "output_type": "stream",
     "text": [
      "[master (root-commit) 659b78f] initial commit\n",
      " 4 files changed, 992 insertions(+)\n",
      " create mode 100644 .gitignore\n",
      " create mode 100644 LICENSE\n",
      " create mode 100644 README.md\n",
      " create mode 100644 mred_notebook.ipynb\n"
     ]
    }
   ],
   "source": [
    "! git commit -m 'initial commit'"
   ]
  },
  {
   "cell_type": "markdown",
   "metadata": {},
   "source": [
    "We'll move everything in the branch we're on to the `main` branch."
   ]
  },
  {
   "cell_type": "code",
   "execution_count": 13,
   "metadata": {},
   "outputs": [],
   "source": [
    "! git branch --move main"
   ]
  },
  {
   "cell_type": "markdown",
   "metadata": {},
   "source": [
    "Now let's link our local repo up to our GitHub repository.  NB you'll change your repository to match the one you created at GitHub earlier."
   ]
  },
  {
   "cell_type": "code",
   "execution_count": 14,
   "metadata": {},
   "outputs": [],
   "source": [
    "! git remote add origin git@github.com:captivus/mlsgrid_api.git"
   ]
  },
  {
   "cell_type": "markdown",
   "metadata": {},
   "source": [
    "With this done, let's push our local repo to the GitHub repo."
   ]
  },
  {
   "cell_type": "code",
   "execution_count": 15,
   "metadata": {},
   "outputs": [
    {
     "name": "stdout",
     "output_type": "stream",
     "text": [
      "Host key fingerprint is SHA256:p2QAMXNIC1TJYWeIOttrVc98/R1BUFWu3/LiyKgUfQM\n",
      "+---[ECDSA 256]---+\n",
      "| .o=X*+      .o.=|\n",
      "|  .o=O         o |\n",
      "| .  . .   E   . .|\n",
      "|o     .. . .   o |\n",
      "| +   . +S o.o . .|\n",
      "|. . .  o++.... o.|\n",
      "|   o    o.   ...+|\n",
      "|  o    .   o .oo.|\n",
      "| .      ... o....|\n",
      "+----[SHA256]-----+\n",
      "Enumerating objects: 6, done.\n",
      "Counting objects: 100% (6/6), done.\n",
      "Delta compression using up to 8 threads\n",
      "Compressing objects: 100% (5/5), done.\n",
      "Writing objects: 100% (6/6), 15.83 KiB | 3.96 MiB/s, done.\n",
      "Total 6 (delta 0), reused 0 (delta 0)\n",
      "To github.com:captivus/mlsgrid_api.git\n",
      " * [new branch]      main -> main\n",
      "Branch 'main' set up to track remote branch 'main' from 'origin'.\n"
     ]
    }
   ],
   "source": [
    "! git push --set-upstream origin main"
   ]
  },
  {
   "cell_type": "markdown",
   "metadata": {},
   "source": [
    "Great, now we're all setup with both local and remote git repositories."
   ]
  },
  {
   "cell_type": "markdown",
   "metadata": {},
   "source": [
    "## Python Modules Needed for the Project\n",
    "This will be iterative as we work through building the project, but we know we need these modules to start.\n",
    "* `requests` (for interacting with the MLSGrid API)\n",
    "* `python-dotenv` (to load our .env file which contains our secrets / API keys)\n",
    "* `pytest` (to perform testing on the MLSGrid API wrapper we're going to build)\n",
    "\n",
    "Let's add these to our `requirements.txt` file.  We'll use a [here document](https://wiki.bash-hackers.org/syntax/redirection#here_documents) to do this from the shell, using Jupyter's `%%bash` magic command."
   ]
  },
  {
   "cell_type": "code",
   "execution_count": 24,
   "metadata": {},
   "outputs": [],
   "source": [
    "%%bash\n",
    "\n",
    "cat > requirements.txt << 'EOF'\n",
    "requests\n",
    "python-dotenv\n",
    "pytest\n",
    "EOF"
   ]
  },
  {
   "cell_type": "markdown",
   "metadata": {},
   "source": [
    "Now, we'll install these dependencies."
   ]
  },
  {
   "cell_type": "code",
   "execution_count": 25,
   "metadata": {},
   "outputs": [
    {
     "name": "stdout",
     "output_type": "stream",
     "text": [
      "Requirement already satisfied: requests in ./.venv/lib/python3.9/site-packages (from -r requirements.txt (line 1)) (2.28.1)\n",
      "Collecting python-dotenv\n",
      "  Using cached python_dotenv-0.21.0-py3-none-any.whl (18 kB)\n",
      "Collecting pytest\n",
      "  Using cached pytest-7.1.3-py3-none-any.whl (298 kB)\n",
      "Requirement already satisfied: urllib3<1.27,>=1.21.1 in ./.venv/lib/python3.9/site-packages (from requests->-r requirements.txt (line 1)) (1.26.12)\n",
      "Requirement already satisfied: charset-normalizer<3,>=2 in ./.venv/lib/python3.9/site-packages (from requests->-r requirements.txt (line 1)) (2.1.1)\n",
      "Requirement already satisfied: idna<4,>=2.5 in ./.venv/lib/python3.9/site-packages (from requests->-r requirements.txt (line 1)) (3.3)\n",
      "Requirement already satisfied: certifi>=2017.4.17 in ./.venv/lib/python3.9/site-packages (from requests->-r requirements.txt (line 1)) (2022.6.15)\n",
      "Collecting pluggy<2.0,>=0.12\n",
      "  Using cached pluggy-1.0.0-py2.py3-none-any.whl (13 kB)\n",
      "Requirement already satisfied: attrs>=19.2.0 in ./.venv/lib/python3.9/site-packages (from pytest->-r requirements.txt (line 3)) (22.1.0)\n",
      "Requirement already satisfied: packaging in ./.venv/lib/python3.9/site-packages (from pytest->-r requirements.txt (line 3)) (21.3)\n",
      "Collecting py>=1.8.2\n",
      "  Using cached py-1.11.0-py2.py3-none-any.whl (98 kB)\n",
      "Collecting iniconfig\n",
      "  Using cached iniconfig-1.1.1-py2.py3-none-any.whl (5.0 kB)\n",
      "Collecting tomli>=1.0.0\n",
      "  Using cached tomli-2.0.1-py3-none-any.whl (12 kB)\n",
      "Requirement already satisfied: pyparsing!=3.0.5,>=2.0.2 in ./.venv/lib/python3.9/site-packages (from packaging->pytest->-r requirements.txt (line 3)) (3.0.9)\n",
      "Installing collected packages: iniconfig, tomli, python-dotenv, py, pluggy, pytest\n",
      "Successfully installed iniconfig-1.1.1 pluggy-1.0.0 py-1.11.0 pytest-7.1.3 python-dotenv-0.21.0 tomli-2.0.1\n"
     ]
    }
   ],
   "source": [
    "! pip install -r requirements.txt"
   ]
  },
  {
   "cell_type": "markdown",
   "metadata": {},
   "source": [
    "Let's update our git repo and push."
   ]
  },
  {
   "cell_type": "code",
   "execution_count": 26,
   "metadata": {},
   "outputs": [
    {
     "name": "stdout",
     "output_type": "stream",
     "text": [
      "[main bc0c373] added requirements\n",
      " 1 file changed, 299 insertions(+), 26 deletions(-)\n",
      "Host key fingerprint is SHA256:p2QAMXNIC1TJYWeIOttrVc98/R1BUFWu3/LiyKgUfQM\n",
      "+---[ECDSA 256]---+\n",
      "| .o=X*+      .o.=|\n",
      "|  .o=O         o |\n",
      "| .  . .   E   . .|\n",
      "|o     .. . .   o |\n",
      "| +   . +S o.o . .|\n",
      "|. . .  o++.... o.|\n",
      "|   o    o.   ...+|\n",
      "|  o    .   o .oo.|\n",
      "| .      ... o....|\n",
      "+----[SHA256]-----+\n",
      "Enumerating objects: 5, done.\n",
      "Counting objects: 100% (5/5), done.\n",
      "Delta compression using up to 8 threads\n",
      "Compressing objects: 100% (3/3), done.\n",
      "Writing objects: 100% (3/3), 4.28 KiB | 876.00 KiB/s, done.\n",
      "Total 3 (delta 1), reused 0 (delta 0)\n",
      "remote: Resolving deltas: 100% (1/1), completed with 1 local object.\u001b[K\n",
      "To github.com:captivus/mlsgrid_api.git\n",
      "   659b78f..bc0c373  main -> main\n"
     ]
    }
   ],
   "source": [
    "! git commit -am 'added requirements' && git push"
   ]
  },
  {
   "cell_type": "markdown",
   "metadata": {},
   "source": [
    "Hrmmm ... that didn't quite do it.  Let's check git status."
   ]
  },
  {
   "cell_type": "code",
   "execution_count": 27,
   "metadata": {},
   "outputs": [
    {
     "name": "stdout",
     "output_type": "stream",
     "text": [
      "On branch main\n",
      "Your branch is up to date with 'origin/main'.\n",
      "\n",
      "Untracked files:\n",
      "  (use \"git add <file>...\" to include in what will be committed)\n",
      "\t\u001b[31mrequirements.txt\u001b[m\n",
      "\n",
      "nothing added to commit but untracked files present (use \"git add\" to track)\n"
     ]
    }
   ],
   "source": [
    "! git status"
   ]
  },
  {
   "cell_type": "code",
   "execution_count": 29,
   "metadata": {},
   "outputs": [
    {
     "name": "stdout",
     "output_type": "stream",
     "text": [
      "[main db6f5f1] added requirements\n",
      " 1 file changed, 3 insertions(+)\n",
      " create mode 100644 requirements.txt\n",
      "Host key fingerprint is SHA256:p2QAMXNIC1TJYWeIOttrVc98/R1BUFWu3/LiyKgUfQM\n",
      "+---[ECDSA 256]---+\n",
      "| .o=X*+      .o.=|\n",
      "|  .o=O         o |\n",
      "| .  . .   E   . .|\n",
      "|o     .. . .   o |\n",
      "| +   . +S o.o . .|\n",
      "|. . .  o++.... o.|\n",
      "|   o    o.   ...+|\n",
      "|  o    .   o .oo.|\n",
      "| .      ... o....|\n",
      "+----[SHA256]-----+\n",
      "Enumerating objects: 4, done.\n",
      "Counting objects: 100% (4/4), done.\n",
      "Delta compression using up to 8 threads\n",
      "Compressing objects: 100% (2/2), done.\n",
      "Writing objects: 100% (3/3), 319 bytes | 319.00 KiB/s, done.\n",
      "Total 3 (delta 1), reused 0 (delta 0)\n",
      "remote: Resolving deltas: 100% (1/1), completed with 1 local object.\u001b[K\n",
      "To github.com:captivus/mlsgrid_api.git\n",
      "   bc0c373..db6f5f1  main -> main\n"
     ]
    }
   ],
   "source": [
    "! git add --all && git commit -m 'added requirements' && git push"
   ]
  },
  {
   "cell_type": "markdown",
   "metadata": {},
   "source": [
    "There we go!"
   ]
  },
  {
   "cell_type": "markdown",
   "metadata": {},
   "source": [
    "## Project Approach\n",
    "We'll iterate through our primary objectives, starting first with building a Python wrapper for the MLSGrid replication API."
   ]
  },
  {
   "cell_type": "markdown",
   "metadata": {},
   "source": [
    "## Python Wrapper for the MLSGrid Replication API\n",
    "We're working through the [MLSGrid API documentation here](https://docs.mlsgrid.com/api-documentation/api-version-2.0).  Let's setup the replication API.  First, we need a variable to store the API endpoint."
   ]
  },
  {
   "cell_type": "code",
   "execution_count": 30,
   "metadata": {},
   "outputs": [],
   "source": [
    "MLSGRID_API_URL = 'https://api.mlsgrid.com/v2/'"
   ]
  },
  {
   "cell_type": "markdown",
   "metadata": {},
   "source": [
    "We'll store our API bearer token in our `.env` file, and export that as an environment variable using the `load_dotenv()` method of the `dotenv` module.  We'll then pull the environment variable value using `os.environ.get()`."
   ]
  },
  {
   "cell_type": "code",
   "execution_count": 32,
   "metadata": {},
   "outputs": [],
   "source": [
    "from dotenv import load_dotenv\n",
    "import os\n",
    "\n",
    "load_dotenv()\n",
    "MLSGRID_API_TOKEN=os.environ.get('MLSGRID_API_TOKEN')"
   ]
  },
  {
   "cell_type": "markdown",
   "metadata": {},
   "source": [
    "Now that we have our API token stored, let's setup a `requests.Session` object and parameterize the headers of it to use our bearer token in accordance with the MLSGrid documentation."
   ]
  },
  {
   "cell_type": "code",
   "execution_count": 34,
   "metadata": {},
   "outputs": [],
   "source": [
    "import requests\n",
    "\n",
    "session = requests.Session()\n",
    "session.headers.update( {'Authorization' : 'Bearer ' + MLSGRID_API_TOKEN})"
   ]
  },
  {
   "cell_type": "markdown",
   "metadata": {},
   "source": [
    "We now have a requests session that we can use to query the MLSGrid API endpoint as an authorized user.  Let's test that this is working.  We'll check to see that we can access the Property entity of the API, looking only for the first result."
   ]
  },
  {
   "cell_type": "code",
   "execution_count": 62,
   "metadata": {},
   "outputs": [
    {
     "name": "stdout",
     "output_type": "stream",
     "text": [
      "<Response [200]>\n",
      "<class 'dict'>\n"
     ]
    }
   ],
   "source": [
    "import json\n",
    "\n",
    "response = session.get(url=MLSGRID_API_URL + 'Property?$top=1')\n",
    "print(response)\n",
    "print(type(response.json()))"
   ]
  },
  {
   "cell_type": "markdown",
   "metadata": {},
   "source": [
    "We see, here, that we've managed to pull a response from the MLSGrid API, with [HTTP response code 200](https://developer.mozilla.org/en-US/docs/Web/HTTP/Status/200) meaning that our request was successful!  \n",
    "\n",
    "We also see that we can cast the response to JSON and we get a dictionary back.  We can \"pretty print\" that JSON dictionary as follows."
   ]
  },
  {
   "cell_type": "code",
   "execution_count": 57,
   "metadata": {},
   "outputs": [
    {
     "data": {
      "text/plain": [
       "{'@odata.context': 'https://api.mlsgrid.com/v2/$metadata#Property',\n",
       " 'value': [{'@odata.id': \"https://api.mlsgrid.com/v2/Property('MRD05253841')\",\n",
       "   'MRD_AAN': '847-309-1177',\n",
       "   'LotSizeAcres': 0.25,\n",
       "   'RoomType': ['Utility Room-1st Floor'],\n",
       "   'SpecialListingConditions': ['None'],\n",
       "   'InternetAddressDisplayYN': True,\n",
       "   'MRD_AGE': '26-50 Years',\n",
       "   'Cooling': ['Central Air'],\n",
       "   'CommunityFeatures': ['Water Rights'],\n",
       "   'MRD_AMT': '0',\n",
       "   'MRD_AON': 'Yes',\n",
       "   'Appliances': ['Range',\n",
       "    'Microwave',\n",
       "    'Dishwasher',\n",
       "    'Refrigerator',\n",
       "    'Washer',\n",
       "    'Dryer'],\n",
       "   'MLSAreaMajor': 'Wauconda',\n",
       "   'LivingArea': 0,\n",
       "   'LivingAreaSource': 'Not Reported',\n",
       "   'AssociationFee': 0,\n",
       "   'MRD_ATC': 'Full',\n",
       "   'MRD_B78': 'Yes',\n",
       "   'MRD_BAS': 'Crawl',\n",
       "   'MRD_BB': 'No',\n",
       "   'Basement': ['None'],\n",
       "   'MRD_BOARDNUM': '2',\n",
       "   'BedroomsTotal': 3,\n",
       "   'BedroomsPossible': 3,\n",
       "   'MRD_BRBELOW': '0',\n",
       "   'MRD_CARS': '4',\n",
       "   'BuyerAgencyCompensation': '2.5%-100',\n",
       "   'City': 'WAUCONDA',\n",
       "   'CloseDate': '2007-01-02',\n",
       "   'CountyOrParish': 'Lake',\n",
       "   'PurchaseContractDate': '2006-04-08',\n",
       "   'MRD_CRP': 'WAUCONDA',\n",
       "   'LotSizeDimensions': '75X125',\n",
       "   'MRD_DIN': 'Separate',\n",
       "   'Directions': '176 E OF MAIN TO RIDGE S TO KIMBALL E TO HOME',\n",
       "   'MRD_DRV': 'Concrete',\n",
       "   'MRD_E': '0',\n",
       "   'Electric': ['Circuit Breakers'],\n",
       "   'OtherEquipment': ['TV-Cable'],\n",
       "   'MRD_EXT': 'Cedar',\n",
       "   'MRD_FIN': 'Conventional',\n",
       "   'MRD_FIREPLACE_LOCATION': 'Living Room',\n",
       "   'FoundationDetails': ['Concrete Perimeter'],\n",
       "   'FireplacesTotal': 1,\n",
       "   'FireplaceFeatures': ['Wood Burning'],\n",
       "   'MRD_FRANCHISOR_FEED': 'No',\n",
       "   'AssociationFeeFrequency': 'Not Applicable',\n",
       "   'BathroomsFull': 1,\n",
       "   'BathroomsTotalInteger': 1,\n",
       "   'MRD_GAR': 'None/NA',\n",
       "   'MRD_GARAGE_OWNERSHIP': 'N/A',\n",
       "   'ElementarySchool': 'ROBERT CROWN ELEMENTARY SCHOOL',\n",
       "   'ElementarySchoolDistrict': '118',\n",
       "   'Heating': ['Natural Gas', 'Forced Air'],\n",
       "   'MRD_HEM': 'Yes',\n",
       "   'HighSchool': 'WAUCON',\n",
       "   'HighSchoolDistrict': '118',\n",
       "   'StreetNumber': '551',\n",
       "   'MRD_IDX': 'Y',\n",
       "   'Sewer': ['Public Sewer'],\n",
       "   'WaterSource': ['Community Well'],\n",
       "   'MRD_INF': 'None',\n",
       "   'InternetEntireListingDisplayYN': True,\n",
       "   'MiddleOrJuniorSchool': 'WAUCON',\n",
       "   'MiddleOrJuniorSchoolDistrict': '118',\n",
       "   'MRD_LACITY': 'Barrington',\n",
       "   'ListAgentEmail': 'NINABELLINE@AOL.COM; nina.belline@bairdwarner.com',\n",
       "   'ListAgentFirstName': 'Nina',\n",
       "   'ListAgentMlsId': 'MRD62445',\n",
       "   'ListAgentKey': 'MRD62445',\n",
       "   'ListAgentLastName': 'Belline',\n",
       "   'ListAgentOfficePhone': '847-309-1177',\n",
       "   'MRD_LASTATE': 'IL',\n",
       "   'MRD_LASTREETNAME': 'Farnsworth',\n",
       "   'MRD_LASTREETNUMBER': '431',\n",
       "   'MRD_LAZIP': '60010',\n",
       "   'ListingContractDate': '2005-10-04',\n",
       "   'OriginalEntryTimestamp': '2005-10-04T05:00:00.000Z',\n",
       "   'LotFeatures': ['Channel Front', 'Water View', 'Wooded'],\n",
       "   'ListingAgreement': 'Exclusive Right To Sell',\n",
       "   'PreviousListPrice': 189900,\n",
       "   'DaysOnMarket': 187,\n",
       "   'ListingKey': 'MRD05253841',\n",
       "   'ListingId': 'MRD05253841',\n",
       "   'MRD_LO_LOCATION': '8002',\n",
       "   'MRD_LOCITY': 'Arlington Heights',\n",
       "   'ListOfficeFax': '(847) 392-0678',\n",
       "   'ListOfficeMlsId': 'MRD3149',\n",
       "   'ListOfficeKey': 'MRD3149',\n",
       "   'ListOfficeName': 'Baird & Warner',\n",
       "   'ListOfficePhone': '847-392-1855',\n",
       "   'MRD_LOSTATE': 'IL',\n",
       "   'MRD_LOSTREETNAME': 'Northwest Hwy',\n",
       "   'MRD_LOSTREETNUMBER': '210',\n",
       "   'ListOfficeURL': 'www.bairdwarner.com',\n",
       "   'MRD_LOZIP': '60004',\n",
       "   'ListPrice': 184500,\n",
       "   'MRD_LSZ': '.25-.49 Acre',\n",
       "   'AssociationFeeIncludes': ['None'],\n",
       "   'MRD_MANAGINGBROKER': 'No',\n",
       "   'MRD_MC': 'Off-Market',\n",
       "   'Model': 'RANCH',\n",
       "   'AdditionalParcelsYN': False,\n",
       "   'CumulativeDaysOnMarket': 187,\n",
       "   'MRD_N': '27',\n",
       "   'NewConstructionYN': False,\n",
       "   'ParkingTotal': 4,\n",
       "   'OriginalListPrice': 194500,\n",
       "   'OffMarketDate': '2006-04-08',\n",
       "   'MRD_OMT': '0',\n",
       "   'OwnerPhone': '847-459-5600',\n",
       "   'Ownership': 'Fee Simple',\n",
       "   'OwnerName': 'OF RECORD',\n",
       "   'ParkingFeatures': ['Unassigned'],\n",
       "   'PhotosCount': 1,\n",
       "   'ParcelNumber': '09253060250000',\n",
       "   'MRD_PKN': 'Space/s',\n",
       "   'Possession': ['Closing'],\n",
       "   'OriginatingSystemModificationTimestamp': '2007-01-02T21:32:57.000Z',\n",
       "   'MRD_RECORDMODDATE': '2007-01-02T21:32:57.000Z',\n",
       "   'PublicRemarks': \"DAZZLING UPDATED RANCH FEATURING NEWER WHITE CABINETS, NEWER FLOORING. POLISHED HARDWOOD FLOORS IN ALL THE BEDROOMS COZY LIVING ROOM WITH WOOD BURNING FIREPLACE. SPACIOUS FAMILY ROOM, COMPLETE NEWER BATH, CHANNEL IN THE BACK YARD AND LAKE RIGHTS. DON'T MISS THIS ONE ITS ADORABLE!!!!     \",\n",
       "   'MRD_REMARKSINTERNET': 'Yes',\n",
       "   'PropertyType': 'Residential',\n",
       "   'MRD_TYP': 'Detached Single',\n",
       "   'RoomsTotal': 7,\n",
       "   'Roof': ['Asphalt'],\n",
       "   'MRD_S': '0',\n",
       "   'MRD_SACITY': 'MUNDELEIN',\n",
       "   'BuyerAgentEmail': 'jcbratta@earthlink.net',\n",
       "   'BuyerAgentFax': '(847) 566-1490',\n",
       "   'BuyerAgentFirstName': 'Chris',\n",
       "   'BuyerAgentMlsId': 'MRD20789',\n",
       "   'BuyerAgentKey': 'MRD20789',\n",
       "   'BuyerAgentLastName': 'Bratta',\n",
       "   'BuyerAgentOfficePhone': '847-732-7212',\n",
       "   'MRD_SAS': 'N',\n",
       "   'MRD_SASTATE': 'IL',\n",
       "   'MRD_SASTREETNAME': 'PRIMROSE LANE',\n",
       "   'MRD_SASTREETNUMBER': '27566',\n",
       "   'MRD_SAZIP': '60060',\n",
       "   'MRD_SCI': 'None',\n",
       "   'Concessions': 'No',\n",
       "   'ShowingInstructions': 'CALL LISTING OFFICE',\n",
       "   'MRD_SO_LOCATION': '2512',\n",
       "   'MRD_SOCITY': 'Mundelein',\n",
       "   'BuyerOfficeEmail': 'c21bbrua@gmail.com',\n",
       "   'BuyerOfficeFax': '(847) 566-0587',\n",
       "   'BuyerOfficeMlsId': 'MRD2512',\n",
       "   'BuyerOfficeKey': 'MRD2512',\n",
       "   'BuyerOfficeName': 'Century 21 Market Place, Ltd.',\n",
       "   'BuyerOfficePhone': '847-949-7100',\n",
       "   'MRD_SOSTATE': 'IL',\n",
       "   'MRD_SOSTREETNAME': 'N. Lake Street',\n",
       "   'MRD_SOSTREETNUMBER': '700',\n",
       "   'MRD_SOZIP': '60060',\n",
       "   'ClosePrice': 181000,\n",
       "   'MlsStatus': 'Closed',\n",
       "   'StandardStatus': 'Closed',\n",
       "   'StateOrProvince': 'IL',\n",
       "   'StatusChangeTimestamp': '2007-01-02T21:32:57.000Z',\n",
       "   'StreetName': 'KIMBALL AVENUE',\n",
       "   'ArchitecturalStyle': ['Ranch'],\n",
       "   'TaxAnnualAmount': 2881,\n",
       "   'MRD_TPE': '1 Story',\n",
       "   'BuyerFinancing': ['Conventional', 'FHA', 'VA'],\n",
       "   'Township': 'WAUCOND',\n",
       "   'MRD_TXC': 'Homeowner',\n",
       "   'TaxYear': 2004,\n",
       "   'MRD_UD': '2007-01-02T21:32:57',\n",
       "   'MRD_VT': 'None',\n",
       "   'MRD_VTDATE': '2006-09-19T08:40:51',\n",
       "   'MRD_W': '25',\n",
       "   'WaterfrontYN': True,\n",
       "   'PostalCode': '60084',\n",
       "   'PostalCodePlus4': '0',\n",
       "   'OriginatingSystemName': 'mred',\n",
       "   'ModificationTimestamp': '2021-05-04T20:27:18.208Z',\n",
       "   'PhotosChangeTimestamp': '2021-05-04T20:27:18.208Z',\n",
       "   'MlgCanView': True}],\n",
       " '@odata.nextLink': 'https://api.mlsgrid.com/v2/Property?$top=1&$skip=1'}"
      ]
     },
     "execution_count": 57,
     "metadata": {},
     "output_type": "execute_result"
    }
   ],
   "source": [
    "response.json()"
   ]
  },
  {
   "cell_type": "code",
   "execution_count": 65,
   "metadata": {},
   "outputs": [
    {
     "name": "stdout",
     "output_type": "stream",
     "text": [
      "{\n",
      "    \"@odata.context\": \"https://api.mlsgrid.com/v2/$metadata#Property\",\n",
      "    \"value\": [\n",
      "        {\n",
      "            \"@odata.id\": \"https://api.mlsgrid.com/v2/Property('MRD05253841')\",\n",
      "            \"MRD_AAN\": \"847-309-1177\",\n",
      "            \"LotSizeAcres\": 0.25,\n",
      "            \"RoomType\": [\n",
      "                \"Utility Room-1st Floor\"\n",
      "            ],\n",
      "            \"SpecialListingConditions\": [\n",
      "                \"None\"\n",
      "            ],\n",
      "            \"InternetAddressDisplayYN\": true,\n",
      "            \"MRD_AGE\": \"26-50 Years\",\n",
      "            \"Cooling\": [\n",
      "                \"Central Air\"\n",
      "            ],\n",
      "            \"CommunityFeatures\": [\n",
      "                \"Water Rights\"\n",
      "            ],\n",
      "            \"MRD_AMT\": \"0\",\n",
      "            \"MRD_AON\": \"Yes\",\n",
      "            \"Appliances\": [\n",
      "                \"Range\",\n",
      "                \"Microwave\",\n",
      "                \"Dishwasher\",\n",
      "                \"Refrigerator\",\n",
      "                \"Washer\",\n",
      "                \"Dryer\"\n",
      "            ],\n",
      "            \"MLSAreaMajor\": \"Wauconda\",\n",
      "            \"LivingArea\": 0,\n",
      "            \"LivingAreaSource\": \"Not Reported\",\n",
      "            \"AssociationFee\": 0,\n",
      "            \"MRD_ATC\": \"Full\",\n",
      "            \"MRD_B78\": \"Yes\",\n",
      "            \"MRD_BAS\": \"Crawl\",\n",
      "            \"MRD_BB\": \"No\",\n",
      "            \"Basement\": [\n",
      "                \"None\"\n",
      "            ],\n",
      "            \"MRD_BOARDNUM\": \"2\",\n",
      "            \"BedroomsTotal\": 3,\n",
      "            \"BedroomsPossible\": 3,\n",
      "            \"MRD_BRBELOW\": \"0\",\n",
      "            \"MRD_CARS\": \"4\",\n",
      "            \"BuyerAgencyCompensation\": \"2.5%-100\",\n",
      "            \"City\": \"WAUCONDA\",\n",
      "            \"CloseDate\": \"2007-01-02\",\n",
      "            \"CountyOrParish\": \"Lake\",\n",
      "            \"PurchaseContractDate\": \"2006-04-08\",\n",
      "            \"MRD_CRP\": \"WAUCONDA\",\n",
      "            \"LotSizeDimensions\": \"75X125\",\n",
      "            \"MRD_DIN\": \"Separate\",\n",
      "            \"Directions\": \"176 E OF MAIN TO RIDGE S TO KIMBALL E TO HOME\",\n",
      "            \"MRD_DRV\": \"Concrete\",\n",
      "            \"MRD_E\": \"0\",\n",
      "            \"Electric\": [\n",
      "                \"Circuit Breakers\"\n",
      "            ],\n",
      "            \"OtherEquipment\": [\n",
      "                \"TV-Cable\"\n",
      "            ],\n",
      "            \"MRD_EXT\": \"Cedar\",\n",
      "            \"MRD_FIN\": \"Conventional\",\n",
      "            \"MRD_FIREPLACE_LOCATION\": \"Living Room\",\n",
      "            \"FoundationDetails\": [\n",
      "                \"Concrete Perimeter\"\n",
      "            ],\n",
      "            \"FireplacesTotal\": 1,\n",
      "            \"FireplaceFeatures\": [\n",
      "                \"Wood Burning\"\n",
      "            ],\n",
      "            \"MRD_FRANCHISOR_FEED\": \"No\",\n",
      "            \"AssociationFeeFrequency\": \"Not Applicable\",\n",
      "            \"BathroomsFull\": 1,\n",
      "            \"BathroomsTotalInteger\": 1,\n",
      "            \"MRD_GAR\": \"None/NA\",\n",
      "            \"MRD_GARAGE_OWNERSHIP\": \"N/A\",\n",
      "            \"ElementarySchool\": \"ROBERT CROWN ELEMENTARY SCHOOL\",\n",
      "            \"ElementarySchoolDistrict\": \"118\",\n",
      "            \"Heating\": [\n",
      "                \"Natural Gas\",\n",
      "                \"Forced Air\"\n",
      "            ],\n",
      "            \"MRD_HEM\": \"Yes\",\n",
      "            \"HighSchool\": \"WAUCON\",\n",
      "            \"HighSchoolDistrict\": \"118\",\n",
      "            \"StreetNumber\": \"551\",\n",
      "            \"MRD_IDX\": \"Y\",\n",
      "            \"Sewer\": [\n",
      "                \"Public Sewer\"\n",
      "            ],\n",
      "            \"WaterSource\": [\n",
      "                \"Community Well\"\n",
      "            ],\n",
      "            \"MRD_INF\": \"None\",\n",
      "            \"InternetEntireListingDisplayYN\": true,\n",
      "            \"MiddleOrJuniorSchool\": \"WAUCON\",\n",
      "            \"MiddleOrJuniorSchoolDistrict\": \"118\",\n",
      "            \"MRD_LACITY\": \"Barrington\",\n",
      "            \"ListAgentEmail\": \"NINABELLINE@AOL.COM; nina.belline@bairdwarner.com\",\n",
      "            \"ListAgentFirstName\": \"Nina\",\n",
      "            \"ListAgentMlsId\": \"MRD62445\",\n",
      "            \"ListAgentKey\": \"MRD62445\",\n",
      "            \"ListAgentLastName\": \"Belline\",\n",
      "            \"ListAgentOfficePhone\": \"847-309-1177\",\n",
      "            \"MRD_LASTATE\": \"IL\",\n",
      "            \"MRD_LASTREETNAME\": \"Farnsworth\",\n",
      "            \"MRD_LASTREETNUMBER\": \"431\",\n",
      "            \"MRD_LAZIP\": \"60010\",\n",
      "            \"ListingContractDate\": \"2005-10-04\",\n",
      "            \"OriginalEntryTimestamp\": \"2005-10-04T05:00:00.000Z\",\n",
      "            \"LotFeatures\": [\n",
      "                \"Channel Front\",\n",
      "                \"Water View\",\n",
      "                \"Wooded\"\n",
      "            ],\n",
      "            \"ListingAgreement\": \"Exclusive Right To Sell\",\n",
      "            \"PreviousListPrice\": 189900,\n",
      "            \"DaysOnMarket\": 187,\n",
      "            \"ListingKey\": \"MRD05253841\",\n",
      "            \"ListingId\": \"MRD05253841\",\n",
      "            \"MRD_LO_LOCATION\": \"8002\",\n",
      "            \"MRD_LOCITY\": \"Arlington Heights\",\n",
      "            \"ListOfficeFax\": \"(847) 392-0678\",\n",
      "            \"ListOfficeMlsId\": \"MRD3149\",\n",
      "            \"ListOfficeKey\": \"MRD3149\",\n",
      "            \"ListOfficeName\": \"Baird & Warner\",\n",
      "            \"ListOfficePhone\": \"847-392-1855\",\n",
      "            \"MRD_LOSTATE\": \"IL\",\n",
      "            \"MRD_LOSTREETNAME\": \"Northwest Hwy\",\n",
      "            \"MRD_LOSTREETNUMBER\": \"210\",\n",
      "            \"ListOfficeURL\": \"www.bairdwarner.com\",\n",
      "            \"MRD_LOZIP\": \"60004\",\n",
      "            \"ListPrice\": 184500,\n",
      "            \"MRD_LSZ\": \".25-.49 Acre\",\n",
      "            \"AssociationFeeIncludes\": [\n",
      "                \"None\"\n",
      "            ],\n",
      "            \"MRD_MANAGINGBROKER\": \"No\",\n",
      "            \"MRD_MC\": \"Off-Market\",\n",
      "            \"Model\": \"RANCH\",\n",
      "            \"AdditionalParcelsYN\": false,\n",
      "            \"CumulativeDaysOnMarket\": 187,\n",
      "            \"MRD_N\": \"27\",\n",
      "            \"NewConstructionYN\": false,\n",
      "            \"ParkingTotal\": 4,\n",
      "            \"OriginalListPrice\": 194500,\n",
      "            \"OffMarketDate\": \"2006-04-08\",\n",
      "            \"MRD_OMT\": \"0\",\n",
      "            \"OwnerPhone\": \"847-459-5600\",\n",
      "            \"Ownership\": \"Fee Simple\",\n",
      "            \"OwnerName\": \"OF RECORD\",\n",
      "            \"ParkingFeatures\": [\n",
      "                \"Unassigned\"\n",
      "            ],\n",
      "            \"PhotosCount\": 1,\n",
      "            \"ParcelNumber\": \"09253060250000\",\n",
      "            \"MRD_PKN\": \"Space/s\",\n",
      "            \"Possession\": [\n",
      "                \"Closing\"\n",
      "            ],\n",
      "            \"OriginatingSystemModificationTimestamp\": \"2007-01-02T21:32:57.000Z\",\n",
      "            \"MRD_RECORDMODDATE\": \"2007-01-02T21:32:57.000Z\",\n",
      "            \"PublicRemarks\": \"DAZZLING UPDATED RANCH FEATURING NEWER WHITE CABINETS, NEWER FLOORING. POLISHED HARDWOOD FLOORS IN ALL THE BEDROOMS COZY LIVING ROOM WITH WOOD BURNING FIREPLACE. SPACIOUS FAMILY ROOM, COMPLETE NEWER BATH, CHANNEL IN THE BACK YARD AND LAKE RIGHTS. DON'T MISS THIS ONE ITS ADORABLE!!!!     \",\n",
      "            \"MRD_REMARKSINTERNET\": \"Yes\",\n",
      "            \"PropertyType\": \"Residential\",\n",
      "            \"MRD_TYP\": \"Detached Single\",\n",
      "            \"RoomsTotal\": 7,\n",
      "            \"Roof\": [\n",
      "                \"Asphalt\"\n",
      "            ],\n",
      "            \"MRD_S\": \"0\",\n",
      "            \"MRD_SACITY\": \"MUNDELEIN\",\n",
      "            \"BuyerAgentEmail\": \"jcbratta@earthlink.net\",\n",
      "            \"BuyerAgentFax\": \"(847) 566-1490\",\n",
      "            \"BuyerAgentFirstName\": \"Chris\",\n",
      "            \"BuyerAgentMlsId\": \"MRD20789\",\n",
      "            \"BuyerAgentKey\": \"MRD20789\",\n",
      "            \"BuyerAgentLastName\": \"Bratta\",\n",
      "            \"BuyerAgentOfficePhone\": \"847-732-7212\",\n",
      "            \"MRD_SAS\": \"N\",\n",
      "            \"MRD_SASTATE\": \"IL\",\n",
      "            \"MRD_SASTREETNAME\": \"PRIMROSE LANE\",\n",
      "            \"MRD_SASTREETNUMBER\": \"27566\",\n",
      "            \"MRD_SAZIP\": \"60060\",\n",
      "            \"MRD_SCI\": \"None\",\n",
      "            \"Concessions\": \"No\",\n",
      "            \"ShowingInstructions\": \"CALL LISTING OFFICE\",\n",
      "            \"MRD_SO_LOCATION\": \"2512\",\n",
      "            \"MRD_SOCITY\": \"Mundelein\",\n",
      "            \"BuyerOfficeEmail\": \"c21bbrua@gmail.com\",\n",
      "            \"BuyerOfficeFax\": \"(847) 566-0587\",\n",
      "            \"BuyerOfficeMlsId\": \"MRD2512\",\n",
      "            \"BuyerOfficeKey\": \"MRD2512\",\n",
      "            \"BuyerOfficeName\": \"Century 21 Market Place, Ltd.\",\n",
      "            \"BuyerOfficePhone\": \"847-949-7100\",\n",
      "            \"MRD_SOSTATE\": \"IL\",\n",
      "            \"MRD_SOSTREETNAME\": \"N. Lake Street\",\n",
      "            \"MRD_SOSTREETNUMBER\": \"700\",\n",
      "            \"MRD_SOZIP\": \"60060\",\n",
      "            \"ClosePrice\": 181000,\n",
      "            \"MlsStatus\": \"Closed\",\n",
      "            \"StandardStatus\": \"Closed\",\n",
      "            \"StateOrProvince\": \"IL\",\n",
      "            \"StatusChangeTimestamp\": \"2007-01-02T21:32:57.000Z\",\n",
      "            \"StreetName\": \"KIMBALL AVENUE\",\n",
      "            \"ArchitecturalStyle\": [\n",
      "                \"Ranch\"\n",
      "            ],\n",
      "            \"TaxAnnualAmount\": 2881,\n",
      "            \"MRD_TPE\": \"1 Story\",\n",
      "            \"BuyerFinancing\": [\n",
      "                \"Conventional\",\n",
      "                \"FHA\",\n",
      "                \"VA\"\n",
      "            ],\n",
      "            \"Township\": \"WAUCOND\",\n",
      "            \"MRD_TXC\": \"Homeowner\",\n",
      "            \"TaxYear\": 2004,\n",
      "            \"MRD_UD\": \"2007-01-02T21:32:57\",\n",
      "            \"MRD_VT\": \"None\",\n",
      "            \"MRD_VTDATE\": \"2006-09-19T08:40:51\",\n",
      "            \"MRD_W\": \"25\",\n",
      "            \"WaterfrontYN\": true,\n",
      "            \"PostalCode\": \"60084\",\n",
      "            \"PostalCodePlus4\": \"0\",\n",
      "            \"OriginatingSystemName\": \"mred\",\n",
      "            \"ModificationTimestamp\": \"2021-05-04T20:27:18.208Z\",\n",
      "            \"PhotosChangeTimestamp\": \"2021-05-04T20:27:18.208Z\",\n",
      "            \"MlgCanView\": true\n",
      "        }\n",
      "    ],\n",
      "    \"@odata.nextLink\": \"https://api.mlsgrid.com/v2/Property?$top=1&$skip=1\"\n",
      "}\n"
     ]
    }
   ],
   "source": [
    "parsed = json.dumps(response.json(), indent=4)\n",
    "print(parsed)"
   ]
  },
  {
   "cell_type": "markdown",
   "metadata": {},
   "source": [
    "Per the MLSGrid API documentation there are [expanded resources](https://docs.mlsgrid.com/api-documentation/api-version-2.0#resource-naming-1) that we will be querying so that they are embedded in the data returned to us.  These expanded resource names are as follows.\n",
    "\n",
    "| Expanded Resource Name | Resources that can Expand this Resource | Description |\n",
    "| ----- | ----- | -----|\n",
    "| Media | Property, Member, Office | Media expandable resource. These are the media files associated with a Property, Member, or Office record. |\n",
    "| Rooms | Property | Rooms expandable resource. These are the Room records associated with a Property record. |\n",
    "| UnitTypes | Property | UnitTypes expandable resource. These are the UnitType records associated with a Property record. |\n",
    "\n",
    "We'll add these expanded resources to the query we pass the API just now to make sure we're getting all of the data that we're after."
   ]
  },
  {
   "cell_type": "code",
   "execution_count": 108,
   "metadata": {},
   "outputs": [
    {
     "name": "stdout",
     "output_type": "stream",
     "text": [
      "{\n",
      "    \"@odata.context\": \"https://api.mlsgrid.com/v2/$metadata#Property\",\n",
      "    \"value\": [\n",
      "        {\n",
      "            \"@odata.id\": \"https://api.mlsgrid.com/v2/Property('MRD05253841')\",\n",
      "            \"MRD_AAN\": \"847-309-1177\",\n",
      "            \"LotSizeAcres\": 0.25,\n",
      "            \"RoomType\": [\n",
      "                \"Utility Room-1st Floor\"\n",
      "            ],\n",
      "            \"SpecialListingConditions\": [\n",
      "                \"None\"\n",
      "            ],\n",
      "            \"InternetAddressDisplayYN\": true,\n",
      "            \"MRD_AGE\": \"26-50 Years\",\n",
      "            \"Cooling\": [\n",
      "                \"Central Air\"\n",
      "            ],\n",
      "            \"CommunityFeatures\": [\n",
      "                \"Water Rights\"\n",
      "            ],\n",
      "            \"MRD_AMT\": \"0\",\n",
      "            \"MRD_AON\": \"Yes\",\n",
      "            \"Appliances\": [\n",
      "                \"Range\",\n",
      "                \"Microwave\",\n",
      "                \"Dishwasher\",\n",
      "                \"Refrigerator\",\n",
      "                \"Washer\",\n",
      "                \"Dryer\"\n",
      "            ],\n",
      "            \"MLSAreaMajor\": \"Wauconda\",\n",
      "            \"LivingArea\": 0,\n",
      "            \"LivingAreaSource\": \"Not Reported\",\n",
      "            \"AssociationFee\": 0,\n",
      "            \"MRD_ATC\": \"Full\",\n",
      "            \"MRD_B78\": \"Yes\",\n",
      "            \"MRD_BAS\": \"Crawl\",\n",
      "            \"MRD_BB\": \"No\",\n",
      "            \"Basement\": [\n",
      "                \"None\"\n",
      "            ],\n",
      "            \"MRD_BOARDNUM\": \"2\",\n",
      "            \"BedroomsTotal\": 3,\n",
      "            \"BedroomsPossible\": 3,\n",
      "            \"MRD_BRBELOW\": \"0\",\n",
      "            \"MRD_CARS\": \"4\",\n",
      "            \"BuyerAgencyCompensation\": \"2.5%-100\",\n",
      "            \"City\": \"WAUCONDA\",\n",
      "            \"CloseDate\": \"2007-01-02\",\n",
      "            \"CountyOrParish\": \"Lake\",\n",
      "            \"PurchaseContractDate\": \"2006-04-08\",\n",
      "            \"MRD_CRP\": \"WAUCONDA\",\n",
      "            \"LotSizeDimensions\": \"75X125\",\n",
      "            \"MRD_DIN\": \"Separate\",\n",
      "            \"Directions\": \"176 E OF MAIN TO RIDGE S TO KIMBALL E TO HOME\",\n",
      "            \"MRD_DRV\": \"Concrete\",\n",
      "            \"MRD_E\": \"0\",\n",
      "            \"Electric\": [\n",
      "                \"Circuit Breakers\"\n",
      "            ],\n",
      "            \"OtherEquipment\": [\n",
      "                \"TV-Cable\"\n",
      "            ],\n",
      "            \"MRD_EXT\": \"Cedar\",\n",
      "            \"MRD_FIN\": \"Conventional\",\n",
      "            \"MRD_FIREPLACE_LOCATION\": \"Living Room\",\n",
      "            \"FoundationDetails\": [\n",
      "                \"Concrete Perimeter\"\n",
      "            ],\n",
      "            \"FireplacesTotal\": 1,\n",
      "            \"FireplaceFeatures\": [\n",
      "                \"Wood Burning\"\n",
      "            ],\n",
      "            \"MRD_FRANCHISOR_FEED\": \"No\",\n",
      "            \"AssociationFeeFrequency\": \"Not Applicable\",\n",
      "            \"BathroomsFull\": 1,\n",
      "            \"BathroomsTotalInteger\": 1,\n",
      "            \"MRD_GAR\": \"None/NA\",\n",
      "            \"MRD_GARAGE_OWNERSHIP\": \"N/A\",\n",
      "            \"ElementarySchool\": \"ROBERT CROWN ELEMENTARY SCHOOL\",\n",
      "            \"ElementarySchoolDistrict\": \"118\",\n",
      "            \"Heating\": [\n",
      "                \"Natural Gas\",\n",
      "                \"Forced Air\"\n",
      "            ],\n",
      "            \"MRD_HEM\": \"Yes\",\n",
      "            \"HighSchool\": \"WAUCON\",\n",
      "            \"HighSchoolDistrict\": \"118\",\n",
      "            \"StreetNumber\": \"551\",\n",
      "            \"MRD_IDX\": \"Y\",\n",
      "            \"Sewer\": [\n",
      "                \"Public Sewer\"\n",
      "            ],\n",
      "            \"WaterSource\": [\n",
      "                \"Community Well\"\n",
      "            ],\n",
      "            \"MRD_INF\": \"None\",\n",
      "            \"InternetEntireListingDisplayYN\": true,\n",
      "            \"MiddleOrJuniorSchool\": \"WAUCON\",\n",
      "            \"MiddleOrJuniorSchoolDistrict\": \"118\",\n",
      "            \"MRD_LACITY\": \"Barrington\",\n",
      "            \"ListAgentEmail\": \"NINABELLINE@AOL.COM; nina.belline@bairdwarner.com\",\n",
      "            \"ListAgentFirstName\": \"Nina\",\n",
      "            \"ListAgentMlsId\": \"MRD62445\",\n",
      "            \"ListAgentKey\": \"MRD62445\",\n",
      "            \"ListAgentLastName\": \"Belline\",\n",
      "            \"ListAgentOfficePhone\": \"847-309-1177\",\n",
      "            \"MRD_LASTATE\": \"IL\",\n",
      "            \"MRD_LASTREETNAME\": \"Farnsworth\",\n",
      "            \"MRD_LASTREETNUMBER\": \"431\",\n",
      "            \"MRD_LAZIP\": \"60010\",\n",
      "            \"ListingContractDate\": \"2005-10-04\",\n",
      "            \"OriginalEntryTimestamp\": \"2005-10-04T05:00:00.000Z\",\n",
      "            \"LotFeatures\": [\n",
      "                \"Channel Front\",\n",
      "                \"Water View\",\n",
      "                \"Wooded\"\n",
      "            ],\n",
      "            \"ListingAgreement\": \"Exclusive Right To Sell\",\n",
      "            \"PreviousListPrice\": 189900,\n",
      "            \"DaysOnMarket\": 187,\n",
      "            \"ListingKey\": \"MRD05253841\",\n",
      "            \"ListingId\": \"MRD05253841\",\n",
      "            \"MRD_LO_LOCATION\": \"8002\",\n",
      "            \"MRD_LOCITY\": \"Arlington Heights\",\n",
      "            \"ListOfficeFax\": \"(847) 392-0678\",\n",
      "            \"ListOfficeMlsId\": \"MRD3149\",\n",
      "            \"ListOfficeKey\": \"MRD3149\",\n",
      "            \"ListOfficeName\": \"Baird & Warner\",\n",
      "            \"ListOfficePhone\": \"847-392-1855\",\n",
      "            \"MRD_LOSTATE\": \"IL\",\n",
      "            \"MRD_LOSTREETNAME\": \"Northwest Hwy\",\n",
      "            \"MRD_LOSTREETNUMBER\": \"210\",\n",
      "            \"ListOfficeURL\": \"www.bairdwarner.com\",\n",
      "            \"MRD_LOZIP\": \"60004\",\n",
      "            \"ListPrice\": 184500,\n",
      "            \"MRD_LSZ\": \".25-.49 Acre\",\n",
      "            \"AssociationFeeIncludes\": [\n",
      "                \"None\"\n",
      "            ],\n",
      "            \"MRD_MANAGINGBROKER\": \"No\",\n",
      "            \"MRD_MC\": \"Off-Market\",\n",
      "            \"Model\": \"RANCH\",\n",
      "            \"AdditionalParcelsYN\": false,\n",
      "            \"CumulativeDaysOnMarket\": 187,\n",
      "            \"MRD_N\": \"27\",\n",
      "            \"NewConstructionYN\": false,\n",
      "            \"ParkingTotal\": 4,\n",
      "            \"OriginalListPrice\": 194500,\n",
      "            \"OffMarketDate\": \"2006-04-08\",\n",
      "            \"MRD_OMT\": \"0\",\n",
      "            \"OwnerPhone\": \"847-459-5600\",\n",
      "            \"Ownership\": \"Fee Simple\",\n",
      "            \"OwnerName\": \"OF RECORD\",\n",
      "            \"ParkingFeatures\": [\n",
      "                \"Unassigned\"\n",
      "            ],\n",
      "            \"PhotosCount\": 1,\n",
      "            \"ParcelNumber\": \"09253060250000\",\n",
      "            \"MRD_PKN\": \"Space/s\",\n",
      "            \"Possession\": [\n",
      "                \"Closing\"\n",
      "            ],\n",
      "            \"OriginatingSystemModificationTimestamp\": \"2007-01-02T21:32:57.000Z\",\n",
      "            \"MRD_RECORDMODDATE\": \"2007-01-02T21:32:57.000Z\",\n",
      "            \"PublicRemarks\": \"DAZZLING UPDATED RANCH FEATURING NEWER WHITE CABINETS, NEWER FLOORING. POLISHED HARDWOOD FLOORS IN ALL THE BEDROOMS COZY LIVING ROOM WITH WOOD BURNING FIREPLACE. SPACIOUS FAMILY ROOM, COMPLETE NEWER BATH, CHANNEL IN THE BACK YARD AND LAKE RIGHTS. DON'T MISS THIS ONE ITS ADORABLE!!!!     \",\n",
      "            \"MRD_REMARKSINTERNET\": \"Yes\",\n",
      "            \"PropertyType\": \"Residential\",\n",
      "            \"MRD_TYP\": \"Detached Single\",\n",
      "            \"RoomsTotal\": 7,\n",
      "            \"Roof\": [\n",
      "                \"Asphalt\"\n",
      "            ],\n",
      "            \"MRD_S\": \"0\",\n",
      "            \"MRD_SACITY\": \"MUNDELEIN\",\n",
      "            \"BuyerAgentEmail\": \"jcbratta@earthlink.net\",\n",
      "            \"BuyerAgentFax\": \"(847) 566-1490\",\n",
      "            \"BuyerAgentFirstName\": \"Chris\",\n",
      "            \"BuyerAgentMlsId\": \"MRD20789\",\n",
      "            \"BuyerAgentKey\": \"MRD20789\",\n",
      "            \"BuyerAgentLastName\": \"Bratta\",\n",
      "            \"BuyerAgentOfficePhone\": \"847-732-7212\",\n",
      "            \"MRD_SAS\": \"N\",\n",
      "            \"MRD_SASTATE\": \"IL\",\n",
      "            \"MRD_SASTREETNAME\": \"PRIMROSE LANE\",\n",
      "            \"MRD_SASTREETNUMBER\": \"27566\",\n",
      "            \"MRD_SAZIP\": \"60060\",\n",
      "            \"MRD_SCI\": \"None\",\n",
      "            \"Concessions\": \"No\",\n",
      "            \"ShowingInstructions\": \"CALL LISTING OFFICE\",\n",
      "            \"MRD_SO_LOCATION\": \"2512\",\n",
      "            \"MRD_SOCITY\": \"Mundelein\",\n",
      "            \"BuyerOfficeEmail\": \"c21bbrua@gmail.com\",\n",
      "            \"BuyerOfficeFax\": \"(847) 566-0587\",\n",
      "            \"BuyerOfficeMlsId\": \"MRD2512\",\n",
      "            \"BuyerOfficeKey\": \"MRD2512\",\n",
      "            \"BuyerOfficeName\": \"Century 21 Market Place, Ltd.\",\n",
      "            \"BuyerOfficePhone\": \"847-949-7100\",\n",
      "            \"MRD_SOSTATE\": \"IL\",\n",
      "            \"MRD_SOSTREETNAME\": \"N. Lake Street\",\n",
      "            \"MRD_SOSTREETNUMBER\": \"700\",\n",
      "            \"MRD_SOZIP\": \"60060\",\n",
      "            \"ClosePrice\": 181000,\n",
      "            \"MlsStatus\": \"Closed\",\n",
      "            \"StandardStatus\": \"Closed\",\n",
      "            \"StateOrProvince\": \"IL\",\n",
      "            \"StatusChangeTimestamp\": \"2007-01-02T21:32:57.000Z\",\n",
      "            \"StreetName\": \"KIMBALL AVENUE\",\n",
      "            \"ArchitecturalStyle\": [\n",
      "                \"Ranch\"\n",
      "            ],\n",
      "            \"TaxAnnualAmount\": 2881,\n",
      "            \"MRD_TPE\": \"1 Story\",\n",
      "            \"BuyerFinancing\": [\n",
      "                \"Conventional\",\n",
      "                \"FHA\",\n",
      "                \"VA\"\n",
      "            ],\n",
      "            \"Township\": \"WAUCOND\",\n",
      "            \"MRD_TXC\": \"Homeowner\",\n",
      "            \"TaxYear\": 2004,\n",
      "            \"MRD_UD\": \"2007-01-02T21:32:57\",\n",
      "            \"MRD_VT\": \"None\",\n",
      "            \"MRD_VTDATE\": \"2006-09-19T08:40:51\",\n",
      "            \"MRD_W\": \"25\",\n",
      "            \"WaterfrontYN\": true,\n",
      "            \"PostalCode\": \"60084\",\n",
      "            \"PostalCodePlus4\": \"0\",\n",
      "            \"OriginatingSystemName\": \"mred\",\n",
      "            \"ModificationTimestamp\": \"2021-05-04T20:27:18.208Z\",\n",
      "            \"Media\": [\n",
      "                {\n",
      "                    \"ImageHeight\": 400,\n",
      "                    \"Order\": 0,\n",
      "                    \"ImageWidth\": 512,\n",
      "                    \"MediaURL\": \"http://mredllc.media-cs.connectmls.com/029C91FBA8D11FD0E040010A20016150/P_0_05253841.JPEG\",\n",
      "                    \"MediaModificationTimestamp\": \"2016-04-29T22:49:32.000Z\",\n",
      "                    \"MediaKey\": \"5aaa02feb61ff020b9176556\"\n",
      "                }\n",
      "            ],\n",
      "            \"PhotosChangeTimestamp\": \"2021-05-04T20:27:18.208Z\",\n",
      "            \"Rooms\": [\n",
      "                {\n",
      "                    \"MRD_Flooring\": \"Hardwood\",\n",
      "                    \"RoomLevel\": \"Main\",\n",
      "                    \"RoomDimensions\": \"13X10\",\n",
      "                    \"RoomType\": \"Bedroom 2\",\n",
      "                    \"MRD_WindowTreatments\": \"All\",\n",
      "                    \"RoomKey\": \"MRD05253841Group_11\"\n",
      "                },\n",
      "                {\n",
      "                    \"MRD_Flooring\": \"Hardwood\",\n",
      "                    \"RoomLevel\": \"Main\",\n",
      "                    \"RoomDimensions\": \"11X09\",\n",
      "                    \"RoomType\": \"Bedroom 3\",\n",
      "                    \"MRD_WindowTreatments\": \"All\",\n",
      "                    \"RoomKey\": \"MRD05253841Group_12\"\n",
      "                },\n",
      "                {\n",
      "                    \"MRD_Flooring\": \"Vinyl\",\n",
      "                    \"RoomLevel\": \"Main\",\n",
      "                    \"RoomDimensions\": \"12X10\",\n",
      "                    \"RoomType\": \"Dining Room\",\n",
      "                    \"MRD_WindowTreatments\": \"All\",\n",
      "                    \"RoomKey\": \"MRD05253841Group_14\"\n",
      "                },\n",
      "                {\n",
      "                    \"MRD_Flooring\": \"Ceramic Tile\",\n",
      "                    \"RoomLevel\": \"Main\",\n",
      "                    \"RoomDimensions\": \"17X13\",\n",
      "                    \"RoomType\": \"Family Room\",\n",
      "                    \"MRD_WindowTreatments\": \"All\",\n",
      "                    \"RoomKey\": \"MRD05253841Group_15\"\n",
      "                },\n",
      "                {\n",
      "                    \"MRD_Flooring\": \"Vinyl\",\n",
      "                    \"RoomLevel\": \"Main\",\n",
      "                    \"RoomDimensions\": \"12X08\",\n",
      "                    \"RoomType\": \"Kitchen\",\n",
      "                    \"MRD_WindowTreatments\": \"All\",\n",
      "                    \"MRD_Type\": \"Eating Area-Breakfast Bar\",\n",
      "                    \"RoomKey\": \"MRD05253841Group_16\"\n",
      "                },\n",
      "                {\n",
      "                    \"MRD_Flooring\": \"Carpet\",\n",
      "                    \"RoomLevel\": \"Main\",\n",
      "                    \"RoomDimensions\": \"19X14\",\n",
      "                    \"RoomType\": \"Living Room\",\n",
      "                    \"MRD_WindowTreatments\": \"All\",\n",
      "                    \"RoomKey\": \"MRD05253841Group_18\"\n",
      "                },\n",
      "                {\n",
      "                    \"MRD_Bath\": \"None\",\n",
      "                    \"MRD_Flooring\": \"Hardwood\",\n",
      "                    \"RoomLevel\": \"Main\",\n",
      "                    \"RoomDimensions\": \"13X12\",\n",
      "                    \"RoomType\": \"Master Bedroom\",\n",
      "                    \"MRD_WindowTreatments\": \"All\",\n",
      "                    \"RoomKey\": \"MRD05253841Group_19\"\n",
      "                }\n",
      "            ],\n",
      "            \"MlgCanView\": true\n",
      "        }\n",
      "    ],\n",
      "    \"@odata.nextLink\": \"https://api.mlsgrid.com/v2/Property?$top=1&$expand=Media%2CRooms%2CUnitTypes&$skip=1\"\n",
      "}\n",
      "[{'ImageHeight': 400, 'Order': 0, 'ImageWidth': 512, 'MediaURL': 'http://mredllc.media-cs.connectmls.com/029C91FBA8D11FD0E040010A20016150/P_0_05253841.JPEG', 'MediaModificationTimestamp': '2016-04-29T22:49:32.000Z', 'MediaKey': '5aaa02feb61ff020b9176556'}]\n",
      "[{'MRD_Flooring': 'Hardwood', 'RoomLevel': 'Main', 'RoomDimensions': '13X10', 'RoomType': 'Bedroom 2', 'MRD_WindowTreatments': 'All', 'RoomKey': 'MRD05253841Group_11'}, {'MRD_Flooring': 'Hardwood', 'RoomLevel': 'Main', 'RoomDimensions': '11X09', 'RoomType': 'Bedroom 3', 'MRD_WindowTreatments': 'All', 'RoomKey': 'MRD05253841Group_12'}, {'MRD_Flooring': 'Vinyl', 'RoomLevel': 'Main', 'RoomDimensions': '12X10', 'RoomType': 'Dining Room', 'MRD_WindowTreatments': 'All', 'RoomKey': 'MRD05253841Group_14'}, {'MRD_Flooring': 'Ceramic Tile', 'RoomLevel': 'Main', 'RoomDimensions': '17X13', 'RoomType': 'Family Room', 'MRD_WindowTreatments': 'All', 'RoomKey': 'MRD05253841Group_15'}, {'MRD_Flooring': 'Vinyl', 'RoomLevel': 'Main', 'RoomDimensions': '12X08', 'RoomType': 'Kitchen', 'MRD_WindowTreatments': 'All', 'MRD_Type': 'Eating Area-Breakfast Bar', 'RoomKey': 'MRD05253841Group_16'}, {'MRD_Flooring': 'Carpet', 'RoomLevel': 'Main', 'RoomDimensions': '19X14', 'RoomType': 'Living Room', 'MRD_WindowTreatments': 'All', 'RoomKey': 'MRD05253841Group_18'}, {'MRD_Bath': 'None', 'MRD_Flooring': 'Hardwood', 'RoomLevel': 'Main', 'RoomDimensions': '13X12', 'RoomType': 'Master Bedroom', 'MRD_WindowTreatments': 'All', 'RoomKey': 'MRD05253841Group_19'}]\n"
     ]
    },
    {
     "ename": "KeyError",
     "evalue": "'UnitTypes'",
     "output_type": "error",
     "traceback": [
      "\u001b[0;31m---------------------------------------------------------------------------\u001b[0m",
      "\u001b[0;31mKeyError\u001b[0m                                  Traceback (most recent call last)",
      "Cell \u001b[0;32mIn [108], line 6\u001b[0m\n\u001b[1;32m      4\u001b[0m \u001b[38;5;28mprint\u001b[39m(response\u001b[38;5;241m.\u001b[39mjson()[\u001b[38;5;124m'\u001b[39m\u001b[38;5;124mvalue\u001b[39m\u001b[38;5;124m'\u001b[39m][\u001b[38;5;241m0\u001b[39m][\u001b[38;5;124m'\u001b[39m\u001b[38;5;124mMedia\u001b[39m\u001b[38;5;124m'\u001b[39m])\n\u001b[1;32m      5\u001b[0m \u001b[38;5;28mprint\u001b[39m(response\u001b[38;5;241m.\u001b[39mjson()[\u001b[38;5;124m'\u001b[39m\u001b[38;5;124mvalue\u001b[39m\u001b[38;5;124m'\u001b[39m][\u001b[38;5;241m0\u001b[39m][\u001b[38;5;124m'\u001b[39m\u001b[38;5;124mRooms\u001b[39m\u001b[38;5;124m'\u001b[39m])\n\u001b[0;32m----> 6\u001b[0m \u001b[38;5;28mprint\u001b[39m(\u001b[43mresponse\u001b[49m\u001b[38;5;241;43m.\u001b[39;49m\u001b[43mjson\u001b[49m\u001b[43m(\u001b[49m\u001b[43m)\u001b[49m\u001b[43m[\u001b[49m\u001b[38;5;124;43m'\u001b[39;49m\u001b[38;5;124;43mvalue\u001b[39;49m\u001b[38;5;124;43m'\u001b[39;49m\u001b[43m]\u001b[49m\u001b[43m[\u001b[49m\u001b[38;5;241;43m0\u001b[39;49m\u001b[43m]\u001b[49m\u001b[43m[\u001b[49m\u001b[38;5;124;43m'\u001b[39;49m\u001b[38;5;124;43mUnitTypes\u001b[39;49m\u001b[38;5;124;43m'\u001b[39;49m\u001b[43m]\u001b[49m)\n",
      "\u001b[0;31mKeyError\u001b[0m: 'UnitTypes'"
     ]
    }
   ],
   "source": [
    "response = session.get(url=MLSGRID_API_URL + 'Property?$top=1&$expand=Media,Rooms,UnitTypes')\n",
    "parsed = json.dumps(response.json(), indent=4)\n",
    "print(parsed)\n",
    "print(response.json()['value'][0]['Media'])\n",
    "print(response.json()['value'][0]['Rooms'])\n",
    "print(response.json()['value'][0]['UnitTypes'])"
   ]
  },
  {
   "cell_type": "code",
   "execution_count": 107,
   "metadata": {},
   "outputs": [
    {
     "data": {
      "text/plain": [
       "'https://api.mlsgrid.com/v2/Property?$top=1&$expand=Media%2CRooms%2CUnitTypes&$skip=1'"
      ]
     },
     "execution_count": 107,
     "metadata": {},
     "output_type": "execute_result"
    }
   ],
   "source": [
    "response.json()['@odata.nextLink']"
   ]
  },
  {
   "cell_type": "markdown",
   "metadata": {},
   "source": [
    "Very good.  We see that we have the expanded data that exist on this first record in the MRED MLS.  (There isn't a `UnitType` record associated with this.  Before we commit these changes to the git repo, let's double check that our `.gitignore` file is, in fact, ignoring the secret that we've stored in our `.env` file."
   ]
  },
  {
   "cell_type": "code",
   "execution_count": 90,
   "metadata": {},
   "outputs": [
    {
     "name": "stdout",
     "output_type": "stream",
     "text": [
      ".env\n",
      "venv/\n",
      "venv.bak/\n"
     ]
    }
   ],
   "source": [
    "! cat .gitignore | grep -w '^.env'"
   ]
  },
  {
   "cell_type": "markdown",
   "metadata": {},
   "source": [
    "We're good to go, so let's commit these changes."
   ]
  },
  {
   "cell_type": "code",
   "execution_count": 92,
   "metadata": {},
   "outputs": [
    {
     "name": "stdout",
     "output_type": "stream",
     "text": [
      "[main c9cbc36] added MLSGrid session\n",
      " 1 file changed, 1059 insertions(+), 1 deletion(-)\n"
     ]
    }
   ],
   "source": [
    "! git commit -am 'added MLSGrid session'"
   ]
  },
  {
   "cell_type": "markdown",
   "metadata": {},
   "source": [
    "... and let's push."
   ]
  },
  {
   "cell_type": "code",
   "execution_count": 93,
   "metadata": {},
   "outputs": [
    {
     "name": "stdout",
     "output_type": "stream",
     "text": [
      "Host key fingerprint is SHA256:p2QAMXNIC1TJYWeIOttrVc98/R1BUFWu3/LiyKgUfQM\n",
      "+---[ECDSA 256]---+\n",
      "| .o=X*+      .o.=|\n",
      "|  .o=O         o |\n",
      "| .  . .   E   . .|\n",
      "|o     .. . .   o |\n",
      "| +   . +S o.o . .|\n",
      "|. . .  o++.... o.|\n",
      "|   o    o.   ...+|\n",
      "|  o    .   o .oo.|\n",
      "| .      ... o....|\n",
      "+----[SHA256]-----+\n",
      "Enumerating objects: 5, done.\n",
      "Counting objects: 100% (5/5), done.\n",
      "Delta compression using up to 8 threads\n",
      "Compressing objects: 100% (3/3), done.\n",
      "Writing objects: 100% (3/3), 10.98 KiB | 1.10 MiB/s, done.\n",
      "Total 3 (delta 1), reused 0 (delta 0)\n",
      "remote: Resolving deltas: 100% (1/1), completed with 1 local object.\u001b[K\n",
      "To github.com:captivus/mlsgrid_api.git\n",
      "   db6f5f1..c9cbc36  main -> main\n"
     ]
    }
   ],
   "source": [
    "! git push"
   ]
  },
  {
   "cell_type": "markdown",
   "metadata": {},
   "source": [
    "## Rate Limit / Throttling Protection\n",
    "We'll use [the handy `ratelimit` library](https://pypi.org/project/ratelimit/) which enables decorators for functions to constrain them by the rate limitations.  Let's add him to the requirements.txt file, and install our requirements.\n",
    "\n"
   ]
  },
  {
   "cell_type": "code",
   "execution_count": 115,
   "metadata": {},
   "outputs": [
    {
     "name": "stdout",
     "output_type": "stream",
     "text": [
      "Requirement already satisfied: requests in ./.venv/lib/python3.9/site-packages (from -r requirements.txt (line 1)) (2.28.1)\n",
      "Requirement already satisfied: python-dotenv in ./.venv/lib/python3.9/site-packages (from -r requirements.txt (line 2)) (0.21.0)\n",
      "Requirement already satisfied: pytest in ./.venv/lib/python3.9/site-packages (from -r requirements.txt (line 3)) (7.1.3)\n",
      "Collecting ratelimit\n",
      "  Downloading ratelimit-2.2.1.tar.gz (5.3 kB)\n",
      "  Preparing metadata (setup.py) ... \u001b[?25ldone\n",
      "\u001b[?25hRequirement already satisfied: charset-normalizer<3,>=2 in ./.venv/lib/python3.9/site-packages (from requests->-r requirements.txt (line 1)) (2.1.1)\n",
      "Requirement already satisfied: urllib3<1.27,>=1.21.1 in ./.venv/lib/python3.9/site-packages (from requests->-r requirements.txt (line 1)) (1.26.12)\n",
      "Requirement already satisfied: idna<4,>=2.5 in ./.venv/lib/python3.9/site-packages (from requests->-r requirements.txt (line 1)) (3.3)\n",
      "Requirement already satisfied: certifi>=2017.4.17 in ./.venv/lib/python3.9/site-packages (from requests->-r requirements.txt (line 1)) (2022.6.15)\n",
      "Requirement already satisfied: attrs>=19.2.0 in ./.venv/lib/python3.9/site-packages (from pytest->-r requirements.txt (line 3)) (22.1.0)\n",
      "Requirement already satisfied: py>=1.8.2 in ./.venv/lib/python3.9/site-packages (from pytest->-r requirements.txt (line 3)) (1.11.0)\n",
      "Requirement already satisfied: packaging in ./.venv/lib/python3.9/site-packages (from pytest->-r requirements.txt (line 3)) (21.3)\n",
      "Requirement already satisfied: iniconfig in ./.venv/lib/python3.9/site-packages (from pytest->-r requirements.txt (line 3)) (1.1.1)\n",
      "Requirement already satisfied: tomli>=1.0.0 in ./.venv/lib/python3.9/site-packages (from pytest->-r requirements.txt (line 3)) (2.0.1)\n",
      "Requirement already satisfied: pluggy<2.0,>=0.12 in ./.venv/lib/python3.9/site-packages (from pytest->-r requirements.txt (line 3)) (1.0.0)\n",
      "Requirement already satisfied: pyparsing!=3.0.5,>=2.0.2 in ./.venv/lib/python3.9/site-packages (from packaging->pytest->-r requirements.txt (line 3)) (3.0.9)\n",
      "Using legacy 'setup.py install' for ratelimit, since package 'wheel' is not installed.\n",
      "Installing collected packages: ratelimit\n",
      "  Running setup.py install for ratelimit ... \u001b[?25ldone\n",
      "\u001b[?25hSuccessfully installed ratelimit-2.2.1\n"
     ]
    }
   ],
   "source": [
    "! pip install -r requirements.txt"
   ]
  },
  {
   "cell_type": "markdown",
   "metadata": {},
   "source": [
    "Now, let's make sure we understand the rate limits imposed by MLSGrid.  Fortunately (which is one way to look at it) we have been rate limited a couple of times in building this project, so we have emails that contain the latest rate limits."
   ]
  },
  {
   "cell_type": "markdown",
   "metadata": {},
   "source": [
    "<blockquote>\n",
    "The usage limits for the MLS Grid are:\n",
    "\n",
    "      1. No more than 7,200 request submitted in any given hour.\n",
    "      2. No more than 4,096 MB downloaded in any given hour.\n",
    "      3. No more than 2 request per second (RPS) at all times.\n",
    "      4. No more than 40,000 requests in a rolling 24-hour period.\n",
    "      5. No more than 6,144 GB downloaded in any give 24-hour period.\n",
    "</blockquote>"
   ]
  },
  {
   "cell_type": "markdown",
   "metadata": {},
   "source": [
    "Let's explore these constraints holistically.\n",
    "\n",
    "> 3. No more than 2 requests per second at all times\n",
    "\n",
    "    This implies the 7,200 requests per hour constraint in #1\n",
    "\n",
    "> 4. No more than 40,000 requests in a rollingl 24-hour period\n",
    "\n",
    "    This is actually more constraining than #3 and #1, as it implies a limit of 1,665 hourly requests if you're making them around the clock\n",
    "    This shouldn't be an issue for us after we complete initial replication (assuming they've set this limit appropriately)\n",
    "\n",
    "We're not going to bother with the file download limits, as we'll assume that they've appropriately set these and they won't be binding to us after we perform the initial replication."
   ]
  },
  {
   "cell_type": "markdown",
   "metadata": {},
   "source": [
    "This means, though, that we're going to want to set constraints so that we don't violate #3 and #4.  Let's have a look at how to do that using the `ratelimit` library.  We'll modify an example from the library's documentation."
   ]
  },
  {
   "cell_type": "code",
   "execution_count": 128,
   "metadata": {},
   "outputs": [
    {
     "name": "stdout",
     "output_type": "stream",
     "text": [
      "2022-09-13 13:35:36.360145-05:00 [ 0 ] - {\n",
      "  \"userId\": 1,\n",
      "  \"id\": 1,\n",
      "  \"title\": \"delectus aut autem\",\n",
      "  \"completed\": false\n",
      "}\n"
     ]
    },
    {
     "ename": "ConnectionError",
     "evalue": "HTTPSConnectionPool(host='jsonplaceholder.typicode.com', port=443): Max retries exceeded with url: /todos/1 (Caused by NewConnectionError('<urllib3.connection.HTTPSConnection object at 0x7f509f2afb50>: Failed to establish a new connection: [Errno -3] Temporary failure in name resolution'))",
     "output_type": "error",
     "traceback": [
      "\u001b[0;31m---------------------------------------------------------------------------\u001b[0m",
      "\u001b[0;31mgaierror\u001b[0m                                  Traceback (most recent call last)",
      "File \u001b[0;32m~/projects/mlsgrid_api/.venv/lib/python3.9/site-packages/urllib3/connection.py:174\u001b[0m, in \u001b[0;36mHTTPConnection._new_conn\u001b[0;34m(self)\u001b[0m\n\u001b[1;32m    173\u001b[0m \u001b[39mtry\u001b[39;00m:\n\u001b[0;32m--> 174\u001b[0m     conn \u001b[39m=\u001b[39m connection\u001b[39m.\u001b[39;49mcreate_connection(\n\u001b[1;32m    175\u001b[0m         (\u001b[39mself\u001b[39;49m\u001b[39m.\u001b[39;49m_dns_host, \u001b[39mself\u001b[39;49m\u001b[39m.\u001b[39;49mport), \u001b[39mself\u001b[39;49m\u001b[39m.\u001b[39;49mtimeout, \u001b[39m*\u001b[39;49m\u001b[39m*\u001b[39;49mextra_kw\n\u001b[1;32m    176\u001b[0m     )\n\u001b[1;32m    178\u001b[0m \u001b[39mexcept\u001b[39;00m SocketTimeout:\n",
      "File \u001b[0;32m~/projects/mlsgrid_api/.venv/lib/python3.9/site-packages/urllib3/util/connection.py:72\u001b[0m, in \u001b[0;36mcreate_connection\u001b[0;34m(address, timeout, source_address, socket_options)\u001b[0m\n\u001b[1;32m     68\u001b[0m     \u001b[39mreturn\u001b[39;00m six\u001b[39m.\u001b[39mraise_from(\n\u001b[1;32m     69\u001b[0m         LocationParseError(\u001b[39mu\u001b[39m\u001b[39m\"\u001b[39m\u001b[39m'\u001b[39m\u001b[39m%s\u001b[39;00m\u001b[39m'\u001b[39m\u001b[39m, label empty or too long\u001b[39m\u001b[39m\"\u001b[39m \u001b[39m%\u001b[39m host), \u001b[39mNone\u001b[39;00m\n\u001b[1;32m     70\u001b[0m     )\n\u001b[0;32m---> 72\u001b[0m \u001b[39mfor\u001b[39;00m res \u001b[39min\u001b[39;00m socket\u001b[39m.\u001b[39;49mgetaddrinfo(host, port, family, socket\u001b[39m.\u001b[39;49mSOCK_STREAM):\n\u001b[1;32m     73\u001b[0m     af, socktype, proto, canonname, sa \u001b[39m=\u001b[39m res\n",
      "File \u001b[0;32m~/mambaforge/lib/python3.9/socket.py:954\u001b[0m, in \u001b[0;36mgetaddrinfo\u001b[0;34m(host, port, family, type, proto, flags)\u001b[0m\n\u001b[1;32m    953\u001b[0m addrlist \u001b[39m=\u001b[39m []\n\u001b[0;32m--> 954\u001b[0m \u001b[39mfor\u001b[39;00m res \u001b[39min\u001b[39;00m _socket\u001b[39m.\u001b[39;49mgetaddrinfo(host, port, family, \u001b[39mtype\u001b[39;49m, proto, flags):\n\u001b[1;32m    955\u001b[0m     af, socktype, proto, canonname, sa \u001b[39m=\u001b[39m res\n",
      "\u001b[0;31mgaierror\u001b[0m: [Errno -3] Temporary failure in name resolution",
      "\nDuring handling of the above exception, another exception occurred:\n",
      "\u001b[0;31mNewConnectionError\u001b[0m                        Traceback (most recent call last)",
      "File \u001b[0;32m~/projects/mlsgrid_api/.venv/lib/python3.9/site-packages/urllib3/connectionpool.py:703\u001b[0m, in \u001b[0;36mHTTPConnectionPool.urlopen\u001b[0;34m(self, method, url, body, headers, retries, redirect, assert_same_host, timeout, pool_timeout, release_conn, chunked, body_pos, **response_kw)\u001b[0m\n\u001b[1;32m    702\u001b[0m \u001b[39m# Make the request on the httplib connection object.\u001b[39;00m\n\u001b[0;32m--> 703\u001b[0m httplib_response \u001b[39m=\u001b[39m \u001b[39mself\u001b[39;49m\u001b[39m.\u001b[39;49m_make_request(\n\u001b[1;32m    704\u001b[0m     conn,\n\u001b[1;32m    705\u001b[0m     method,\n\u001b[1;32m    706\u001b[0m     url,\n\u001b[1;32m    707\u001b[0m     timeout\u001b[39m=\u001b[39;49mtimeout_obj,\n\u001b[1;32m    708\u001b[0m     body\u001b[39m=\u001b[39;49mbody,\n\u001b[1;32m    709\u001b[0m     headers\u001b[39m=\u001b[39;49mheaders,\n\u001b[1;32m    710\u001b[0m     chunked\u001b[39m=\u001b[39;49mchunked,\n\u001b[1;32m    711\u001b[0m )\n\u001b[1;32m    713\u001b[0m \u001b[39m# If we're going to release the connection in ``finally:``, then\u001b[39;00m\n\u001b[1;32m    714\u001b[0m \u001b[39m# the response doesn't need to know about the connection. Otherwise\u001b[39;00m\n\u001b[1;32m    715\u001b[0m \u001b[39m# it will also try to release it and we'll have a double-release\u001b[39;00m\n\u001b[1;32m    716\u001b[0m \u001b[39m# mess.\u001b[39;00m\n",
      "File \u001b[0;32m~/projects/mlsgrid_api/.venv/lib/python3.9/site-packages/urllib3/connectionpool.py:386\u001b[0m, in \u001b[0;36mHTTPConnectionPool._make_request\u001b[0;34m(self, conn, method, url, timeout, chunked, **httplib_request_kw)\u001b[0m\n\u001b[1;32m    385\u001b[0m \u001b[39mtry\u001b[39;00m:\n\u001b[0;32m--> 386\u001b[0m     \u001b[39mself\u001b[39;49m\u001b[39m.\u001b[39;49m_validate_conn(conn)\n\u001b[1;32m    387\u001b[0m \u001b[39mexcept\u001b[39;00m (SocketTimeout, BaseSSLError) \u001b[39mas\u001b[39;00m e:\n\u001b[1;32m    388\u001b[0m     \u001b[39m# Py2 raises this as a BaseSSLError, Py3 raises it as socket timeout.\u001b[39;00m\n",
      "File \u001b[0;32m~/projects/mlsgrid_api/.venv/lib/python3.9/site-packages/urllib3/connectionpool.py:1042\u001b[0m, in \u001b[0;36mHTTPSConnectionPool._validate_conn\u001b[0;34m(self, conn)\u001b[0m\n\u001b[1;32m   1041\u001b[0m \u001b[39mif\u001b[39;00m \u001b[39mnot\u001b[39;00m \u001b[39mgetattr\u001b[39m(conn, \u001b[39m\"\u001b[39m\u001b[39msock\u001b[39m\u001b[39m\"\u001b[39m, \u001b[39mNone\u001b[39;00m):  \u001b[39m# AppEngine might not have  `.sock`\u001b[39;00m\n\u001b[0;32m-> 1042\u001b[0m     conn\u001b[39m.\u001b[39;49mconnect()\n\u001b[1;32m   1044\u001b[0m \u001b[39mif\u001b[39;00m \u001b[39mnot\u001b[39;00m conn\u001b[39m.\u001b[39mis_verified:\n",
      "File \u001b[0;32m~/projects/mlsgrid_api/.venv/lib/python3.9/site-packages/urllib3/connection.py:358\u001b[0m, in \u001b[0;36mHTTPSConnection.connect\u001b[0;34m(self)\u001b[0m\n\u001b[1;32m    356\u001b[0m \u001b[39mdef\u001b[39;00m \u001b[39mconnect\u001b[39m(\u001b[39mself\u001b[39m):\n\u001b[1;32m    357\u001b[0m     \u001b[39m# Add certificate verification\u001b[39;00m\n\u001b[0;32m--> 358\u001b[0m     \u001b[39mself\u001b[39m\u001b[39m.\u001b[39msock \u001b[39m=\u001b[39m conn \u001b[39m=\u001b[39m \u001b[39mself\u001b[39;49m\u001b[39m.\u001b[39;49m_new_conn()\n\u001b[1;32m    359\u001b[0m     hostname \u001b[39m=\u001b[39m \u001b[39mself\u001b[39m\u001b[39m.\u001b[39mhost\n",
      "File \u001b[0;32m~/projects/mlsgrid_api/.venv/lib/python3.9/site-packages/urllib3/connection.py:186\u001b[0m, in \u001b[0;36mHTTPConnection._new_conn\u001b[0;34m(self)\u001b[0m\n\u001b[1;32m    185\u001b[0m \u001b[39mexcept\u001b[39;00m SocketError \u001b[39mas\u001b[39;00m e:\n\u001b[0;32m--> 186\u001b[0m     \u001b[39mraise\u001b[39;00m NewConnectionError(\n\u001b[1;32m    187\u001b[0m         \u001b[39mself\u001b[39m, \u001b[39m\"\u001b[39m\u001b[39mFailed to establish a new connection: \u001b[39m\u001b[39m%s\u001b[39;00m\u001b[39m\"\u001b[39m \u001b[39m%\u001b[39m e\n\u001b[1;32m    188\u001b[0m     )\n\u001b[1;32m    190\u001b[0m \u001b[39mreturn\u001b[39;00m conn\n",
      "\u001b[0;31mNewConnectionError\u001b[0m: <urllib3.connection.HTTPSConnection object at 0x7f509f2afb50>: Failed to establish a new connection: [Errno -3] Temporary failure in name resolution",
      "\nDuring handling of the above exception, another exception occurred:\n",
      "\u001b[0;31mMaxRetryError\u001b[0m                             Traceback (most recent call last)",
      "File \u001b[0;32m~/projects/mlsgrid_api/.venv/lib/python3.9/site-packages/requests/adapters.py:489\u001b[0m, in \u001b[0;36mHTTPAdapter.send\u001b[0;34m(self, request, stream, timeout, verify, cert, proxies)\u001b[0m\n\u001b[1;32m    488\u001b[0m \u001b[39mif\u001b[39;00m \u001b[39mnot\u001b[39;00m chunked:\n\u001b[0;32m--> 489\u001b[0m     resp \u001b[39m=\u001b[39m conn\u001b[39m.\u001b[39;49murlopen(\n\u001b[1;32m    490\u001b[0m         method\u001b[39m=\u001b[39;49mrequest\u001b[39m.\u001b[39;49mmethod,\n\u001b[1;32m    491\u001b[0m         url\u001b[39m=\u001b[39;49murl,\n\u001b[1;32m    492\u001b[0m         body\u001b[39m=\u001b[39;49mrequest\u001b[39m.\u001b[39;49mbody,\n\u001b[1;32m    493\u001b[0m         headers\u001b[39m=\u001b[39;49mrequest\u001b[39m.\u001b[39;49mheaders,\n\u001b[1;32m    494\u001b[0m         redirect\u001b[39m=\u001b[39;49m\u001b[39mFalse\u001b[39;49;00m,\n\u001b[1;32m    495\u001b[0m         assert_same_host\u001b[39m=\u001b[39;49m\u001b[39mFalse\u001b[39;49;00m,\n\u001b[1;32m    496\u001b[0m         preload_content\u001b[39m=\u001b[39;49m\u001b[39mFalse\u001b[39;49;00m,\n\u001b[1;32m    497\u001b[0m         decode_content\u001b[39m=\u001b[39;49m\u001b[39mFalse\u001b[39;49;00m,\n\u001b[1;32m    498\u001b[0m         retries\u001b[39m=\u001b[39;49m\u001b[39mself\u001b[39;49m\u001b[39m.\u001b[39;49mmax_retries,\n\u001b[1;32m    499\u001b[0m         timeout\u001b[39m=\u001b[39;49mtimeout,\n\u001b[1;32m    500\u001b[0m     )\n\u001b[1;32m    502\u001b[0m \u001b[39m# Send the request.\u001b[39;00m\n\u001b[1;32m    503\u001b[0m \u001b[39melse\u001b[39;00m:\n",
      "File \u001b[0;32m~/projects/mlsgrid_api/.venv/lib/python3.9/site-packages/urllib3/connectionpool.py:787\u001b[0m, in \u001b[0;36mHTTPConnectionPool.urlopen\u001b[0;34m(self, method, url, body, headers, retries, redirect, assert_same_host, timeout, pool_timeout, release_conn, chunked, body_pos, **response_kw)\u001b[0m\n\u001b[1;32m    785\u001b[0m     e \u001b[39m=\u001b[39m ProtocolError(\u001b[39m\"\u001b[39m\u001b[39mConnection aborted.\u001b[39m\u001b[39m\"\u001b[39m, e)\n\u001b[0;32m--> 787\u001b[0m retries \u001b[39m=\u001b[39m retries\u001b[39m.\u001b[39;49mincrement(\n\u001b[1;32m    788\u001b[0m     method, url, error\u001b[39m=\u001b[39;49me, _pool\u001b[39m=\u001b[39;49m\u001b[39mself\u001b[39;49m, _stacktrace\u001b[39m=\u001b[39;49msys\u001b[39m.\u001b[39;49mexc_info()[\u001b[39m2\u001b[39;49m]\n\u001b[1;32m    789\u001b[0m )\n\u001b[1;32m    790\u001b[0m retries\u001b[39m.\u001b[39msleep()\n",
      "File \u001b[0;32m~/projects/mlsgrid_api/.venv/lib/python3.9/site-packages/urllib3/util/retry.py:592\u001b[0m, in \u001b[0;36mRetry.increment\u001b[0;34m(self, method, url, response, error, _pool, _stacktrace)\u001b[0m\n\u001b[1;32m    591\u001b[0m \u001b[39mif\u001b[39;00m new_retry\u001b[39m.\u001b[39mis_exhausted():\n\u001b[0;32m--> 592\u001b[0m     \u001b[39mraise\u001b[39;00m MaxRetryError(_pool, url, error \u001b[39mor\u001b[39;00m ResponseError(cause))\n\u001b[1;32m    594\u001b[0m log\u001b[39m.\u001b[39mdebug(\u001b[39m\"\u001b[39m\u001b[39mIncremented Retry for (url=\u001b[39m\u001b[39m'\u001b[39m\u001b[39m%s\u001b[39;00m\u001b[39m'\u001b[39m\u001b[39m): \u001b[39m\u001b[39m%r\u001b[39;00m\u001b[39m\"\u001b[39m, url, new_retry)\n",
      "\u001b[0;31mMaxRetryError\u001b[0m: HTTPSConnectionPool(host='jsonplaceholder.typicode.com', port=443): Max retries exceeded with url: /todos/1 (Caused by NewConnectionError('<urllib3.connection.HTTPSConnection object at 0x7f509f2afb50>: Failed to establish a new connection: [Errno -3] Temporary failure in name resolution'))",
      "\nDuring handling of the above exception, another exception occurred:\n",
      "\u001b[0;31mConnectionError\u001b[0m                           Traceback (most recent call last)",
      "Cell \u001b[0;32mIn [128], line 25\u001b[0m\n\u001b[1;32m     23\u001b[0m \u001b[38;5;66;03m# Test the rate limitations\u001b[39;00m\n\u001b[1;32m     24\u001b[0m \u001b[38;5;28;01mfor\u001b[39;00m i \u001b[38;5;129;01min\u001b[39;00m \u001b[38;5;28mrange\u001b[39m(\u001b[38;5;241m50_000\u001b[39m):\n\u001b[0;32m---> 25\u001b[0m     response \u001b[38;5;241m=\u001b[39m \u001b[43mcall_api\u001b[49m\u001b[43m(\u001b[49m\u001b[43mURL\u001b[49m\u001b[43m)\u001b[49m\u001b[38;5;241m.\u001b[39mtext\n\u001b[1;32m     26\u001b[0m     \u001b[38;5;28;01mif\u001b[39;00m i \u001b[38;5;241m%\u001b[39m \u001b[38;5;241m1_000\u001b[39m \u001b[38;5;241m==\u001b[39m \u001b[38;5;241m0\u001b[39m:\n\u001b[1;32m     27\u001b[0m         current_time \u001b[38;5;241m=\u001b[39m dt\u001b[38;5;241m.\u001b[39mdatetime\u001b[38;5;241m.\u001b[39mnow(pytz\u001b[38;5;241m.\u001b[39mtimezone(\u001b[38;5;124m'\u001b[39m\u001b[38;5;124mUS/Central\u001b[39m\u001b[38;5;124m'\u001b[39m))\n",
      "File \u001b[0;32m~/projects/mlsgrid_api/.venv/lib/python3.9/site-packages/ratelimit/decorators.py:113\u001b[0m, in \u001b[0;36msleep_and_retry.<locals>.wrapper\u001b[0;34m(*args, **kargs)\u001b[0m\n\u001b[1;32m    111\u001b[0m \u001b[39mwhile\u001b[39;00m \u001b[39mTrue\u001b[39;00m:\n\u001b[1;32m    112\u001b[0m     \u001b[39mtry\u001b[39;00m:\n\u001b[0;32m--> 113\u001b[0m         \u001b[39mreturn\u001b[39;00m func(\u001b[39m*\u001b[39;49margs, \u001b[39m*\u001b[39;49m\u001b[39m*\u001b[39;49mkargs)\n\u001b[1;32m    114\u001b[0m     \u001b[39mexcept\u001b[39;00m RateLimitException \u001b[39mas\u001b[39;00m exception:\n\u001b[1;32m    115\u001b[0m         time\u001b[39m.\u001b[39msleep(exception\u001b[39m.\u001b[39mperiod_remaining)\n",
      "File \u001b[0;32m~/projects/mlsgrid_api/.venv/lib/python3.9/site-packages/ratelimit/decorators.py:80\u001b[0m, in \u001b[0;36mRateLimitDecorator.__call__.<locals>.wrapper\u001b[0;34m(*args, **kargs)\u001b[0m\n\u001b[1;32m     77\u001b[0m             \u001b[39mraise\u001b[39;00m RateLimitException(\u001b[39m'\u001b[39m\u001b[39mtoo many calls\u001b[39m\u001b[39m'\u001b[39m, period_remaining)\n\u001b[1;32m     78\u001b[0m         \u001b[39mreturn\u001b[39;00m\n\u001b[0;32m---> 80\u001b[0m \u001b[39mreturn\u001b[39;00m func(\u001b[39m*\u001b[39;49margs, \u001b[39m*\u001b[39;49m\u001b[39m*\u001b[39;49mkargs)\n",
      "Cell \u001b[0;32mIn [128], line 14\u001b[0m, in \u001b[0;36mcall_api\u001b[0;34m(url)\u001b[0m\n\u001b[1;32m      9\u001b[0m \u001b[38;5;129m@sleep_and_retry\u001b[39m\n\u001b[1;32m     10\u001b[0m \u001b[38;5;66;03m# Set rate limits for #3 and #4 in the MLSGrid rate limitations\u001b[39;00m\n\u001b[1;32m     11\u001b[0m \u001b[38;5;129m@limits\u001b[39m(calls\u001b[38;5;241m=\u001b[39m\u001b[38;5;241m40_000\u001b[39m, period\u001b[38;5;241m=\u001b[39mTWENTY_FOUR_HOURS)\n\u001b[1;32m     12\u001b[0m \u001b[38;5;66;03m#@limits(calls=1, period=1)\u001b[39;00m\n\u001b[1;32m     13\u001b[0m \u001b[38;5;28;01mdef\u001b[39;00m \u001b[38;5;21mcall_api\u001b[39m(url):\n\u001b[0;32m---> 14\u001b[0m     response \u001b[38;5;241m=\u001b[39m \u001b[43mrequests\u001b[49m\u001b[38;5;241;43m.\u001b[39;49m\u001b[43mget\u001b[49m\u001b[43m(\u001b[49m\u001b[43murl\u001b[49m\u001b[43m)\u001b[49m\n\u001b[1;32m     16\u001b[0m     \u001b[38;5;28;01mif\u001b[39;00m response\u001b[38;5;241m.\u001b[39mstatus_code \u001b[38;5;241m!=\u001b[39m \u001b[38;5;241m200\u001b[39m:\n\u001b[1;32m     17\u001b[0m         \u001b[38;5;28;01mraise\u001b[39;00m \u001b[38;5;167;01mException\u001b[39;00m(\u001b[38;5;124m'\u001b[39m\u001b[38;5;124mAPI response: \u001b[39m\u001b[38;5;132;01m{}\u001b[39;00m\u001b[38;5;124m'\u001b[39m\u001b[38;5;241m.\u001b[39mformat(response\u001b[38;5;241m.\u001b[39mstatus_code))\n",
      "File \u001b[0;32m~/projects/mlsgrid_api/.venv/lib/python3.9/site-packages/requests/api.py:73\u001b[0m, in \u001b[0;36mget\u001b[0;34m(url, params, **kwargs)\u001b[0m\n\u001b[1;32m     62\u001b[0m \u001b[39mdef\u001b[39;00m \u001b[39mget\u001b[39m(url, params\u001b[39m=\u001b[39m\u001b[39mNone\u001b[39;00m, \u001b[39m*\u001b[39m\u001b[39m*\u001b[39mkwargs):\n\u001b[1;32m     63\u001b[0m     \u001b[39mr\u001b[39m\u001b[39m\"\"\"Sends a GET request.\u001b[39;00m\n\u001b[1;32m     64\u001b[0m \n\u001b[1;32m     65\u001b[0m \u001b[39m    :param url: URL for the new :class:`Request` object.\u001b[39;00m\n\u001b[0;32m   (...)\u001b[0m\n\u001b[1;32m     70\u001b[0m \u001b[39m    :rtype: requests.Response\u001b[39;00m\n\u001b[1;32m     71\u001b[0m \u001b[39m    \"\"\"\u001b[39;00m\n\u001b[0;32m---> 73\u001b[0m     \u001b[39mreturn\u001b[39;00m request(\u001b[39m\"\u001b[39;49m\u001b[39mget\u001b[39;49m\u001b[39m\"\u001b[39;49m, url, params\u001b[39m=\u001b[39;49mparams, \u001b[39m*\u001b[39;49m\u001b[39m*\u001b[39;49mkwargs)\n",
      "File \u001b[0;32m~/projects/mlsgrid_api/.venv/lib/python3.9/site-packages/requests/api.py:59\u001b[0m, in \u001b[0;36mrequest\u001b[0;34m(method, url, **kwargs)\u001b[0m\n\u001b[1;32m     55\u001b[0m \u001b[39m# By using the 'with' statement we are sure the session is closed, thus we\u001b[39;00m\n\u001b[1;32m     56\u001b[0m \u001b[39m# avoid leaving sockets open which can trigger a ResourceWarning in some\u001b[39;00m\n\u001b[1;32m     57\u001b[0m \u001b[39m# cases, and look like a memory leak in others.\u001b[39;00m\n\u001b[1;32m     58\u001b[0m \u001b[39mwith\u001b[39;00m sessions\u001b[39m.\u001b[39mSession() \u001b[39mas\u001b[39;00m session:\n\u001b[0;32m---> 59\u001b[0m     \u001b[39mreturn\u001b[39;00m session\u001b[39m.\u001b[39;49mrequest(method\u001b[39m=\u001b[39;49mmethod, url\u001b[39m=\u001b[39;49murl, \u001b[39m*\u001b[39;49m\u001b[39m*\u001b[39;49mkwargs)\n",
      "File \u001b[0;32m~/projects/mlsgrid_api/.venv/lib/python3.9/site-packages/requests/sessions.py:587\u001b[0m, in \u001b[0;36mSession.request\u001b[0;34m(self, method, url, params, data, headers, cookies, files, auth, timeout, allow_redirects, proxies, hooks, stream, verify, cert, json)\u001b[0m\n\u001b[1;32m    582\u001b[0m send_kwargs \u001b[39m=\u001b[39m {\n\u001b[1;32m    583\u001b[0m     \u001b[39m\"\u001b[39m\u001b[39mtimeout\u001b[39m\u001b[39m\"\u001b[39m: timeout,\n\u001b[1;32m    584\u001b[0m     \u001b[39m\"\u001b[39m\u001b[39mallow_redirects\u001b[39m\u001b[39m\"\u001b[39m: allow_redirects,\n\u001b[1;32m    585\u001b[0m }\n\u001b[1;32m    586\u001b[0m send_kwargs\u001b[39m.\u001b[39mupdate(settings)\n\u001b[0;32m--> 587\u001b[0m resp \u001b[39m=\u001b[39m \u001b[39mself\u001b[39;49m\u001b[39m.\u001b[39;49msend(prep, \u001b[39m*\u001b[39;49m\u001b[39m*\u001b[39;49msend_kwargs)\n\u001b[1;32m    589\u001b[0m \u001b[39mreturn\u001b[39;00m resp\n",
      "File \u001b[0;32m~/projects/mlsgrid_api/.venv/lib/python3.9/site-packages/requests/sessions.py:701\u001b[0m, in \u001b[0;36mSession.send\u001b[0;34m(self, request, **kwargs)\u001b[0m\n\u001b[1;32m    698\u001b[0m start \u001b[39m=\u001b[39m preferred_clock()\n\u001b[1;32m    700\u001b[0m \u001b[39m# Send the request\u001b[39;00m\n\u001b[0;32m--> 701\u001b[0m r \u001b[39m=\u001b[39m adapter\u001b[39m.\u001b[39;49msend(request, \u001b[39m*\u001b[39;49m\u001b[39m*\u001b[39;49mkwargs)\n\u001b[1;32m    703\u001b[0m \u001b[39m# Total elapsed time of the request (approximately)\u001b[39;00m\n\u001b[1;32m    704\u001b[0m elapsed \u001b[39m=\u001b[39m preferred_clock() \u001b[39m-\u001b[39m start\n",
      "File \u001b[0;32m~/projects/mlsgrid_api/.venv/lib/python3.9/site-packages/requests/adapters.py:565\u001b[0m, in \u001b[0;36mHTTPAdapter.send\u001b[0;34m(self, request, stream, timeout, verify, cert, proxies)\u001b[0m\n\u001b[1;32m    561\u001b[0m     \u001b[39mif\u001b[39;00m \u001b[39misinstance\u001b[39m(e\u001b[39m.\u001b[39mreason, _SSLError):\n\u001b[1;32m    562\u001b[0m         \u001b[39m# This branch is for urllib3 v1.22 and later.\u001b[39;00m\n\u001b[1;32m    563\u001b[0m         \u001b[39mraise\u001b[39;00m SSLError(e, request\u001b[39m=\u001b[39mrequest)\n\u001b[0;32m--> 565\u001b[0m     \u001b[39mraise\u001b[39;00m \u001b[39mConnectionError\u001b[39;00m(e, request\u001b[39m=\u001b[39mrequest)\n\u001b[1;32m    567\u001b[0m \u001b[39mexcept\u001b[39;00m ClosedPoolError \u001b[39mas\u001b[39;00m e:\n\u001b[1;32m    568\u001b[0m     \u001b[39mraise\u001b[39;00m \u001b[39mConnectionError\u001b[39;00m(e, request\u001b[39m=\u001b[39mrequest)\n",
      "\u001b[0;31mConnectionError\u001b[0m: HTTPSConnectionPool(host='jsonplaceholder.typicode.com', port=443): Max retries exceeded with url: /todos/1 (Caused by NewConnectionError('<urllib3.connection.HTTPSConnection object at 0x7f509f2afb50>: Failed to establish a new connection: [Errno -3] Temporary failure in name resolution'))"
     ]
    }
   ],
   "source": [
    "from ratelimit import limits, sleep_and_retry\n",
    "import requests\n",
    "import datetime as dt\n",
    "import pytz\n",
    "\n",
    "TWENTY_FOUR_HOURS = 60 * 60 * 24\n",
    "\n",
    "# Set the \"sleep and retry\" approach to handling rate limits\n",
    "@sleep_and_retry\n",
    "# Set rate limits for #3 and #4 in the MLSGrid rate limitations\n",
    "@limits(calls=40_000, period=TWENTY_FOUR_HOURS)\n",
    "#@limits(calls=1, period=1)\n",
    "def call_api(url):\n",
    "    response = requests.get(url)\n",
    "\n",
    "    if response.status_code != 200:\n",
    "        raise Exception('API response: {}'.format(response.status_code))\n",
    "    return response\n",
    "\n",
    "\n",
    "#URL = 'https://catfact.ninja/fact'\n",
    "URL = 'https://jsonplaceholder.typicode.com/todos/1'\n",
    "# Test the rate limitations\n",
    "for i in range(50_000):\n",
    "    response = call_api(URL).text\n",
    "    if i % 1_000 == 0:\n",
    "        current_time = dt.datetime.now(pytz.timezone('US/Central'))\n",
    "        print('{current_time} [ {i} ] - {response}'.format(\n",
    "            current_time=current_time,\n",
    "            i=i,\n",
    "            response=response,\n",
    "        ))\n",
    "        #print(current_time + ' - ' call_api(URL).text)"
   ]
  },
  {
   "cell_type": "code",
   "execution_count": null,
   "metadata": {},
   "outputs": [],
   "source": [
    "'''\n",
    "URL Schema:\n",
    "[Main API endpoint] / [Resource name] ? $filter=OriginatingSystemName eq [mls_system] and ModificationTimestamp gt [most recent timestampe in db] &$expand=Media,Rooms,UnitTypes &$top=1000\n",
    "https://api.mlsgrid.com/v2/Property?$filter=OriginatingSystemName%20eq%20%27actris%27%20and%20ModificationTimestamp%20gt%202020-12-30T23:59:59.99Z&$expand=Media,Rooms,UnitTypes\n",
    "\n",
    "NB example from Postman includes spaces:\n",
    "url = \"https://api.mlsgrid.com/v2/Property?$filter=OriginatingSystemName eq 'mred' and MlgCanView eq true&$expand=Media,Rooms,UnitTypes\"\n",
    "\n",
    "NB example nextLink when querying only 1 record (initial replication):\n",
    "https://api.mlsgrid.com/v2/Property?$top=1&$expand=Media%2CRooms%2CUnitTypes&$skip=1\n",
    "'''"
   ]
  },
  {
   "cell_type": "code",
   "execution_count": 97,
   "metadata": {},
   "outputs": [
    {
     "name": "stdout",
     "output_type": "stream",
     "text": [
      "2022-09-12 17:58:28.489980+00:00\n"
     ]
    }
   ],
   "source": [
    "import datetime as dt\n",
    "\n",
    "print(dt.datetime.now(tz=dt.timezone.utc))"
   ]
  },
  {
   "cell_type": "code",
   "execution_count": 114,
   "metadata": {},
   "outputs": [
    {
     "name": "stdout",
     "output_type": "stream",
     "text": [
      "Replication completed at 2022-09-12 17:31:42.385412-05:00\n"
     ]
    }
   ],
   "source": [
    "import pytz\n",
    "\n",
    "print('Replication completed at {}'.format(dt.datetime.now(pytz.timezone('US/Central'))))\n",
    "\n"
   ]
  },
  {
   "cell_type": "code",
   "execution_count": null,
   "metadata": {},
   "outputs": [],
   "source": []
  },
  {
   "cell_type": "markdown",
   "metadata": {},
   "source": [
    "-----"
   ]
  },
  {
   "cell_type": "markdown",
   "metadata": {},
   "source": [
    "## Building our MLSGridAPI Class\n",
    "Here are the notes we're assembling to build our MLSGridAPI class ..."
   ]
  },
  {
   "cell_type": "code",
   "execution_count": null,
   "metadata": {},
   "outputs": [],
   "source": [
    "from dotenv import load_dotenv\n",
    "import os\n",
    "\n",
    "load_dotenv()\n",
    "MLSGRID_API_TOKEN=os.environ.get('MLSGRID_API_TOKEN')\n",
    "\n",
    "MLSGRID_API_URL = 'https://api.mlsgrid.com/v2/'\n",
    "\n",
    "import requests\n",
    "\n",
    "session = requests.Session()\n",
    "session.headers.update( {'Authorization' : 'Bearer ' + MLSGRID_API_TOKEN})\n",
    "\n",
    "import json\n",
    "\n",
    "response = session.get(url=MLSGRID_API_URL + 'Property?$top=1')\n",
    "print(response)\n",
    "print(type(response.json()))\n",
    "\n",
    "response.json()\n",
    "\n",
    "parsed = json.dumps(response.json(), indent=4)\n",
    "print(parsed)\n",
    "\n",
    "response = session.get(url=MLSGRID_API_URL + 'Property?$top=1&$expand=Media,Rooms,UnitTypes')\n",
    "parsed = json.dumps(response.json(), indent=4)\n",
    "print(parsed)\n",
    "print(response.json()['value'][0]['Media'])\n",
    "print(response.json()['value'][0]['Rooms'])\n",
    "print(response.json()['value'][0]['UnitTypes'])"
   ]
  },
  {
   "cell_type": "markdown",
   "metadata": {},
   "source": [
    "### MLSGridAPI Class\n",
    "\n",
    "#### Properties\n",
    "_What does it have?_\n",
    "* Base URL for the API\n",
    "* URLs for each of the resources offered (Property, Member, Office, Open_House)\n",
    "    * Lookups?  [There's more to do here](https://docs.mlsgrid.com/api-documentation/api-version-2.0#searchable-fields), but some of these are important, including:\n",
    "        * MlgCanView (deletion flag)\n",
    "        * ModificationTimestamp (record updated timestamp)\n",
    "        * OriginatingSystemName (MLS system of record) -- promote to a property\n",
    "* MLS System\n",
    "* \n",
    "\n",
    "\n",
    "#### Methods\n",
    "_What can it do?_\n",
    "* **Replicate**\n",
    "    * Pass it a resource name and this will replicate the resource to a database you specify\n",
    "    **_Options_**:\n",
    "        * Initial replication (`initial=True, deleted_records=False`)\n",
    "            * Will iterate through the entire MLSGrid and replicate the specified resource\n",
    "            * `deleted_records=False` translates to `$filter=MlgCanView eq true` in ODATA query parameter\n",
    "        * Expand (`expand='all'` 3 expandable resources)\n",
    "            * Will expand / embed the expandable resources on the MLSGrid side and return embedded resources\n",
    "        * Number of records to return (`max_records=1_000`)\n",
    "            * Return 1,000 records at a time, which is the max due to expanded resources\n",
    "        * Ongoing replication (`initial=False, latest_timestamp=<TIMESTAMP PROVIDED BY USER>`)\n",
    "            * Resume replication workflow starting with the first record modified after the timestamp you provide\n",
    "            * `latest_timestamp=<TIMESTAMP PROVIDED BY USER>` translates to `$filter=ModificationTimestamp gt '202020-12-12T00:00:00.000Z'\n",
    "* **ReplicateProperty, ReplicateMember, ReplicateOffice, ReplicateOpenHouse**\n",
    "    * Convenience methods to replicate specific resources\n",
    "* **WriteRecords**\n",
    "    * Write the replication records returned by the API to a database you specify\n",
    "\n"
   ]
  },
  {
   "cell_type": "markdown",
   "metadata": {},
   "source": [
    "## #BOOKMARK Appraoch Notes"
   ]
  },
  {
   "cell_type": "markdown",
   "metadata": {},
   "source": [
    "### Where do we go from here?\n",
    "* Revise dependency management approach for the PyPI package so that it's not so manual\n",
    "    * Right now, you're editing `requirements.txt` and `pyproject.toml` manually, and also manually bumping the version number each time in the TOML file\n",
    "* Build pipeline to keep PyPI updated with each git commit\n",
    "* Build infrastructure deployment using CDK\n",
    "    * https://aws.github.io/chalice/tutorials/cdk.html\n",
    "* Revise when database is deployed\n",
    "    * ModificationTimestamp lookup & setting\n",
    "    * Record writing\n",
    "* Your rate limiting exists only as long as your session\n",
    "    * With the application running serverlessly as Lambda functions, do you need to store some data for persistence?\n",
    "* Write tests for all of it\n",
    "* Implement enhanced logging\n",
    "    * Advise when starting & completing replication jobs\n",
    "    * Advise of errors (and their contents)\n",
    "* Write-up each component of the initial version of the `MLSGridAPI` class committed 9/13/22\n",
    "* Build convenience functions for replicating other resources\n",
    "* Do you need to build a Lookup replicator?\n",
    "    * https://docs.mlsgrid.com/api-documentation/api-version-2.0#lookups\n",
    "    * This says don't replicate that resource more than once daily ... \n",
    "    * Understand this better ...\n",
    "    * Do you need to replicate the lookups in order to get the data?\n",
    "        * Unclear -- StandardStatus seems to come with an embedded value, but BuyerFinancing doesn't seem to show up with any values in the first 4,000 or so Property records ...\n"
   ]
  },
  {
   "cell_type": "markdown",
   "metadata": {},
   "source": [
    "---"
   ]
  },
  {
   "cell_type": "markdown",
   "metadata": {},
   "source": []
  }
 ],
 "metadata": {
  "kernelspec": {
   "display_name": "Python 3.9.13 ('.venv': venv)",
   "language": "python",
   "name": "python3"
  },
  "language_info": {
   "codemirror_mode": {
    "name": "ipython",
    "version": 3
   },
   "file_extension": ".py",
   "mimetype": "text/x-python",
   "name": "python",
   "nbconvert_exporter": "python",
   "pygments_lexer": "ipython3",
   "version": "3.9.13"
  },
  "orig_nbformat": 4,
  "vscode": {
   "interpreter": {
    "hash": "ab866d2def94a525f82b85f4a791ce75daf54b8e73b7177677d0f97a34cd75d0"
   }
  }
 },
 "nbformat": 4,
 "nbformat_minor": 2
}
