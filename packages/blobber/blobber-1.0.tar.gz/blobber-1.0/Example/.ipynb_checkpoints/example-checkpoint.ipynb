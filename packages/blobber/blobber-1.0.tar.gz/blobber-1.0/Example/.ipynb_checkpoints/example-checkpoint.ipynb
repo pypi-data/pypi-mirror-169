{
 "cells": [
  {
   "cell_type": "markdown",
   "metadata": {},
   "source": [
    "# Blobber for Python Beginners\n",
    "\n",
    "To utilise Blobber, the best interface would be running Python on Jupyter Notebook. However, if one does not have previous experiences with Jupyter Notebook or Python, here is a step by step guide to install Jupyter Notebook.\n",
    "\n",
    "## 1) Installing Anaconda on your computer\n",
    "\n",
    "Since there is already an official step by step guide on installing Anaconda. I will not re-iterate the installation steps. One can find the official installation guide for [Windows here](https://docs.anaconda.com/anaconda/install/windows/); And for macOS, the installation guide is [here](https://docs.anaconda.com/anaconda/install/mac-os/).\n",
    "\n",
    "## 2) Opening Jupyter Notebook on your computer\n",
    "\n",
    "After installing Anaconda, open the Anaconda navigator, you should see something like this, where Jupyter note book is already in the navigator.\n",
    "\n",
    "<img src='images/Anaconda Navigator.png'>\n",
    "\n",
    "Now, simply click on the launch button, an instance of Jupyter Notebook should automatically open in your default browswer. And now, you should see your file directory. \n",
    "\n",
    "<img src='images/Jupyter Directories.png'>\n",
    "\n"
   ]
  },
  {
   "cell_type": "code",
   "execution_count": null,
   "metadata": {},
   "outputs": [],
   "source": []
  }
 ],
 "metadata": {
  "kernelspec": {
   "display_name": "Python 3 (ipykernel)",
   "language": "python",
   "name": "python3"
  },
  "language_info": {
   "codemirror_mode": {
    "name": "ipython",
    "version": 3
   },
   "file_extension": ".py",
   "mimetype": "text/x-python",
   "name": "python",
   "nbconvert_exporter": "python",
   "pygments_lexer": "ipython3",
   "version": "3.9.7"
  },
  "vscode": {
   "interpreter": {
    "hash": "b0fa6594d8f4cbf19f97940f81e996739fb7646882a419484c72d19e05852a7e"
   }
  }
 },
 "nbformat": 4,
 "nbformat_minor": 2
}
