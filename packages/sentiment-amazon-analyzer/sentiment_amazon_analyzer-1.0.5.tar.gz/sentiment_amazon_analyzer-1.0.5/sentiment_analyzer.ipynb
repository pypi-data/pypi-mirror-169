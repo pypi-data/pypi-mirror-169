{
 "cells": [
  {
   "cell_type": "code",
   "execution_count": 1,
   "id": "21b63300",
   "metadata": {},
   "outputs": [],
   "source": [
    "import warnings\n",
    "import pickle\n",
    "import pandas as pd\n",
    "import numpy as np\n",
    "import seaborn as sns\n",
    "import matplotlib.pyplot as plt\n",
    "\n",
    "from import_data import DataImporter\n",
    "from sentiment_pipeline import SentimentPipeline\n",
    "from vote_classifier import VoteClassifier\n",
    "\n",
    "from wordcloud import WordCloud\n",
    "\n",
    "from nltk import pos_tag\n",
    "from nltk import FreqDist\n",
    "from nltk.corpus import wordnet\n",
    "from nltk.stem import WordNetLemmatizer\n",
    "\n",
    "from sklearn import preprocessing\n",
    "from sklearn import model_selection, naive_bayes, svm\n",
    "from sklearn.utils import resample\n",
    "from sklearn.metrics import accuracy_score, confusion_matrix, precision_recall_fscore_support as score, classification_report\n",
    "from sklearn.cluster import KMeans\n",
    "from sklearn.pipeline import Pipeline\n",
    "from sklearn.model_selection import train_test_split, GridSearchCV\n",
    "from sklearn.feature_extraction.text import TfidfVectorizer, CountVectorizer\n",
    "from sklearn.dummy import DummyClassifier\n",
    "from sklearn.linear_model import LogisticRegression\n",
    "\n",
    "# dataset - http://deepyeti.ucsd.edu/jianmo/amazon/index.html"
   ]
  },
  {
   "cell_type": "code",
   "execution_count": 2,
   "id": "dec54670",
   "metadata": {},
   "outputs": [],
   "source": [
    "# pd settings\n",
    "# pd.set_option('display.max_colwidth', None)\n",
    "# pd.set_option(\"min_rows\", 300)"
   ]
  },
  {
   "cell_type": "code",
   "execution_count": 3,
   "id": "864915bd",
   "metadata": {},
   "outputs": [],
   "source": [
    "# pickle load or save data\n",
    "def pickle_save(data, path):\n",
    "    file = open(path, 'wb')\n",
    "    pickle.dump(data, file)\n",
    "    file.close()\n",
    "    \n",
    "def pickle_load(path):\n",
    "    file = open(path, 'rb')\n",
    "    data = pickle.load(file)\n",
    "    file.close()\n",
    "    return data"
   ]
  },
  {
   "cell_type": "code",
   "execution_count": null,
   "id": "1687b300",
   "metadata": {},
   "outputs": [],
   "source": [
    "# IMPORT DATA INTO DATAFRAME\n",
    "\n",
    "data_importer = DataImporter('data/Cell_Phones_and_Accessories_5.json.gz')\n",
    "df = data_importer.import_data()"
   ]
  },
  {
   "cell_type": "code",
   "execution_count": null,
   "id": "90d337cf",
   "metadata": {},
   "outputs": [],
   "source": [
    "# SHOW DG INFO - NUM OF ENTRIES, COLUMN NAMES AND DTYPES...\n",
    "df.info()"
   ]
  },
  {
   "cell_type": "code",
   "execution_count": null,
   "id": "9e7d7a49",
   "metadata": {},
   "outputs": [],
   "source": [
    "# remove random number of rows from df\n",
    "remove_n = 1000000\n",
    "# np.random.seed(10)\n",
    "drop_indices = np.random.choice(df.index, remove_n, replace=False)\n",
    "df.drop(drop_indices, inplace=True)\n",
    "pickle_save(df, 'pickles/dataset.pickle')"
   ]
  },
  {
   "cell_type": "code",
   "execution_count": null,
   "id": "b4dc8a1d",
   "metadata": {},
   "outputs": [],
   "source": [
    "df = pickle_load('pickles/dataset.pickle')"
   ]
  },
  {
   "cell_type": "code",
   "execution_count": null,
   "id": "82d52619",
   "metadata": {},
   "outputs": [],
   "source": [
    "df.info()"
   ]
  },
  {
   "cell_type": "code",
   "execution_count": null,
   "id": "e6de1591",
   "metadata": {
    "scrolled": true
   },
   "outputs": [],
   "source": [
    "# REMOVE EVERY COLUMN FROM DF, EXCEPT THE ONES SPECIFIED\n",
    "\n",
    "df.drop(df.columns.difference(['reviewText','overall']), axis=1, inplace=True)"
   ]
  },
  {
   "cell_type": "code",
   "execution_count": null,
   "id": "a05154fd",
   "metadata": {},
   "outputs": [],
   "source": [
    "# RENAME COLUMNS\n",
    "\n",
    "df.rename(columns={'reviewText': 'review_text'}, inplace=True)"
   ]
  },
  {
   "cell_type": "code",
   "execution_count": null,
   "id": "fa68aee6",
   "metadata": {},
   "outputs": [],
   "source": [
    "# GET NEW DF INFORMATION CONTAINING DESIRED COLUMNS\n",
    "\n",
    "df.info()"
   ]
  },
  {
   "cell_type": "code",
   "execution_count": null,
   "id": "96e3bc1e",
   "metadata": {},
   "outputs": [],
   "source": [
    "df.head()"
   ]
  },
  {
   "cell_type": "code",
   "execution_count": null,
   "id": "1d633570",
   "metadata": {},
   "outputs": [],
   "source": [
    "# PLOT OVERALL VALUES USING PYPLOT\n",
    "\n",
    "plot_size = [10.0, 10.0]\n",
    "plt.rcParams[\"figure.figsize\"] = plot_size\n",
    "\n",
    "df[\"overall\"].value_counts().plot(kind=\"pie\", autopct=\"%1.0f%%\")"
   ]
  },
  {
   "cell_type": "code",
   "execution_count": null,
   "id": "124abfd8",
   "metadata": {},
   "outputs": [],
   "source": [
    "# REMOVE ALL ROWS THAT ARE NOT SUITABLE FOR ANALYSIS\n",
    "\n",
    "df.dropna(subset=['review_text', 'overall'], how='any', inplace=True)\n",
    "df.drop(df[(df.overall < 4) & (df.overall > 2)].index, inplace=True)\n"
   ]
  },
  {
   "cell_type": "code",
   "execution_count": null,
   "id": "09da6d51",
   "metadata": {},
   "outputs": [],
   "source": [
    "df.info()"
   ]
  },
  {
   "cell_type": "code",
   "execution_count": null,
   "id": "6c565328",
   "metadata": {},
   "outputs": [],
   "source": [
    "def generate_most_common_words(text):\n",
    "    wordcloud = WordCloud(background_color=\"white\", \n",
    "                          max_words=150,\n",
    "                          max_font_size=300,\n",
    "                          width=1024, \n",
    "                          height=500,\n",
    "                          colormap=\"Blues\"\n",
    "                         ).generate(text)\n",
    "    return wordcloud"
   ]
  },
  {
   "cell_type": "code",
   "execution_count": null,
   "id": "c20c2a05",
   "metadata": {},
   "outputs": [],
   "source": [
    "# VISUALIZE MOST COMMON WORDS USING WORDCLOUD\n",
    "\n",
    "text = ' '.join(df['review_text'])\n",
    "wordcloud = generate_most_common_words(text)\n",
    "pickle_save(wordcloud, 'pickles/most_common_words.pickle')"
   ]
  },
  {
   "cell_type": "code",
   "execution_count": null,
   "id": "6a36e107",
   "metadata": {},
   "outputs": [],
   "source": [
    "wordcloud = pickle_load('pickles/most_common_words.pickle')\n",
    "plt.figure(figsize=(20,20))\n",
    "plt.imshow(wordcloud, interpolation='bilinear')\n",
    "plt.axis(\"off\")\n",
    "plt.margins(x=0, y=0)\n",
    "plt.show()   "
   ]
  },
  {
   "cell_type": "code",
   "execution_count": null,
   "id": "76d19ee2",
   "metadata": {},
   "outputs": [],
   "source": [
    "def resolve_sentiment(overall):\n",
    "    if overall > 3:\n",
    "        return 'pos'\n",
    "    return 'neg'"
   ]
  },
  {
   "cell_type": "code",
   "execution_count": null,
   "id": "974dd6ea",
   "metadata": {},
   "outputs": [],
   "source": [
    "df['sentiment'] = df['overall'].apply(lambda overall: resolve_sentiment(overall))"
   ]
  },
  {
   "cell_type": "code",
   "execution_count": null,
   "id": "4120c9a6",
   "metadata": {},
   "outputs": [],
   "source": [
    "df.head()"
   ]
  },
  {
   "cell_type": "code",
   "execution_count": null,
   "id": "b5f89f27",
   "metadata": {},
   "outputs": [],
   "source": [
    "# CHECK HOW MANY POSITIVE AND NEGATIVE REVIEWS ARE IN THE DF\n",
    "\n",
    "num_of_pos_and_neg_reviews = df['sentiment'].value_counts()\n",
    "\n",
    "num_of_pos_reviews = num_of_pos_and_neg_reviews['pos']\n",
    "num_of_neg_reviews = num_of_pos_and_neg_reviews['neg']\n",
    "\n",
    "print(num_of_pos_and_neg_reviews)"
   ]
  },
  {
   "cell_type": "code",
   "execution_count": null,
   "id": "c2173c83",
   "metadata": {},
   "outputs": [],
   "source": [
    "# VISUALIZE SENTIMENTS USING SEABORN\n",
    "\n",
    "sns.countplot(x=df['sentiment'])"
   ]
  },
  {
   "cell_type": "code",
   "execution_count": null,
   "id": "82d98371",
   "metadata": {},
   "outputs": [],
   "source": [
    "# UPSAMPLING / DOWNSAMPLING\n",
    "\n",
    "df_pos = df[(df['sentiment']=='pos')] \n",
    "df_neg = df[(df['sentiment']=='neg')] \n",
    "\n",
    "# DOWNSAMPLING\n",
    "# df_majority_downsampled = resample(df_pos, \n",
    "#                                  replace=True,   \n",
    "#                                  n_samples= num_of_neg_reviews, \n",
    "#                                  random_state=42)  \n",
    "# df = pd.concat([df_majority_downsampled, df_neg])\n",
    "\n",
    "# UPSAMPLING\n",
    "df_minority_upsampled = resample(df_neg, \n",
    "                                 replace=True,   \n",
    "                                 n_samples= num_of_pos_reviews, \n",
    "                                 random_state=42) \n",
    "df = pd.concat([df_minority_upsampled, df_pos])"
   ]
  },
  {
   "cell_type": "code",
   "execution_count": null,
   "id": "55cab343",
   "metadata": {},
   "outputs": [],
   "source": [
    "# CHECK IF SENTIMENTS ARE DOWNSAMPLED / UPSAMPLED\n",
    "\n",
    "sns.countplot(x=df['sentiment'])"
   ]
  },
  {
   "cell_type": "code",
   "execution_count": null,
   "id": "db9ccaa9",
   "metadata": {},
   "outputs": [],
   "source": [
    "def run_sentiment_pipeline(text):\n",
    "    pipeline = SentimentPipeline(text)\n",
    "    return pipeline.run()"
   ]
  },
  {
   "cell_type": "code",
   "execution_count": null,
   "id": "cbfdc4fd",
   "metadata": {},
   "outputs": [],
   "source": [
    "# CREATE WORD TOKENS FOR EVERY DF ROW\n",
    "\n",
    "df['tokens'] = df['review_text'].apply(lambda text: run_sentiment_pipeline(text))\n",
    "pickle_save(df, 'pickles/tokenized_dataset.pickle')"
   ]
  },
  {
   "cell_type": "code",
   "execution_count": null,
   "id": "811bb011",
   "metadata": {},
   "outputs": [],
   "source": [
    "df = pickle_load('pickles/tokenized_dataset.pickle')"
   ]
  },
  {
   "cell_type": "code",
   "execution_count": null,
   "id": "49743fae",
   "metadata": {},
   "outputs": [],
   "source": [
    "df.head(20)"
   ]
  },
  {
   "cell_type": "code",
   "execution_count": null,
   "id": "3b29e9ac",
   "metadata": {},
   "outputs": [],
   "source": [
    "# PLOT MOST COMMON TOKENS USING FREQDIST\n",
    "\n",
    "fdist = FreqDist(np.concatenate(df['tokens'].values))\n",
    "pickle_save(fdist, 'pickles/most_common_tokens.pickle')"
   ]
  },
  {
   "cell_type": "code",
   "execution_count": null,
   "id": "cf0b792c",
   "metadata": {},
   "outputs": [],
   "source": [
    "fdist = pickle_load('pickles/most_common_tokens.pickle')\n",
    "fdist.most_common(20)\n",
    "fdist.plot(20)"
   ]
  },
  {
   "cell_type": "code",
   "execution_count": null,
   "id": "5f1e4a20",
   "metadata": {},
   "outputs": [],
   "source": [
    "wordnet_pos = {\n",
    "    \"J\": wordnet.ADJ,\n",
    "    \"V\": wordnet.VERB,\n",
    "    \"N\": wordnet.NOUN,\n",
    "    \"R\": wordnet.ADV\n",
    "}\n",
    "\n",
    "def get_token_with_pos_tag(word, tag):\n",
    "    if tag in wordnet_pos:\n",
    "        return (word, wordnet_pos[tag])\n",
    "    else:\n",
    "        return (word, None)  \n",
    "\n",
    "def get_tokens_with_pos_tags(tokens):\n",
    "    tokes_with_pos = []\n",
    "    allowed_word_types = [\"J\", \"V\", \"R\", \"I\", \"C\", \"N\"]\n",
    "    # allowed_word_types = [\"J\", \"C\", \"R\"]\n",
    "\n",
    "    for f in pos_tag(tokens):\n",
    "        if f[1][0] in allowed_word_types:\n",
    "            tokes_with_pos.append(get_token_with_pos_tag(f[0], f[1][0]))    \n",
    "                                \n",
    "    return tokes_with_pos"
   ]
  },
  {
   "cell_type": "code",
   "execution_count": null,
   "id": "031a7120",
   "metadata": {},
   "outputs": [],
   "source": [
    "# GET TOKENS WITH THEIR POS TAGS\n",
    "\n",
    "df['tokens_with_pos_tags'] = df['tokens'].apply(lambda tokens: get_tokens_with_pos_tags(tokens))\n",
    "pickle_save(df, 'pickles/tokenized_dataset_with_pos_tags.pickle')"
   ]
  },
  {
   "cell_type": "code",
   "execution_count": null,
   "id": "cc9dde54",
   "metadata": {},
   "outputs": [],
   "source": [
    "df = pickle_load('pickles/tokenized_dataset_with_pos_tags.pickle')"
   ]
  },
  {
   "cell_type": "code",
   "execution_count": null,
   "id": "f03b272f",
   "metadata": {},
   "outputs": [],
   "source": [
    "df.head()"
   ]
  },
  {
   "cell_type": "code",
   "execution_count": null,
   "id": "7c617955",
   "metadata": {},
   "outputs": [],
   "source": [
    "# from nltk.corpus import stopwords\n",
    "# import nltk\n",
    "# df['bigrams'] = df['features'].apply(lambda row: list(nltk.bigrams(row)))\n",
    "\n",
    "# stopwords.words(\"english\")\n",
    "\n",
    "# print(pos_tag(['but', 'terrific', 'fits', 'thank', 'love', 'super', 'shine', 'excellent', 'junk', 'awesome']))"
   ]
  },
  {
   "cell_type": "code",
   "execution_count": null,
   "id": "6835b91f",
   "metadata": {},
   "outputs": [],
   "source": [
    "lemmatizer = WordNetLemmatizer()\n",
    "\n",
    "def lemmatize_word(word, tag):\n",
    "    if tag is None:\n",
    "        return lemmatizer.lemmatize(word)\n",
    "    \n",
    "    return lemmatizer.lemmatize(word, pos=tag)   \n",
    "\n",
    "def lemmatize_tokens(tokens):\n",
    "    res = \"\"\n",
    "    for token in tokens:\n",
    "        res += lemmatize_word(token[0], token[1]) + \" \"\n",
    "        \n",
    "    return res.strip()"
   ]
  },
  {
   "cell_type": "code",
   "execution_count": null,
   "id": "beb2208d",
   "metadata": {},
   "outputs": [],
   "source": [
    "# PERFORM LEMMATIZATION\n",
    "\n",
    "df['lemmatized_text']=df['tokens_with_pos_tags'].apply(lambda tokens: lemmatize_tokens(tokens))"
   ]
  },
  {
   "cell_type": "code",
   "execution_count": null,
   "id": "5f4fffb8",
   "metadata": {},
   "outputs": [],
   "source": [
    "df.head()"
   ]
  },
  {
   "cell_type": "code",
   "execution_count": null,
   "id": "1b9e2717",
   "metadata": {},
   "outputs": [],
   "source": [
    "# LABEL SENTIMENTS USING LABELENCODER\n",
    "\n",
    "label_encoder = preprocessing.LabelEncoder()\n",
    "  \n",
    "# encode labels in column 'sentiment'.\n",
    "df['sentiment_encoded']= label_encoder.fit_transform(df['sentiment'])"
   ]
  },
  {
   "cell_type": "code",
   "execution_count": null,
   "id": "e19c3806",
   "metadata": {},
   "outputs": [],
   "source": [
    "df.head()"
   ]
  },
  {
   "cell_type": "code",
   "execution_count": null,
   "id": "26b653fe",
   "metadata": {},
   "outputs": [],
   "source": [
    "df.drop(df.columns.difference(['overall','review_text', 'sentiment_encoded', 'lemmatized_text']), axis=1, inplace=True)\n",
    "pickle_save(df, 'pickles/lemmatized_encoded_dataset.pickle')"
   ]
  },
  {
   "cell_type": "code",
   "execution_count": 4,
   "id": "1eef4cac",
   "metadata": {},
   "outputs": [],
   "source": [
    "df = pickle_load('pickles/lemmatized_encoded_dataset.pickle')"
   ]
  },
  {
   "cell_type": "code",
   "execution_count": 6,
   "id": "28bcdc5f",
   "metadata": {},
   "outputs": [
    {
     "data": {
      "text/html": [
       "<div>\n",
       "<style scoped>\n",
       "    .dataframe tbody tr th:only-of-type {\n",
       "        vertical-align: middle;\n",
       "    }\n",
       "\n",
       "    .dataframe tbody tr th {\n",
       "        vertical-align: top;\n",
       "    }\n",
       "\n",
       "    .dataframe thead th {\n",
       "        text-align: right;\n",
       "    }\n",
       "</style>\n",
       "<table border=\"1\" class=\"dataframe\">\n",
       "  <thead>\n",
       "    <tr style=\"text-align: right;\">\n",
       "      <th></th>\n",
       "      <th>overall</th>\n",
       "      <th>review_text</th>\n",
       "      <th>lemmatized_text</th>\n",
       "      <th>sentiment_encoded</th>\n",
       "    </tr>\n",
       "  </thead>\n",
       "  <tbody>\n",
       "    <tr>\n",
       "      <th>512431</th>\n",
       "      <td>2.0</td>\n",
       "      <td>Case is fine looking.. One problem I'm coming ...</td>\n",
       "      <td>case fine look one problem come screen peal on...</td>\n",
       "      <td>0</td>\n",
       "    </tr>\n",
       "    <tr>\n",
       "      <th>1123878</th>\n",
       "      <td>2.0</td>\n",
       "      <td>Too cheap for my liking, one drop and the case...</td>\n",
       "      <td>too cheap like one drop case fels like break n...</td>\n",
       "      <td>0</td>\n",
       "    </tr>\n",
       "    <tr>\n",
       "      <th>44086</th>\n",
       "      <td>1.0</td>\n",
       "      <td>Doesn't work</td>\n",
       "      <td>not work</td>\n",
       "      <td>0</td>\n",
       "    </tr>\n",
       "    <tr>\n",
       "      <th>363581</th>\n",
       "      <td>1.0</td>\n",
       "      <td>Tried and tried but never could get it to stay...</td>\n",
       "      <td>try tried but never get stay screen apply scre...</td>\n",
       "      <td>0</td>\n",
       "    </tr>\n",
       "    <tr>\n",
       "      <th>972393</th>\n",
       "      <td>1.0</td>\n",
       "      <td>didn't even fit!</td>\n",
       "      <td>not even fit</td>\n",
       "      <td>0</td>\n",
       "    </tr>\n",
       "    <tr>\n",
       "      <th>...</th>\n",
       "      <td>...</td>\n",
       "      <td>...</td>\n",
       "      <td>...</td>\n",
       "      <td>...</td>\n",
       "    </tr>\n",
       "    <tr>\n",
       "      <th>1128407</th>\n",
       "      <td>5.0</td>\n",
       "      <td>Fits my phone nicely. I love that it really do...</td>\n",
       "      <td>fit phone nicely love really repel skin oil sm...</td>\n",
       "      <td>1</td>\n",
       "    </tr>\n",
       "    <tr>\n",
       "      <th>1128408</th>\n",
       "      <td>4.0</td>\n",
       "      <td>Not sure if I like this. It's thicker than my ...</td>\n",
       "      <td>not sure like thicker former protective screen...</td>\n",
       "      <td>1</td>\n",
       "    </tr>\n",
       "    <tr>\n",
       "      <th>1128413</th>\n",
       "      <td>5.0</td>\n",
       "      <td>Works Great</td>\n",
       "      <td>work great</td>\n",
       "      <td>1</td>\n",
       "    </tr>\n",
       "    <tr>\n",
       "      <th>1128421</th>\n",
       "      <td>5.0</td>\n",
       "      <td>SUPER CUTE - Time will tell if image wipes off...</td>\n",
       "      <td>super cute time tell image wipe silicone</td>\n",
       "      <td>1</td>\n",
       "    </tr>\n",
       "    <tr>\n",
       "      <th>1128424</th>\n",
       "      <td>5.0</td>\n",
       "      <td>Charges my phone very quickly.</td>\n",
       "      <td>charge phone very quickly</td>\n",
       "      <td>1</td>\n",
       "    </tr>\n",
       "  </tbody>\n",
       "</table>\n",
       "<p>202708 rows × 4 columns</p>\n",
       "</div>"
      ],
      "text/plain": [
       "         overall                                        review_text  \\\n",
       "512431       2.0  Case is fine looking.. One problem I'm coming ...   \n",
       "1123878      2.0  Too cheap for my liking, one drop and the case...   \n",
       "44086        1.0                                       Doesn't work   \n",
       "363581       1.0  Tried and tried but never could get it to stay...   \n",
       "972393       1.0                                   didn't even fit!   \n",
       "...          ...                                                ...   \n",
       "1128407      5.0  Fits my phone nicely. I love that it really do...   \n",
       "1128408      4.0  Not sure if I like this. It's thicker than my ...   \n",
       "1128413      5.0                                        Works Great   \n",
       "1128421      5.0  SUPER CUTE - Time will tell if image wipes off...   \n",
       "1128424      5.0                     Charges my phone very quickly.   \n",
       "\n",
       "                                           lemmatized_text  sentiment_encoded  \n",
       "512431   case fine look one problem come screen peal on...                  0  \n",
       "1123878  too cheap like one drop case fels like break n...                  0  \n",
       "44086                                             not work                  0  \n",
       "363581   try tried but never get stay screen apply scre...                  0  \n",
       "972393                                        not even fit                  0  \n",
       "...                                                    ...                ...  \n",
       "1128407  fit phone nicely love really repel skin oil sm...                  1  \n",
       "1128408  not sure like thicker former protective screen...                  1  \n",
       "1128413                                         work great                  1  \n",
       "1128421           super cute time tell image wipe silicone                  1  \n",
       "1128424                          charge phone very quickly                  1  \n",
       "\n",
       "[202708 rows x 4 columns]"
      ]
     },
     "execution_count": 6,
     "metadata": {},
     "output_type": "execute_result"
    }
   ],
   "source": [
    "df"
   ]
  },
  {
   "cell_type": "code",
   "execution_count": 5,
   "id": "fa412898",
   "metadata": {},
   "outputs": [
    {
     "name": "stdout",
     "output_type": "stream",
     "text": [
      "X_train: (162166,), Y_train: (162166,)\n",
      "X_valid: (20271,), Y_valid: (20271,)\n",
      "X_test: (20271,), Y_test: (20271,)\n"
     ]
    }
   ],
   "source": [
    "# SPLIT THE DATA INTO TRAINING, VALIDATION AND TEST SETS\n",
    "\n",
    "X_train,X_temp,Y_train, Y_temp = train_test_split(df['lemmatized_text'], df['sentiment_encoded'], train_size=0.8, random_state=30)\n",
    "X_valid, X_test, Y_valid, Y_test = train_test_split(X_temp, Y_temp, test_size=0.5, random_state=31)\n",
    "\n",
    "\n",
    "print(\"X_train: {}, Y_train: {}\".format(X_train.shape, Y_train.shape))\n",
    "print(\"X_valid: {}, Y_valid: {}\".format(X_valid.shape, Y_valid.shape))\n",
    "print(\"X_test: {}, Y_test: {}\".format(X_test.shape, Y_test.shape))"
   ]
  },
  {
   "cell_type": "code",
   "execution_count": 7,
   "id": "5fb184c4",
   "metadata": {},
   "outputs": [],
   "source": [
    "# APPLY TF-IDF VECTORIZER - CONVERT TEXT TO NUMERICAL VALUES\n",
    "\n",
    "vectorizer = TfidfVectorizer(ngram_range=(1,2),max_features=15000)\n",
    "tf_x_train = vectorizer.fit_transform(X_train)\n",
    "\n",
    "pickle_save(vectorizer, 'pickles/tfidf_vectorizer.pickle')"
   ]
  },
  {
   "cell_type": "code",
   "execution_count": 6,
   "id": "ba9b154b",
   "metadata": {},
   "outputs": [],
   "source": [
    "vectorizer = pickle_load('pickles/tfidf_vectorizer.pickle')\n",
    "tf_x_valid = vectorizer.transform(X_valid)\n",
    "tf_x_test = vectorizer.transform(X_test)"
   ]
  },
  {
   "cell_type": "code",
   "execution_count": null,
   "id": "ca80746f",
   "metadata": {},
   "outputs": [],
   "source": [
    "feature_names = vectorizer.get_feature_names_out()\n",
    "feature_names"
   ]
  },
  {
   "cell_type": "code",
   "execution_count": null,
   "id": "9ead7e49",
   "metadata": {},
   "outputs": [],
   "source": [
    "# visualize most common words after preprocessing\n",
    "text = ' '.join(df['lemmatized_text'])\n",
    "wordcloud = generate_most_common_words(text)\n",
    "pickle_save(wordcloud, 'pickles/most_common_lemmatized_words.pickle')"
   ]
  },
  {
   "cell_type": "code",
   "execution_count": 1,
   "id": "a2f017d4",
   "metadata": {},
   "outputs": [
    {
     "ename": "NameError",
     "evalue": "name 'pickle_load' is not defined",
     "output_type": "error",
     "traceback": [
      "\u001b[1;31m---------------------------------------------------------------------------\u001b[0m",
      "\u001b[1;31mNameError\u001b[0m                                 Traceback (most recent call last)",
      "\u001b[1;32m<ipython-input-1-d62738062bfc>\u001b[0m in \u001b[0;36m<module>\u001b[1;34m\u001b[0m\n\u001b[1;32m----> 1\u001b[1;33m \u001b[0mwordcloud\u001b[0m \u001b[1;33m=\u001b[0m \u001b[0mpickle_load\u001b[0m\u001b[1;33m(\u001b[0m\u001b[1;34m'pickles/most_common_lemmatized_words.pickle'\u001b[0m\u001b[1;33m)\u001b[0m\u001b[1;33m\u001b[0m\u001b[1;33m\u001b[0m\u001b[0m\n\u001b[0m\u001b[0;32m      2\u001b[0m \u001b[0mplt\u001b[0m\u001b[1;33m.\u001b[0m\u001b[0mfigure\u001b[0m\u001b[1;33m(\u001b[0m\u001b[0mfigsize\u001b[0m\u001b[1;33m=\u001b[0m\u001b[1;33m(\u001b[0m\u001b[1;36m20\u001b[0m\u001b[1;33m,\u001b[0m\u001b[1;36m20\u001b[0m\u001b[1;33m)\u001b[0m\u001b[1;33m)\u001b[0m\u001b[1;33m\u001b[0m\u001b[1;33m\u001b[0m\u001b[0m\n\u001b[0;32m      3\u001b[0m \u001b[0mplt\u001b[0m\u001b[1;33m.\u001b[0m\u001b[0mimshow\u001b[0m\u001b[1;33m(\u001b[0m\u001b[0mwordcloud\u001b[0m\u001b[1;33m,\u001b[0m \u001b[0minterpolation\u001b[0m\u001b[1;33m=\u001b[0m\u001b[1;34m'bilinear'\u001b[0m\u001b[1;33m)\u001b[0m\u001b[1;33m\u001b[0m\u001b[1;33m\u001b[0m\u001b[0m\n\u001b[0;32m      4\u001b[0m \u001b[0mplt\u001b[0m\u001b[1;33m.\u001b[0m\u001b[0maxis\u001b[0m\u001b[1;33m(\u001b[0m\u001b[1;34m\"off\"\u001b[0m\u001b[1;33m)\u001b[0m\u001b[1;33m\u001b[0m\u001b[1;33m\u001b[0m\u001b[0m\n\u001b[0;32m      5\u001b[0m \u001b[0mplt\u001b[0m\u001b[1;33m.\u001b[0m\u001b[0mmargins\u001b[0m\u001b[1;33m(\u001b[0m\u001b[0mx\u001b[0m\u001b[1;33m=\u001b[0m\u001b[1;36m0\u001b[0m\u001b[1;33m,\u001b[0m \u001b[0my\u001b[0m\u001b[1;33m=\u001b[0m\u001b[1;36m0\u001b[0m\u001b[1;33m)\u001b[0m\u001b[1;33m\u001b[0m\u001b[1;33m\u001b[0m\u001b[0m\n",
      "\u001b[1;31mNameError\u001b[0m: name 'pickle_load' is not defined"
     ]
    }
   ],
   "source": [
    "wordcloud = pickle_load('pickles/most_common_lemmatized_words.pickle')\n",
    "plt.figure(figsize=(20,20))\n",
    "plt.imshow(wordcloud, interpolation='bilinear')\n",
    "plt.axis(\"off\")\n",
    "plt.margins(x=0, y=0)\n",
    "plt.show()   "
   ]
  },
  {
   "cell_type": "code",
   "execution_count": null,
   "id": "7d3eba89",
   "metadata": {},
   "outputs": [],
   "source": [
    "# num of negative reviews\n",
    "df[df['sentiment_encoded'] == 0].count()"
   ]
  },
  {
   "cell_type": "code",
   "execution_count": null,
   "id": "e6822b7c",
   "metadata": {},
   "outputs": [],
   "source": [
    "# num of positive reviews\n",
    "df[df['sentiment_encoded'] == 1].count()"
   ]
  },
  {
   "cell_type": "code",
   "execution_count": 8,
   "id": "83ade155",
   "metadata": {},
   "outputs": [],
   "source": [
    "def run_gridsearch(x, y, model, parameters, scoring, cv):\n",
    "    clf = GridSearchCV(model,                    # model\n",
    "                       param_grid = parameters,   # hyperparameters\n",
    "                       scoring=scoring,        # metric for scoring\n",
    "                       cv=cv)                     # number of folds\n",
    "\n",
    "    clf.fit(x, y)    \n",
    "    return (clf.best_params_, clf.best_score_)"
   ]
  },
  {
   "cell_type": "code",
   "execution_count": 11,
   "id": "2e14776d",
   "metadata": {},
   "outputs": [
    {
     "name": "stdout",
     "output_type": "stream",
     "text": [
      "Tuned Hyperparameters : {'alpha': 0.5}\n",
      "Accuracy : 0.9109554256877092\n"
     ]
    }
   ],
   "source": [
    "warnings.filterwarnings('ignore')\n",
    "\n",
    "parameters = {\n",
    "    'alpha': [0.5, 0.7, 1.0]\n",
    "}\n",
    "\n",
    "multinomial_nb = naive_bayes.MultinomialNB()\n",
    "params_and_score = run_gridsearch(tf_x_train, Y_train, multinomial_nb, parameters, 'accuracy', 5)\n",
    "\n",
    "print(\"Tuned Hyperparameters :\", params_and_score[0])\n",
    "print(\"Accuracy :\", params_and_score[1]) "
   ]
  },
  {
   "cell_type": "code",
   "execution_count": null,
   "id": "dcf174cc",
   "metadata": {},
   "outputs": [],
   "source": [
    "# MULTINOMIAL NB\n",
    "\n",
    "multinomial_nb_classifier = naive_bayes.MultinomialNB(alpha=0.5)\n",
    "multinomial_nb_classifier.fit(tf_x_train,Y_train)\n",
    "\n",
    "# pickle multinomial nb\n",
    "pickle_save(multinomial_nb_classifier, 'pickles/multinomial_nb_tf_classifier.pickle')"
   ]
  },
  {
   "cell_type": "code",
   "execution_count": 9,
   "id": "e9888f9d",
   "metadata": {},
   "outputs": [
    {
     "name": "stdout",
     "output_type": "stream",
     "text": [
      "Multinomial Naive Bayes Accuracy Score ->  91.09072073405358\n"
     ]
    }
   ],
   "source": [
    "multinomial_nb_tf_classifier = pickle_load('pickles/multinomial_nb_tf_classifier.pickle')\n",
    "# predict the labels on validation dataset\n",
    "predictions_multinomial_nb_tf = multinomial_nb_tf_classifier.predict(tf_x_valid)\n",
    "# Use accuracy_score function to get the accuracy\n",
    "multinomial_nb_tf_accuracy = accuracy_score(predictions_multinomial_nb_tf, Y_valid)*100\n",
    "print(\"Multinomial Naive Bayes Accuracy Score -> \", multinomial_nb_tf_accuracy)"
   ]
  },
  {
   "cell_type": "code",
   "execution_count": 10,
   "id": "857b6dc6",
   "metadata": {},
   "outputs": [
    {
     "name": "stdout",
     "output_type": "stream",
     "text": [
      "Confusion matrix\n",
      "[[9414  712]\n",
      " [1094 9051]]\n",
      "----------------------------------------------------------------\n",
      "Classification report\n",
      "              precision    recall  f1-score   support\n",
      "\n",
      "           0       0.90      0.93      0.91     10126\n",
      "           1       0.93      0.89      0.91     10145\n",
      "\n",
      "    accuracy                           0.91     20271\n",
      "   macro avg       0.91      0.91      0.91     20271\n",
      "weighted avg       0.91      0.91      0.91     20271\n",
      "\n"
     ]
    }
   ],
   "source": [
    "# MULTINOMIAL NB - CONFUSION MATRIX, PRECISION, RECALL, FSCORE\n",
    "\n",
    "print(\"Confusion matrix\")\n",
    "print(confusion_matrix(Y_valid, predictions_multinomial_nb_tf))\n",
    "print(\"----------------------------------------------------------------\")\n",
    "print(\"Classification report\")\n",
    "print(classification_report(Y_valid, predictions_multinomial_nb_tf))"
   ]
  },
  {
   "cell_type": "code",
   "execution_count": null,
   "id": "17957f37",
   "metadata": {},
   "outputs": [],
   "source": [
    "# GAUSSIAN NB\n",
    "\n",
    "gaussian_nb_classifier = naive_bayes.GaussianNB()\n",
    "gaussian_nb_classifier.fit(tf_x_train.toarray(),Y_train)\n",
    "\n",
    "# pickle gaussian nb\n",
    "pickle_save(gaussian_nb_classifier, 'pickles/gaussian_nb_tf_classifier.pickle')"
   ]
  },
  {
   "cell_type": "code",
   "execution_count": 11,
   "id": "a983e662",
   "metadata": {},
   "outputs": [
    {
     "name": "stdout",
     "output_type": "stream",
     "text": [
      "Gaussian Naive Bayes Accuracy Score ->  88.85106802821765\n"
     ]
    }
   ],
   "source": [
    "gaussian_nb_classifier = pickle_load('pickles/gaussian_nb_tf_classifier.pickle')\n",
    "# predict the labels on validation dataset\n",
    "predictions_gaussian_nb_tf = gaussian_nb_classifier.predict(tf_x_valid.toarray())\n",
    "# Use accuracy_score function to get the accuracy\n",
    "gaussian_nb_tf_accuracy = accuracy_score(predictions_gaussian_nb_tf, Y_valid)*100\n",
    "print(\"Gaussian Naive Bayes Accuracy Score -> \", gaussian_nb_tf_accuracy)"
   ]
  },
  {
   "cell_type": "code",
   "execution_count": 12,
   "id": "9d055b19",
   "metadata": {},
   "outputs": [
    {
     "name": "stdout",
     "output_type": "stream",
     "text": [
      "Confusion matrix\n",
      "[[9174  952]\n",
      " [1308 8837]]\n",
      "-----------------------------------------------------------------\n",
      "Classification report\n",
      "              precision    recall  f1-score   support\n",
      "\n",
      "           0       0.88      0.91      0.89     10126\n",
      "           1       0.90      0.87      0.89     10145\n",
      "\n",
      "    accuracy                           0.89     20271\n",
      "   macro avg       0.89      0.89      0.89     20271\n",
      "weighted avg       0.89      0.89      0.89     20271\n",
      "\n"
     ]
    }
   ],
   "source": [
    "# GAUSSIAN NB - CONFUSION MATRIX\n",
    "\n",
    "print(\"Confusion matrix\")\n",
    "print(confusion_matrix(Y_valid, predictions_gaussian_nb_tf))\n",
    "print(\"-----------------------------------------------------------------\")\n",
    "print(\"Classification report\")\n",
    "print(classification_report(Y_valid, predictions_gaussian_nb_tf))"
   ]
  },
  {
   "cell_type": "code",
   "execution_count": null,
   "id": "da867301",
   "metadata": {},
   "outputs": [],
   "source": [
    "# BERNOULLI NB\n",
    "\n",
    "bernoulli_nb_classifier = naive_bayes.BernoulliNB(binarize=0.0)\n",
    "bernoulli_nb_classifier.fit(tf_x_train,Y_train)\n",
    "# predict the labels on validation dataset\n",
    "predictions_bernoulli_nb = bernoulli_nb_classifier.predict(tf_x_valid)\n",
    "# Use accuracy_score function to get the accuracy\n",
    "bernoulli_nb_accuracy = accuracy_score(predictions_bernoulli_nb, Y_valid)*100\n",
    "print(\"Bernoulli Naive Bayes Accuracy Score -> \", bernoulli_nb_accuracy)\n",
    "\n",
    "# pickle bernoulli nb\n",
    "# pickle(\"bernoulli_nb_classifier.pickle\", bernoulli_nb_classifier)"
   ]
  },
  {
   "cell_type": "code",
   "execution_count": null,
   "id": "b6112d28",
   "metadata": {
    "scrolled": true
   },
   "outputs": [],
   "source": [
    "# BERNOULLI NB - CONFUSION MATRIX, PRECISION, RECALL, FSCORE\n",
    "\n",
    "print(\"Confusion matrix\")\n",
    "print(confusion_matrix(Y_valid, predictions_bernoulli_nb))\n",
    "print(\"------------------------------------------------------------\")\n",
    "print(\"Classification report\")\n",
    "print(classification_report(Y_valid, predictions_bernoulli_nb))"
   ]
  },
  {
   "cell_type": "code",
   "execution_count": 8,
   "id": "9624262b",
   "metadata": {},
   "outputs": [],
   "source": []
  },
  {
   "cell_type": "code",
   "execution_count": null,
   "id": "ee3ad98d",
   "metadata": {},
   "outputs": [],
   "source": [
    "# LOGISTIC REGRESSION - PARAMETER TUNING\n",
    "\n",
    "# remove warnings from GridSearchCV\n",
    "warnings.filterwarnings('ignore')\n",
    "\n",
    "parameters = {\n",
    "    'penalty' : ['l1','l2'], \n",
    "    'C'       : [],\n",
    "}\n",
    "\n",
    "logreg = LogisticRegression()\n",
    "params_and_score = run_gridsearch(tf_x_train, Y_train, logreg, parameters, 'accuracy', 5)\n",
    "\n",
    "print(\"Tuned Hyperparameters :\", params_and_score[0])\n",
    "print(\"Accuracy :\", params_and_score[1]) "
   ]
  },
  {
   "cell_type": "code",
   "execution_count": null,
   "id": "0fdf9984",
   "metadata": {},
   "outputs": [],
   "source": [
    "# LOGISTIC REGRESSION WITH BEST PARAMS\n",
    "    \n",
    "logreg_classifier = LogisticRegression(penalty='l2', C=100.0)\n",
    "logreg_classifier.fit(tf_x_train,Y_train)\n",
    "\n",
    "# pickle multinomian nb\n",
    "pickle_save(logreg_classifier, 'pickles/logreg_classifier.pickle')"
   ]
  },
  {
   "cell_type": "code",
   "execution_count": 13,
   "id": "e401c1fc",
   "metadata": {},
   "outputs": [
    {
     "name": "stdout",
     "output_type": "stream",
     "text": [
      "Logistic Regression Accuracy Score ->  96.04854225247891\n",
      "Confusion matrix\n",
      "[[9877  249]\n",
      " [ 552 9593]]\n",
      "--------------------------------------------------------------------\n",
      "Classification report\n",
      "              precision    recall  f1-score   support\n",
      "\n",
      "           0       0.95      0.98      0.96     10126\n",
      "           1       0.97      0.95      0.96     10145\n",
      "\n",
      "    accuracy                           0.96     20271\n",
      "   macro avg       0.96      0.96      0.96     20271\n",
      "weighted avg       0.96      0.96      0.96     20271\n",
      "\n"
     ]
    }
   ],
   "source": [
    "# LOGISTIC REGRESSION - CONFUSION MATRIX, PRECISION, RECALL, FSCORE\n",
    "logreg_classifier = pickle_load('pickles/logreg_classifier.pickle')\n",
    "\n",
    "# predict the labels on validation dataset\n",
    "predictions_logreg = logreg_classifier.predict(tf_x_valid)\n",
    "# Use accuracy_score function to get the accuracy\n",
    "logistic_regression_accuracy = accuracy_score(predictions_logreg, Y_valid)*100\n",
    "print(\"Logistic Regression Accuracy Score -> \", logistic_regression_accuracy)\n",
    "\n",
    "print(\"Confusion matrix\")\n",
    "print(confusion_matrix(Y_valid, predictions_logreg))\n",
    "print(\"--------------------------------------------------------------------\")\n",
    "print(\"Classification report\")\n",
    "print(classification_report(Y_valid, predictions_logreg))"
   ]
  },
  {
   "cell_type": "code",
   "execution_count": 12,
   "id": "30ffd789",
   "metadata": {},
   "outputs": [
    {
     "name": "stdout",
     "output_type": "stream",
     "text": [
      "Tuned Hyperparameters : {'C': 10.01}\n",
      "Accuracy : 0.9566616859317681\n"
     ]
    }
   ],
   "source": [
    "# SVM - PARAMETER TUNING\n",
    "\n",
    "parameters = {\n",
    "    'C': np.arange(0.01,100,10), \n",
    "}\n",
    "\n",
    "svc = svm.LinearSVC(max_iter=1000000)\n",
    "params_and_score = run_gridsearch(tf_x_train, Y_train, svc, parameters, 'accuracy', 5)\n",
    "\n",
    "print(\"Tuned Hyperparameters :\", params_and_score[0])\n",
    "print(\"Accuracy :\", params_and_score[1]) "
   ]
  },
  {
   "cell_type": "code",
   "execution_count": 13,
   "id": "39507f35",
   "metadata": {},
   "outputs": [],
   "source": [
    "# LINEAR SVM\n",
    "\n",
    "# fit the training dataset on the classifier\n",
    "svm_classifier = svm.LinearSVC(C=10.01)\n",
    "svm_classifier.fit(tf_x_train,Y_train)\n",
    "\n",
    "\n",
    "# pickle svm\n",
    "pickle_save(svm_classifier, 'pickles/svm_classifier.pickle')"
   ]
  },
  {
   "cell_type": "code",
   "execution_count": 14,
   "id": "798bf725",
   "metadata": {},
   "outputs": [
    {
     "name": "stdout",
     "output_type": "stream",
     "text": [
      "SVM Accuracy Score ->  95.76735237531449\n"
     ]
    }
   ],
   "source": [
    "svm_classifier = pickle_load('pickles/svm_classifier.pickle')\n",
    "# predict the labels on validation dataset\n",
    "predictions_SVM = svm_classifier.predict(tf_x_valid)\n",
    "# Use accuracy_score function to get the accuracy\n",
    "svm_accuracy = accuracy_score(predictions_SVM, Y_valid)*100\n",
    "print(\"SVM Accuracy Score -> \", svm_accuracy)"
   ]
  },
  {
   "cell_type": "code",
   "execution_count": 14,
   "id": "4e00b706",
   "metadata": {},
   "outputs": [
    {
     "name": "stdout",
     "output_type": "stream",
     "text": [
      "Confusion matrix\n",
      "[[9960  166]\n",
      " [ 692 9453]]\n",
      "--------------------------------------------------------------------\n",
      "Classification report\n",
      "              precision    recall  f1-score   support\n",
      "\n",
      "           0       0.94      0.98      0.96     10126\n",
      "           1       0.98      0.93      0.96     10145\n",
      "\n",
      "    accuracy                           0.96     20271\n",
      "   macro avg       0.96      0.96      0.96     20271\n",
      "weighted avg       0.96      0.96      0.96     20271\n",
      "\n"
     ]
    }
   ],
   "source": [
    "# LINEAR SVM - CONFUSION MATRIX, PRECISION, RECALL, FSCORE\n",
    "\n",
    "print(\"Confusion matrix\")\n",
    "print(confusion_matrix(Y_valid, predictions_SVM))\n",
    "print(\"--------------------------------------------------------------------\")\n",
    "print(\"Classification report\")\n",
    "print(classification_report(Y_valid, predictions_SVM))"
   ]
  },
  {
   "cell_type": "code",
   "execution_count": 15,
   "id": "1219132b",
   "metadata": {},
   "outputs": [
    {
     "name": "stdout",
     "output_type": "stream",
     "text": [
      "Dummy classifier with most_frequent strategy accuracy score -> 49.953135020472594\n",
      "Dummy classifier with stratified strategy accuracy score -> 50.13072862710276\n",
      "Dummy classifier with uniform strategy accuracy score -> 50.027132356568494\n",
      "Dummy classifier with constant strategy accuracy score -> 50.046864979527406\n"
     ]
    }
   ],
   "source": [
    "# DUMMY CLASSIFIER\n",
    "\n",
    "strategies = ['most_frequent', 'stratified', 'uniform', 'constant']\n",
    "\n",
    "for st in strategies:\n",
    "    if st == \"constant\":\n",
    "        dummy_clf = DummyClassifier(strategy=st, random_state=None, constant=1)\n",
    "    else:\n",
    "        dummy_clf = DummyClassifier(strategy=st, random_state=None)\n",
    "    dummy_clf.fit(tf_x_train, Y_train)\n",
    "    predictions_dummy = dummy_clf.predict(tf_x_valid)\n",
    "    print(\"Dummy classifier with {} strategy accuracy score -> {}\".format(st, accuracy_score(predictions_dummy, Y_valid)*100))"
   ]
  },
  {
   "cell_type": "code",
   "execution_count": 16,
   "id": "419b3026",
   "metadata": {},
   "outputs": [
    {
     "name": "stdout",
     "output_type": "stream",
     "text": [
      "Vote Classifier Valid Accuracy Score ->  96.05840856395837\n"
     ]
    }
   ],
   "source": [
    "# VOTE CLASSIFIER\n",
    "    \n",
    "vote_classifier = VoteClassifier(\n",
    "                            multinomial_nb_tf_classifier, \n",
    "                            logreg_classifier, \n",
    "                            svm_classifier)\n",
    "\n",
    "predictions_vote_classifier = vote_classifier.classify(tf_x_valid)\n",
    "vote_classifier_valid_accuracy = accuracy_score(predictions_vote_classifier, Y_valid)*100\n",
    "print(\"Vote Classifier Valid Accuracy Score -> \", vote_classifier_valid_accuracy)"
   ]
  },
  {
   "cell_type": "code",
   "execution_count": 17,
   "id": "4f628225",
   "metadata": {},
   "outputs": [
    {
     "name": "stdout",
     "output_type": "stream",
     "text": [
      "Multinomia NB Test Accuracy Score ->  91.06605495535493\n",
      "Gaussian NB Test Accuracy Score ->  49.765675102362984\n",
      "SVM Test Accuracy Score ->  95.71802081791722\n",
      "Logistic regression Test Accuracy Score ->  95.84134971141039\n",
      "Vote Classifier Test Accuracy Score ->  96.05840856395837\n"
     ]
    }
   ],
   "source": [
    "predictions_multinomial_nb_tf = multinomial_nb_tf_classifier.predict(tf_x_test)\n",
    "multinomial_nb_test_accuracy = accuracy_score(predictions_multinomial_nb_tf, Y_test)*100\n",
    "print(\"Multinomia NB Test Accuracy Score -> \", multinomial_nb_test_accuracy)\n",
    "\n",
    "predictions_gaussian_nb = gaussian_nb_classifier.predict(tf_x_test.toarray())\n",
    "gaussian_nb_test_accuracy = accuracy_score(predictions_gaussian_nb_tf, Y_test)*100\n",
    "print(\"Gaussian NB Test Accuracy Score -> \", gaussian_nb_test_accuracy)\n",
    "\n",
    "predictions_svm = svm_classifier.predict(tf_x_test)\n",
    "svm_test_accuracy = accuracy_score(predictions_svm, Y_test)*100\n",
    "print(\"SVM Test Accuracy Score -> \", svm_test_accuracy)\n",
    "\n",
    "predictions_logreg = logreg_classifier.predict(tf_x_test)\n",
    "logreg_test_accuracy = accuracy_score(predictions_logreg, Y_test)*100\n",
    "print(\"Logistic regression Test Accuracy Score -> \", logreg_test_accuracy)\n",
    "\n",
    "predictions_vote_classifier = vote_classifier.classify(tf_x_test)\n",
    "vote_classifier_test_accuracy = accuracy_score(predictions_vote_classifier, Y_test)*100\n",
    "print(\"Vote Classifier Test Accuracy Score -> \", vote_classifier_valid_accuracy)"
   ]
  },
  {
   "cell_type": "code",
   "execution_count": 18,
   "id": "253e0c57",
   "metadata": {},
   "outputs": [
    {
     "data": {
      "image/png": "[encoded data removed]",
      "text/plain": [
       "<Figure size 792x432 with 1 Axes>"
      ]
     },
     "metadata": {
      "needs_background": "light"
     },
     "output_type": "display_data"
    }
   ],
   "source": [
    "sets = ['valid', 'test']\n",
    "multinomial_nb_accuracies = [multinomial_nb_tf_accuracy, multinomial_nb_test_accuracy]\n",
    "gaussian_nb_accuracies = [gaussian_nb_tf_accuracy, gaussian_nb_test_accuracy]\n",
    "logistic_regression_accuracies = [logistic_regression_accuracy, logreg_test_accuracy]\n",
    "svm_accuracies = [svm_accuracy, svm_test_accuracy]\n",
    "vote_classifier_accuracies = [vote_classifier_valid_accuracy, vote_classifier_test_accuracy]\n",
    "\n",
    "fig, ax = plt.subplots(figsize=(11, 6))\n",
    "x = np.array([0, 2])\n",
    "width = 0.3\n",
    "\n",
    "bar1 = ax.bar(x - 3*width/2, gaussian_nb_accuracies, width, color=\"red\", label=\"Gaussian NB\")\n",
    "bar2 = ax.bar(x - width/2, multinomial_nb_accuracies, width, label='Multinomial NB')\n",
    "bar3 = ax.bar(x + width/2, svm_accuracies, width, label=\"SVM\")\n",
    "bar4 = ax.bar(x + 3*width/2, logistic_regression_accuracies, width, label=\"Logistic regression\")\n",
    "bar5 = ax.bar(x + 5*width/2, vote_classifier_accuracies, width, label=\"Vote Classifier\")\n",
    "\n",
    "ax.set_ylim([45, 100])\n",
    "\n",
    "ax.set_ylabel('Accuracies')\n",
    "ax.set_title('Model performances on validation and test sets')\n",
    "ax.set_xticks(x, sets)\n",
    "\n",
    "ax.legend(loc='center', bbox_to_anchor=(1.11, 0.90), shadow=True)\n",
    "\n",
    "ax.bar_label(bar1)\n",
    "ax.bar_label(bar2)\n",
    "ax.bar_label(bar3)\n",
    "ax.bar_label(bar4)\n",
    "ax.bar_label(bar5)\n",
    " \n",
    "fig.tight_layout()\n",
    "\n",
    "plt.show()"
   ]
  },
  {
   "cell_type": "code",
   "execution_count": null,
   "id": "0eb8e270",
   "metadata": {},
   "outputs": [],
   "source": []
  }
 ],
 "metadata": {
  "kernelspec": {
   "display_name": "Python 3",
   "language": "python",
   "name": "python3"
  },
  "language_info": {
   "codemirror_mode": {
    "name": "ipython",
    "version": 3
   },
   "file_extension": ".py",
   "mimetype": "text/x-python",
   "name": "python",
   "nbconvert_exporter": "python",
   "pygments_lexer": "ipython3",
   "version": "3.9.0"
  }
 },
 "nbformat": 4,
 "nbformat_minor": 5
}
