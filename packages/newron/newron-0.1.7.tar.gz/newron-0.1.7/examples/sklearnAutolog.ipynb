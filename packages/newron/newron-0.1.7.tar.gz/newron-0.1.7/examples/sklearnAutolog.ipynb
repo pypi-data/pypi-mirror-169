{
  "cells": [
    {
      "cell_type": "code",
      "execution_count": null,
      "metadata": {
        "id": "a4hZ105rW_4p"
      },
      "outputs": [],
      "source": [
        "from pprint import pprint\n",
        "\n",
        "import numpy as np\n",
        "from sklearn.linear_model import LinearRegression\n",
        "\n",
        "import newron.sklearn"
      ]
    },
    {
      "cell_type": "code",
      "execution_count": null,
      "metadata": {
        "id": "Thivl7hUXPY6"
      },
      "outputs": [],
      "source": [
        "import newron\n",
        "from newron.tracking import NewronClient"
      ]
    },
    {
      "cell_type": "code",
      "execution_count": null,
      "metadata": {
        "colab": {
          "base_uri": "https://localhost:8080/"
        },
        "id": "ipCNFEILXiaO",
        "outputId": "1f284e04-de72-44dc-9984-f5832a6f6246"
      },
      "outputs": [],
      "source": [
        "remote_server_uri = SERVER_URI # set to your server URI\n",
        "newron.set_tracking_uri(remote_server_uri)  # or set the MLFLOW_TRACKING_URI in the env\n",
        "exp_name = \"sklearnAutolog\"\n",
        "newron.set_experiment(exp_name)"
      ]
    },
    {
      "cell_type": "code",
      "execution_count": null,
      "metadata": {
        "id": "wr7awv9QXUdx"
      },
      "outputs": [],
      "source": [
        "def yield_artifacts(run_id, path=None):\n",
        "    \"\"\"Yield all artifacts in the specified run\"\"\"\n",
        "    client = NewronClient()\n",
        "    for item in client.list_artifacts(run_id, path):\n",
        "        if item.is_dir:\n",
        "            yield from yield_artifacts(run_id, item.path)\n",
        "        else:\n",
        "            yield item.path\n",
        "\n",
        "\n",
        "def fetch_logged_data(run_id):\n",
        "    \"\"\"Fetch params, metrics, tags, and artifacts in the specified run\"\"\"\n",
        "    client = NewronClient()\n",
        "    data = client.get_run(run_id).data\n",
        "    # Exclude system tags: https://www.mlflow.org/docs/latest/tracking.html#system-tags\n",
        "    tags = {k: v for k, v in data.tags.items() if not k.startswith(\"mlflow.\")}\n",
        "    artifacts = list(yield_artifacts(run_id))\n",
        "    return {\n",
        "        \"params\": data.params,\n",
        "        \"metrics\": data.metrics,\n",
        "        \"tags\": tags,\n",
        "        \"artifacts\": artifacts,\n",
        "    }"
      ]
    },
    {
      "cell_type": "code",
      "execution_count": null,
      "metadata": {
        "colab": {
          "base_uri": "https://localhost:8080/"
        },
        "id": "ITGLcxRZXdOY",
        "outputId": "cd4afa48-0915-42ad-b8b4-7ec35086d050"
      },
      "outputs": [],
      "source": [
        "newron.sklearn.autolog()\n",
        "\n",
        "# prepare training data\n",
        "X = np.array([[1, 1], [1, 2], [2, 2], [2, 3]])\n",
        "y = np.dot(X, np.array([1, 2])) + 3\n",
        "\n",
        "# train a model\n",
        "model = LinearRegression()\n",
        "model.fit(X, y)\n",
        "run_id = newron.last_active_run().info.run_id\n",
        "print(\"Logged data and model in run {}\".format(run_id))\n",
        "\n",
        "# show logged data\n",
        "for key, data in fetch_logged_data(run_id).items():\n",
        "    print(\"\\n---------- logged {} ----------\".format(key))\n",
        "    pprint(data)"
      ]
    },
    {
      "cell_type": "code",
      "execution_count": null,
      "metadata": {
        "id": "IogyckaLXwnL"
      },
      "outputs": [],
      "source": []
    }
  ],
  "metadata": {
    "colab": {
      "name": "sklearnAutolog.ipynb",
      "provenance": []
    },
    "kernelspec": {
      "display_name": "Python 3.8.9 64-bit",
      "language": "python",
      "name": "python3"
    },
    "language_info": {
      "name": "python",
      "version": "3.8.9"
    },
    "vscode": {
      "interpreter": {
        "hash": "31f2aee4e71d21fbe5cf8b01ff0e069b9275f58929596ceb00d14d90e3e16cd6"
      }
    }
  },
  "nbformat": 4,
  "nbformat_minor": 0
}
