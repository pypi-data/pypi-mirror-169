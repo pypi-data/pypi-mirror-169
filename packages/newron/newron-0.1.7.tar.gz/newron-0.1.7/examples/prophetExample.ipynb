{
  "nbformat": 4,
  "nbformat_minor": 0,
  "metadata": {
    "colab": {
      "name": "prophetExample.ipynb",
      "provenance": [],
      "collapsed_sections": []
    },
    "kernelspec": {
      "name": "python3",
      "display_name": "Python 3"
    },
    "language_info": {
      "name": "python"
    }
  },
  "cells": [
    {
      "cell_type": "code",
      "execution_count": null,
      "metadata": {
        "id": "nERAUAWMhca4"
      },
      "outputs": [],
      "source": [
        "import json\n",
        "import pandas as pd\n",
        "import numpy as np\n",
        "from prophet import Prophet, serialize\n",
        "from prophet.diagnostics import cross_validation, performance_metrics\n",
        "\n",
        "import newron\n",
        "remote_server_uri = SERVER_URI # set to your server URI\n",
        "newron.set_tracking_uri(remote_server_uri)\n",
        "exp_name = \"prophet_Example\"\n",
        "newron.set_experiment(exp_name)"
      ]
    },
    {
      "cell_type": "code",
      "source": [
        "SOURCE_DATA = (\n",
        "    \"https://raw.githubusercontent.com/facebook/prophet/master/examples/example_retail_sales.csv\"\n",
        ")\n",
        "ARTIFACT_PATH = \"model\"\n",
        "np.random.seed(12345)\n",
        "\n",
        "def extract_params(pr_model):\n",
        "    return {attr: getattr(pr_model, attr) for attr in serialize.SIMPLE_ATTRIBUTES}\n",
        "\n",
        "sales_data = pd.read_csv(SOURCE_DATA)"
      ],
      "metadata": {
        "id": "WvzlRsO5Zxaw"
      },
      "execution_count": null,
      "outputs": []
    },
    {
      "cell_type": "code",
      "source": [
        "with newron.start_run():\n",
        "\n",
        "    model = Prophet().fit(sales_data)\n",
        "\n",
        "    params = extract_params(model)\n",
        "\n",
        "    metric_keys = [\"mse\", \"rmse\", \"mae\", \"mape\", \"mdape\", \"smape\", \"coverage\"]\n",
        "    metrics_raw = cross_validation(\n",
        "        model=model,\n",
        "        horizon=\"365 days\",\n",
        "        period=\"180 days\",\n",
        "        initial=\"710 days\",\n",
        "        parallel=\"threads\",\n",
        "        disable_tqdm=True,\n",
        "    )\n",
        "    cv_metrics = performance_metrics(metrics_raw)\n",
        "    metrics = {k: cv_metrics[k].mean() for k in metric_keys}\n",
        "\n",
        "    print(f\"Logged Metrics: \\n{json.dumps(metrics, indent=2)}\")\n",
        "    print(f\"Logged Params: \\n{json.dumps(params, indent=2)}\")\n",
        "\n",
        "    newron.prophet.log_model(model, artifact_path=ARTIFACT_PATH)\n",
        "    newron.log_params(params)\n",
        "    newron.log_metrics(metrics)\n",
        "    model_uri = newron.get_artifact_uri(ARTIFACT_PATH)\n",
        "    print(f\"Model artifact logged to: {model_uri}\")\n",
        "\n",
        "\n",
        "loaded_model = newron.prophet.load_model(model_uri)\n",
        "\n",
        "forecast = loaded_model.predict(loaded_model.make_future_dataframe(60))\n",
        "\n",
        "print(f\"forecast:\\n${forecast.head(30)}\")\n"
      ],
      "metadata": {
        "id": "Q7eea323OeK1"
      },
      "execution_count": null,
      "outputs": []
    },
    {
      "cell_type": "code",
      "source": [
        ""
      ],
      "metadata": {
        "id": "xCAWGOUAOasl"
      },
      "execution_count": null,
      "outputs": []
    },
    {
      "cell_type": "code",
      "source": [
        ""
      ],
      "metadata": {
        "id": "7e_xyOxnO3kN"
      },
      "execution_count": null,
      "outputs": []
    }
  ]
}