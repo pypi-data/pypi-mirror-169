{
  "cells": [
    {
      "cell_type": "code",
      "execution_count": null,
      "metadata": {
        "id": "04KXYXHOUAs3"
      },
      "outputs": [],
      "source": [
        "import os\n",
        "import warnings\n",
        "import sys\n",
        "\n",
        "import pandas as pd\n",
        "import numpy as np\n",
        "from itertools import cycle\n",
        "import matplotlib.pyplot as plt\n",
        "from sklearn.metrics import mean_squared_error, mean_absolute_error, r2_score\n",
        "from sklearn.model_selection import train_test_split\n",
        "from sklearn.linear_model import ElasticNet\n",
        "from sklearn.linear_model import lasso_path, enet_path\n",
        "from sklearn import datasets"
      ]
    },
    {
      "cell_type": "code",
      "execution_count": null,
      "metadata": {
        "id": "jM_26FA8UCdc"
      },
      "outputs": [],
      "source": [
        "diabetes = datasets.load_diabetes()\n",
        "X = diabetes.data\n",
        "y = diabetes.target"
      ]
    },
    {
      "cell_type": "code",
      "execution_count": null,
      "metadata": {
        "id": "Bk_69iF9UFJQ"
      },
      "outputs": [],
      "source": [
        "Y = np.array([y]).transpose()\n",
        "d = np.concatenate((X, Y), axis=1)\n",
        "cols = diabetes.feature_names + [\"progression\"]\n",
        "data = pd.DataFrame(d, columns=cols)"
      ]
    },
    {
      "cell_type": "code",
      "execution_count": null,
      "metadata": {
        "id": "CXijowCPUIIc"
      },
      "outputs": [],
      "source": [
        "import newron\n",
        "import newron.sklearn"
      ]
    },
    {
      "cell_type": "code",
      "execution_count": null,
      "metadata": {
        "colab": {
          "base_uri": "https://localhost:8080/"
        },
        "id": "6so0Sqc4UqKu",
        "outputId": "41c5cb94-7977-4047-9a05-7d9e9988a6f9"
      },
      "outputs": [],
      "source": [
        "remote_server_uri = SERVER_URI # set to your server URI\n",
        "newron.set_tracking_uri(remote_server_uri)  # or set the MLFLOW_TRACKING_URI in the env\n",
        "exp_name = \"sklearnExampleDiabetesElasticNet\" # set your experiment name\n",
        "newron.set_experiment(exp_name)"
      ]
    },
    {
      "cell_type": "code",
      "execution_count": null,
      "metadata": {
        "id": "2rZWok1cUY9V"
      },
      "outputs": [],
      "source": [
        "# Evaluate metrics\n",
        "def eval_metrics(actual, pred):\n",
        "    rmse = np.sqrt(mean_squared_error(actual, pred))\n",
        "    mae = mean_absolute_error(actual, pred)\n",
        "    r2 = r2_score(actual, pred)\n",
        "    return rmse, mae, r2"
      ]
    },
    {
      "cell_type": "code",
      "execution_count": null,
      "metadata": {
        "colab": {
          "base_uri": "https://localhost:8080/"
        },
        "id": "1Lmbh2-PUdzb",
        "outputId": "24449f00-6487-45cd-941d-6e66d6afe500"
      },
      "outputs": [],
      "source": [
        "# Split the data into training and test sets. (0.75, 0.25) split.\n",
        "train, test = train_test_split(data)\n",
        "\n",
        "# The predicted column is \"progression\" which is a quantitative measure of disease progression one year after baseline\n",
        "train_x = train.drop([\"progression\"], axis=1)\n",
        "test_x = test.drop([\"progression\"], axis=1)\n",
        "train_y = train[[\"progression\"]]\n",
        "test_y = test[[\"progression\"]]\n",
        "\n",
        "alpha = 0.8\n",
        "l1_ratio = 0.8\n",
        "\n",
        "# Run ElasticNet\n",
        "lr = ElasticNet(alpha=alpha, l1_ratio=l1_ratio, random_state=42)\n",
        "lr.fit(train_x, train_y)\n",
        "predicted_qualities = lr.predict(test_x)\n",
        "(rmse, mae, r2) = eval_metrics(test_y, predicted_qualities)\n",
        "\n",
        "# Print out ElasticNet model metrics\n",
        "print(\"Elasticnet model (alpha=%f, l1_ratio=%f):\" % (alpha, l1_ratio))\n",
        "print(\"  RMSE: %s\" % rmse)\n",
        "print(\"  MAE: %s\" % mae)\n",
        "print(\"  R2: %s\" % r2)\n",
        "\n",
        "# Log mlflow attributes for mlflow UI\n",
        "newron.log_param(\"alpha\", alpha)\n",
        "newron.log_param(\"l1_ratio\", l1_ratio)\n",
        "newron.log_metric(\"rmse\", rmse)\n",
        "newron.log_metric(\"r2\", r2)\n",
        "newron.log_metric(\"mae\", mae)\n",
        "newron.sklearn.log_model(lr, \"model\")\n",
        "\n",
        "# Compute paths\n",
        "eps = 5e-3  # the smaller it is the longer is the path\n",
        "\n",
        "print(\"Computing regularization path using the elastic net.\")\n",
        "alphas_enet, coefs_enet, _ = enet_path(X, y, eps=eps, l1_ratio=l1_ratio)\n",
        "\n",
        "# Display results\n",
        "fig = plt.figure(1)\n",
        "ax = plt.gca()\n",
        "\n",
        "colors = cycle([\"b\", \"r\", \"g\", \"c\", \"k\"])\n",
        "neg_log_alphas_enet = -np.log10(alphas_enet)\n",
        "for coef_e, c in zip(coefs_enet, colors):\n",
        "    l2 = plt.plot(neg_log_alphas_enet, coef_e, linestyle=\"--\", c=c)\n",
        "\n",
        "plt.xlabel(\"-Log(alpha)\")\n",
        "plt.ylabel(\"coefficients\")\n",
        "title = \"ElasticNet Path by alpha for l1_ratio = \" + str(l1_ratio)\n",
        "plt.title(title)\n",
        "plt.axis(\"tight\")\n",
        "\n",
        "# Save figures\n",
        "fig.savefig(\"ElasticNet-paths.png\")\n",
        "\n",
        "# Close plot\n",
        "plt.close(fig)\n",
        "\n",
        "# Log artifacts (output files)\n",
        "newron.log_artifact(\"ElasticNet-paths.png\")"
      ]
    },
    {
      "cell_type": "code",
      "execution_count": null,
      "metadata": {
        "id": "m7XqatvDU6ru"
      },
      "outputs": [],
      "source": []
    }
  ],
  "metadata": {
    "colab": {
      "collapsed_sections": [],
      "name": "sklearnElasticNet.ipynb",
      "provenance": []
    },
    "kernelspec": {
      "display_name": "Python 3.8.9 64-bit",
      "language": "python",
      "name": "python3"
    },
    "language_info": {
      "name": "python",
      "version": "3.8.9"
    },
    "vscode": {
      "interpreter": {
        "hash": "31f2aee4e71d21fbe5cf8b01ff0e069b9275f58929596ceb00d14d90e3e16cd6"
      }
    }
  },
  "nbformat": 4,
  "nbformat_minor": 0
}
