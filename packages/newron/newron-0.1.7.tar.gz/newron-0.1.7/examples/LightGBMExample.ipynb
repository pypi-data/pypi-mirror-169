{
  "cells": [
    {
      "cell_type": "code",
      "execution_count": null,
      "metadata": {
        "id": "nERAUAWMhca4"
      },
      "outputs": [],
      "source": [
        "import argparse\n",
        "\n",
        "from sklearn import datasets\n",
        "from sklearn.model_selection import train_test_split\n",
        "from sklearn.metrics import accuracy_score, log_loss\n",
        "import lightgbm as lgb\n",
        "import matplotlib as mpl\n",
        "\n",
        "import newron.lightgbm\n",
        "import newron\n",
        "remote_server_uri = SERVER_URI # set to your server URI\n",
        "newron.set_tracking_uri(remote_server_uri)\n",
        "exp_name = \"Lightgbm_Example\"\n",
        "newron.set_experiment(exp_name)\n",
        "\n",
        "mpl.use(\"Agg\")"
      ]
    },
    {
      "cell_type": "code",
      "execution_count": null,
      "metadata": {
        "id": "Q7eea323OeK1"
      },
      "outputs": [],
      "source": [
        "iris = datasets.load_iris()\n",
        "X = iris.data\n",
        "y = iris.target\n",
        "X_train, X_test, y_train, y_test = train_test_split(X, y, test_size=0.2, random_state=42)\n",
        "\n",
        "learning_rate = 0.1\n",
        "colsample_bytree = 1.0\n",
        "subsample = 1.0\n",
        "# enable auto logging\n",
        "newron.lightgbm.autolog()\n",
        "\n",
        "train_set = lgb.Dataset(X_train, label=y_train)\n",
        "\n",
        "with newron.start_run():\n",
        "\n",
        "    # train model\n",
        "    params = {\n",
        "        \"objective\": \"multiclass\",\n",
        "        \"num_class\": 3,\n",
        "        \"learning_rate\": learning_rate,\n",
        "        \"metric\": \"multi_logloss\",\n",
        "        \"colsample_bytree\": colsample_bytree,\n",
        "        \"subsample\": subsample,\n",
        "        \"seed\": 42,\n",
        "    }\n",
        "    model = lgb.train(\n",
        "        params, train_set, num_boost_round=10, valid_sets=[train_set], valid_names=[\"train\"]\n",
        "    )\n",
        "\n",
        "    # evaluate model\n",
        "    y_proba = model.predict(X_test)\n",
        "    y_pred = y_proba.argmax(axis=1)\n",
        "    loss = log_loss(y_test, y_proba)\n",
        "    acc = accuracy_score(y_test, y_pred)\n",
        "\n",
        "    # log metrics\n",
        "    newron.log_metrics({\"log_loss\": loss, \"accuracy\": acc})\n"
      ]
    },
    {
      "cell_type": "code",
      "execution_count": null,
      "metadata": {
        "id": "xCAWGOUAOasl"
      },
      "outputs": [],
      "source": []
    },
    {
      "cell_type": "code",
      "execution_count": null,
      "metadata": {
        "id": "7e_xyOxnO3kN"
      },
      "outputs": [],
      "source": []
    }
  ],
  "metadata": {
    "colab": {
      "collapsed_sections": [],
      "name": "LightGBMExample.ipynb",
      "provenance": []
    },
    "kernelspec": {
      "display_name": "Python 3.8.9 64-bit",
      "language": "python",
      "name": "python3"
    },
    "language_info": {
      "name": "python",
      "version": "3.8.9"
    },
    "vscode": {
      "interpreter": {
        "hash": "31f2aee4e71d21fbe5cf8b01ff0e069b9275f58929596ceb00d14d90e3e16cd6"
      }
    }
  },
  "nbformat": 4,
  "nbformat_minor": 0
}
