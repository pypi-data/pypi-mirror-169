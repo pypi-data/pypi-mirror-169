{
  "cells": [
    {
      "cell_type": "code",
      "execution_count": null,
      "metadata": {
        "id": "nERAUAWMhca4"
      },
      "outputs": [],
      "source": [
        "import argparse\n",
        "\n",
        "from fastai.learner import Learner\n",
        "from fastai.tabular.all import TabularDataLoaders\n",
        "import numpy as np\n",
        "from sklearn.datasets import load_iris\n",
        "from torch import nn\n",
        "\n",
        "import newron\n",
        "\n",
        "remote_server_uri = SERVER_URI # set to your server URI\n",
        "newron.set_tracking_uri(remote_server_uri)\n",
        "exp_name = \"FastAI_Example\"\n",
        "newron.set_experiment(exp_name)"
      ]
    },
    {
      "cell_type": "code",
      "execution_count": null,
      "metadata": {
        "id": "Q7eea323OeK1"
      },
      "outputs": [],
      "source": [
        "def get_data_loaders():\n",
        "    X, y = load_iris(return_X_y=True, as_frame=True)\n",
        "    y = y.astype(np.float32)\n",
        "    return TabularDataLoaders.from_df(\n",
        "        X.assign(target=y), cont_names=list(X.columns), y_names=y.name\n",
        "    )\n",
        "\n",
        "\n",
        "class Model(nn.Module):\n",
        "    def __init__(self):\n",
        "        super().__init__()\n",
        "        self.linear1 = nn.Linear(4, 3)\n",
        "        self.linear2 = nn.Linear(3, 1)\n",
        "\n",
        "    def forward(self, _, x_cont):\n",
        "        x = self.linear1(x_cont)\n",
        "        return self.linear2(x)\n",
        "\n",
        "\n",
        "def splitter(model):\n",
        "    params = list(model.parameters())\n",
        "    return [\n",
        "        # weights and biases of the first linear layer\n",
        "        params[:2],\n",
        "        # weights and biases of the second linear layer\n",
        "        params[2:],\n",
        "    ]"
      ]
    },
    {
      "cell_type": "code",
      "execution_count": null,
      "metadata": {
        "id": "xCAWGOUAOasl"
      },
      "outputs": [],
      "source": [
        "# Parse command-line arguments\n",
        "lr = 0.01\n",
        "epochs = 5\n",
        "\n",
        "\n",
        "# Enable auto logging\n",
        "newron.fastai.autolog()\n",
        "\n",
        "# Create Learner model\n",
        "learn = Learner(get_data_loaders(), Model(), loss_func=nn.MSELoss(), splitter=splitter)\n",
        "\n",
        "# Start Newron session\n",
        "with newron.start_run():\n",
        "    # Train and fit with default or supplied command line arguments\n",
        "    learn.fit_one_cycle(epochs, lr)\n",
        "\n"
      ]
    },
    {
      "cell_type": "code",
      "execution_count": null,
      "metadata": {
        "id": "7e_xyOxnO3kN"
      },
      "outputs": [],
      "source": []
    }
  ],
  "metadata": {
    "colab": {
      "collapsed_sections": [],
      "name": "FastAIExample.ipynb",
      "provenance": []
    },
    "kernelspec": {
      "display_name": "Python 3.8.9 64-bit",
      "language": "python",
      "name": "python3"
    },
    "language_info": {
      "name": "python",
      "version": "3.8.9"
    },
    "vscode": {
      "interpreter": {
        "hash": "31f2aee4e71d21fbe5cf8b01ff0e069b9275f58929596ceb00d14d90e3e16cd6"
      }
    }
  },
  "nbformat": 4,
  "nbformat_minor": 0
}
