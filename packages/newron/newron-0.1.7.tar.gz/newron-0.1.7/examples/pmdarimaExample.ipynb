{
  "nbformat": 4,
  "nbformat_minor": 0,
  "metadata": {
    "colab": {
      "name": "pmdarimaExample.ipynb",
      "provenance": [],
      "collapsed_sections": []
    },
    "kernelspec": {
      "name": "python3",
      "display_name": "Python 3"
    },
    "language_info": {
      "name": "python"
    }
  },
  "cells": [
    {
      "cell_type": "code",
      "execution_count": null,
      "metadata": {
        "id": "nERAUAWMhca4"
      },
      "outputs": [],
      "source": [
        "import json\n",
        "import numpy as np\n",
        "from pmdarima import auto_arima\n",
        "from pmdarima.datasets import load_wineind\n",
        "from pmdarima import model_selection\n",
        "\n",
        "import newron\n",
        "remote_server_uri = SERVER_URI # set to your server URI\n",
        "newron.set_tracking_uri(remote_server_uri)\n",
        "exp_name = \"pmdarima_Example\"\n",
        "newron.set_experiment(exp_name)"
      ]
    },
    {
      "cell_type": "code",
      "source": [
        "def calculate_cv_metrics(model, endog, metric, cv):\n",
        "    cv_metric = model_selection.cross_val_score(model, endog, cv=cv, scoring=metric, verbose=0)\n",
        "    return cv_metric[~np.isnan(cv_metric)].mean()"
      ],
      "metadata": {
        "id": "WvzlRsO5Zxaw"
      },
      "execution_count": null,
      "outputs": []
    },
    {
      "cell_type": "code",
      "source": [
        " \n",
        "with newron.start_run():   \n",
        "    data = load_wineind()\n",
        "\n",
        "    train, test = model_selection.train_test_split(data, train_size=150)\n",
        "\n",
        "    print(\"Training AutoARIMA model...\")\n",
        "    arima = auto_arima(\n",
        "        train,\n",
        "        error_action=\"ignore\",\n",
        "        trace=False,\n",
        "        suppress_warnings=True,\n",
        "        maxiter=5,\n",
        "        seasonal=True,\n",
        "        m=12,\n",
        "    )\n",
        "\n",
        "    print(\"Model trained. \\nExtracting parameters...\")\n",
        "    parameters = arima.get_params(deep=True)\n",
        "\n",
        "    metrics = {x: getattr(arima, x)() for x in [\"aicc\", \"aic\", \"bic\", \"hqic\", \"oob\"]}\n",
        "\n",
        "    # Cross validation backtesting\n",
        "    cross_validator = model_selection.RollingForecastCV(h=10, step=20, initial=60)\n",
        "\n",
        "    for x in [\"smape\", \"mean_absolute_error\", \"mean_squared_error\"]:\n",
        "        metrics[x] = calculate_cv_metrics(arima, data, x, cross_validator)\n",
        "\n",
        "    print(f\"Metrics: \\n{json.dumps(metrics, indent=2)}\")\n",
        "    print(f\"Parameters: \\n{json.dumps(parameters, indent=2)}\")\n",
        "\n",
        "    newron.pmdarima.log_model(pmdarima_model=arima, artifact_path=ARTIFACT_PATH)\n",
        "    newron.log_params(parameters)\n",
        "    newron.log_metrics(metrics)\n",
        "    model_uri = newron.get_artifact_uri(ARTIFACT_PATH)\n",
        "\n",
        "    print(f\"Model artifact logged to: {model_uri}\")\n",
        "\n",
        "loaded_model = newron.pmdarima.load_model(model_uri)\n",
        "\n",
        "forecast = loaded_model.predict(30)\n",
        "\n",
        "print(f\"Forecast: \\n{forecast}\")"
      ],
      "metadata": {
        "id": "Q7eea323OeK1"
      },
      "execution_count": null,
      "outputs": []
    },
    {
      "cell_type": "code",
      "source": [
        ""
      ],
      "metadata": {
        "id": "xCAWGOUAOasl"
      },
      "execution_count": null,
      "outputs": []
    },
    {
      "cell_type": "code",
      "source": [
        ""
      ],
      "metadata": {
        "id": "7e_xyOxnO3kN"
      },
      "execution_count": null,
      "outputs": []
    }
  ]
}