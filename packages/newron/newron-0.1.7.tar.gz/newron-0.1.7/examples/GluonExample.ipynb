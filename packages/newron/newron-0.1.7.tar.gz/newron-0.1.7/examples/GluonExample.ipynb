{
  "cells": [
    {
      "cell_type": "code",
      "execution_count": null,
      "metadata": {
        "id": "nERAUAWMhca4"
      },
      "outputs": [],
      "source": [
        "from mxnet import gluon, init\n",
        "from mxnet.gluon import Trainer\n",
        "from mxnet.gluon.contrib import estimator\n",
        "from mxnet.gluon.data.vision import datasets, transforms\n",
        "from mxnet.gluon.loss import SoftmaxCrossEntropyLoss\n",
        "from mxnet.gluon.nn import HybridSequential, Dense, Flatten, MaxPool2D, Conv2D\n",
        "from mxnet.metric import Accuracy\n",
        "\n",
        "import newron.gluon\n",
        "import newron\n",
        "remote_server_uri = SERVER_URI # set to your server URI\n",
        "newron.set_tracking_uri(remote_server_uri)\n",
        "exp_name = \"Gluon_Example\"\n",
        "newron.set_experiment(exp_name)"
      ]
    },
    {
      "cell_type": "code",
      "execution_count": null,
      "metadata": {
        "id": "Q7eea323OeK1"
      },
      "outputs": [],
      "source": [
        "\n",
        "\n",
        "newron.gluon.autolog()\n",
        "\n",
        "mnist_train = datasets.FashionMNIST(train=True)\n",
        "X, y = mnist_train[0]\n",
        "\n",
        "text_labels = [\n",
        "    \"t-shirt\",\n",
        "    \"trouser\",\n",
        "    \"pullover\",\n",
        "    \"dress\",\n",
        "    \"coat\",\n",
        "    \"sandal\",\n",
        "    \"shirt\",\n",
        "    \"sneaker\",\n",
        "    \"bag\",\n",
        "    \"ankle boot\",\n",
        "]\n",
        "X, y = mnist_train[0:10]\n",
        "\n",
        "transformer = transforms.Compose([transforms.ToTensor(), transforms.Normalize(0.13, 0.31)])\n",
        "mnist_train = mnist_train.transform_first(transformer)\n",
        "\n",
        "batch_size = 256\n",
        "train_data = gluon.data.DataLoader(mnist_train, batch_size=batch_size, shuffle=True, num_workers=4)\n",
        "\n",
        "mnist_valid = gluon.data.vision.FashionMNIST(train=False)\n",
        "valid_data = gluon.data.DataLoader(\n",
        "    mnist_valid.transform_first(transformer), batch_size=batch_size, num_workers=4\n",
        ")\n",
        "\n",
        "# Only hybrid based networks can be exported\n",
        "net = HybridSequential()\n",
        "net.add(\n",
        "    Conv2D(channels=6, kernel_size=5, activation=\"relu\"),\n",
        "    MaxPool2D(pool_size=2, strides=2),\n",
        "    Conv2D(channels=16, kernel_size=3, activation=\"relu\"),\n",
        "    MaxPool2D(pool_size=2, strides=2),\n",
        "    Flatten(),\n",
        "    Dense(120, activation=\"relu\"),\n",
        "    Dense(84, activation=\"relu\"),\n",
        "    Dense(10),\n",
        ")\n",
        "net.initialize(init=init.Xavier())\n",
        "# Only after hybridization a model can be exported with architecture included\n",
        "net.hybridize()\n",
        "\n",
        "trainer = Trainer(net.collect_params(), \"sgd\", {\"learning_rate\": 0.1})\n",
        "\n",
        "est = estimator.Estimator(\n",
        "    net=net, loss=SoftmaxCrossEntropyLoss(), train_metrics=Accuracy(), trainer=trainer\n",
        ")\n",
        "est.fit(train_data=train_data, epochs=2, val_data=valid_data)"
      ]
    },
    {
      "cell_type": "code",
      "execution_count": null,
      "metadata": {
        "id": "xCAWGOUAOasl"
      },
      "outputs": [],
      "source": []
    },
    {
      "cell_type": "code",
      "execution_count": null,
      "metadata": {
        "id": "7e_xyOxnO3kN"
      },
      "outputs": [],
      "source": []
    }
  ],
  "metadata": {
    "colab": {
      "collapsed_sections": [],
      "name": "GluonExample.ipynb",
      "provenance": []
    },
    "kernelspec": {
      "display_name": "Python 3.8.9 64-bit",
      "language": "python",
      "name": "python3"
    },
    "language_info": {
      "name": "python",
      "version": "3.8.9"
    },
    "vscode": {
      "interpreter": {
        "hash": "31f2aee4e71d21fbe5cf8b01ff0e069b9275f58929596ceb00d14d90e3e16cd6"
      }
    }
  },
  "nbformat": 4,
  "nbformat_minor": 0
}
