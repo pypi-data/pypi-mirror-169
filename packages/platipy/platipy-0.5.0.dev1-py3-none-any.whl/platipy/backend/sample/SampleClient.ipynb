{
 "cells": [
  {
   "cell_type": "markdown",
   "metadata": {},
   "source": [
    "## Sample Client Notebook\n",
    "\n",
    "This Notebook demonstrates how to interact with the running service using http requests. The sample app provides a very primitive body segmentation algorithm which this Notebook will run."
   ]
  },
  {
   "cell_type": "markdown",
   "metadata": {},
   "source": [
    "### Setup\n",
    "\n",
    "Before running this Notebook, follow these steps from your command line to get the sample service up and running:\n",
    "\n",
    "1. Make sure Python libraries required are up-to-date:\n",
    "\n",
    "```\n",
    "pip install -r <PLATIPY_PATH>/requirements.txt\n",
    "```\n",
    "\n",
    "2. Change into the directory containing the sample app\n",
    "\n",
    "```\n",
    "cd <PLATIPY_PATH>/framework/sample\n",
    "```\n",
    "\n",
    "3. Initialize the database for the framework\n",
    "\n",
    "```\n",
    "python -m platipy.backend.manage initdb \n",
    "```\n",
    "\n",
    "4. Add an API key for this client\n",
    "\n",
    "```\n",
    "python -m platipy.backend.manage key -a sample_client\n",
    "```\n",
    "\n",
    "Copy and paste the key output from the last command and copy into the api_key variable in the next cell!\n",
    "\n",
    "5. Run the service\n",
    "\n",
    "```\n",
    "python sample.py\n",
    "```"
   ]
  },
  {
   "cell_type": "code",
   "execution_count": 3,
   "metadata": {},
   "outputs": [],
   "source": [
    "# Imports required for this notebook\n",
    "import requests\n",
    "import time\n",
    "import json\n",
    "import os\n",
    "import sys\n",
    "import pydicom\n",
    "from pprint import pprint\n",
    "\n",
    "sys.path.append(\"../../../\") # Path containing PlatiPy library\n",
    "from platipy.dicom.communication import DicomConnector\n",
    "\n",
    "# API Key generated for this client (see above description)\n",
    "api_key = 'fbf59863-6d63-4e1d-9c19-b2b167f08f46'\n",
    "\n",
    "# URL at which the service is running\n",
    "base_url = 'http://localhost:8000'\n",
    "\n",
    "# The name of the algorithm running in the service\n",
    "algorithm_name = 'Primitive Body Segmentation'\n",
    "\n",
    "# These are the API endpoints which the client will use to communicate with the service\n",
    "api_dicom_location = '{0}/api/dicomlocation'.format(base_url)\n",
    "api_dataset = '{0}/api/dataset'.format(base_url)\n",
    "api_dataset_ready = '{0}/api/dataset/ready'.format(base_url)\n",
    "api_data_object = '{0}/api/dataobject'.format(base_url)\n",
    "api_trigger = '{0}/api/trigger'.format(base_url)\n",
    "api_algorithm = '{0}/api/algorithm'.format(base_url)"
   ]
  },
  {
   "cell_type": "markdown",
   "metadata": {},
   "source": [
    "#### First, let's test that the service is up and running and that we can authenticate\n",
    "\n",
    "We'll fetch the list of available algorithms from the service to achieve this"
   ]
  },
  {
   "cell_type": "code",
   "execution_count": 4,
   "metadata": {},
   "outputs": [
    {
     "name": "stdout",
     "output_type": "stream",
     "text": [
      "{'default_settings': {'lowerThreshold': -5000,\n",
      "                      'outputContourName': 'primitive_body_contour',\n",
      "                      'seed': [0, 0, 0],\n",
      "                      'upperThreshold': -800,\n",
      "                      'vectorRadius': [1, 1, 1]},\n",
      " 'name': 'Primitive Body Segmentation'}\n",
      "\n",
      "Look's Good!\n"
     ]
    }
   ],
   "source": [
    "# Get the algorithm and the default settings\n",
    "algorithm = None\n",
    "r = requests.get(api_algorithm, headers={'API_KEY': api_key})\n",
    "if r.status_code == 200:\n",
    "    for a in r.json():\n",
    "        pprint(a)\n",
    "        if a['name'] == algorithm_name:\n",
    "            algorithm = a\n",
    "    print(\"\")\n",
    "    print(\"Look's Good!\")\n",
    "else:\n",
    "    print(\"Oops, something went wrong. Ensure the service is running at the base_url configured and that the API Key has been generated and set in api_key.\")"
   ]
  },
  {
   "cell_type": "markdown",
   "metadata": {},
   "source": [
    "### Create a Dataset\n",
    "\n",
    "Next, we create a Dataset on the server"
   ]
  },
  {
   "cell_type": "code",
   "execution_count": 38,
   "metadata": {},
   "outputs": [
    {
     "name": "stdout",
     "output_type": "stream",
     "text": [
      "{'from_dicom_location': None,\n",
      " 'from_dicom_location_id': None,\n",
      " 'id': 10,\n",
      " 'input_data_objects': [],\n",
      " 'output_data_objects': [],\n",
      " 'owner_key': 'fbf59863-6d63-4e1d-9c19-b2b167f08f46',\n",
      " 'timeout': '2022-05-31T08:14:55.509',\n",
      " 'timestamp': '2022-05-30T08:14:55.517',\n",
      " 'to_dicom_location': None,\n",
      " 'to_dicom_location_id': None}\n"
     ]
    }
   ],
   "source": [
    "# Create a new Dataset\n",
    "dataset = None\n",
    "r = requests.post(api_dataset, headers={'API_KEY': api_key}, data={})\n",
    "if r.status_code >= 200:\n",
    "        dataset = r.json()\n",
    "        \n",
    "pprint(dataset)"
   ]
  },
  {
   "cell_type": "markdown",
   "metadata": {},
   "source": [
    "### Add Data Objects to the Dataset\n",
    "\n",
    "Now that we have the Dataset, we want to add some data objects to it. In the case of this segmentation algorithm, all we need to add is one Dicom object (CT image series)."
   ]
  },
  {
   "cell_type": "code",
   "execution_count": 17,
   "metadata": {},
   "outputs": [
    {
     "name": "stdout",
     "output_type": "stream",
     "text": [
      "{'children': [],\n",
      " 'dataset_id': 4,\n",
      " 'id': 4,\n",
      " 'is_fetched': False,\n",
      " 'is_input': True,\n",
      " 'is_sent': False,\n",
      " 'meta_data': None,\n",
      " 'parent': None,\n",
      " 'parent_id': None,\n",
      " 'path': None,\n",
      " 'series_instance_uid': '1.3.6.1.4.1.14519.5.2.1.7014.4598.106943890850011666503487579262',\n",
      " 'status': None,\n",
      " 'timestamp': '2022-05-30T03:04:33.125',\n",
      " 'type': 'DICOM'}\n"
     ]
    }
   ],
   "source": [
    "# Add a Dicom file to the dataset\n",
    "path_to_ct = '/platipy/data/dicom/LCTSC-Test-S1-101/1.3.6.1.4.1.14519.5.2.1.7014.4598.106943890850011666503487579262'\n",
    "\n",
    "# Get the Series UID of this Data Object\n",
    "series_instance_UID = None\n",
    "for f in os.listdir(path_to_ct):\n",
    "    \n",
    "    try:\n",
    "        d = pydicom.read_file(os.path.join(path_to_ct, f))\n",
    "        series_instance_UID = d.SeriesInstanceUID\n",
    "    except:\n",
    "        pass\n",
    "\n",
    "data = {'dataset': dataset['id'],\n",
    "        'type': 'DICOM',\n",
    "        'dicom_retrieve': 'SEND',\n",
    "        'seriesUID': series_instance_UID}\n",
    "data_object = None\n",
    "r = requests.post(api_data_object, headers={'API_KEY': api_key}, data=data)\n",
    "if r.status_code >= 200:\n",
    "        data_object = r.json()\n",
    "        \n",
    "pprint(data_object)"
   ]
  },
  {
   "cell_type": "code",
   "execution_count": 18,
   "metadata": {},
   "outputs": [
    {
     "data": {
      "text/plain": [
       "{'children': [],\n",
       " 'dataset_id': 4,\n",
       " 'id': 4,\n",
       " 'is_fetched': False,\n",
       " 'is_input': True,\n",
       " 'is_sent': False,\n",
       " 'meta_data': None,\n",
       " 'parent': None,\n",
       " 'parent_id': None,\n",
       " 'path': None,\n",
       " 'series_instance_uid': '1.3.6.1.4.1.14519.5.2.1.7014.4598.106943890850011666503487579262',\n",
       " 'status': None,\n",
       " 'timestamp': '2022-05-30T03:04:33.125',\n",
       " 'type': 'DICOM'}"
      ]
     },
     "execution_count": 18,
     "metadata": {},
     "output_type": "execute_result"
    }
   ],
   "source": [
    "r.json()"
   ]
  },
  {
   "cell_type": "markdown",
   "metadata": {},
   "source": [
    "### Send the Dicom Data to the Server\n",
    "\n",
    "Now that the Data Object for the image series has been created on the server, we can send it the Dicom Data itself.\n",
    "\n",
    "Since we set the Data Object's dicom_retrieve property to SEND, the server expects us to SEND the data object to it. If we set MOVE or GET, the Server will attempt to retrieve the Dicom object from the Dicom location configured."
   ]
  },
  {
   "cell_type": "code",
   "execution_count": 19,
   "metadata": {},
   "outputs": [
    {
     "name": "stderr",
     "output_type": "stream",
     "text": [
      "2022-05-30 03:04:38.367 | DEBUG    | platipy.dicom.communication.connector:__init__:48 - DicomConnector with host: 127.0.0.1 port: 7777 AETitle: \n",
      "2022-05-30 03:04:39.341 | DEBUG    | platipy.dicom.communication.connector:send_dcm:334 - Sending file: ['/platipy/data/dicom/LCTSC-Test-S1-101/1.3.6.1.4.1.14519.5.2.1.7014.4598.106943890850011666503487579262/1-272.dcm', '/platipy/data/dicom/LCTSC-Test-S1-101/1.3.6.1.4.1.14519.5.2.1.7014.4598.106943890850011666503487579262/10-281.dcm', '/platipy/data/dicom/LCTSC-Test-S1-101/1.3.6.1.4.1.14519.5.2.1.7014.4598.106943890850011666503487579262/100-071.dcm', '/platipy/data/dicom/LCTSC-Test-S1-101/1.3.6.1.4.1.14519.5.2.1.7014.4598.106943890850011666503487579262/101-072.dcm', '/platipy/data/dicom/LCTSC-Test-S1-101/1.3.6.1.4.1.14519.5.2.1.7014.4598.106943890850011666503487579262/102-073.dcm', '/platipy/data/dicom/LCTSC-Test-S1-101/1.3.6.1.4.1.14519.5.2.1.7014.4598.106943890850011666503487579262/103-074.dcm', '/platipy/data/dicom/LCTSC-Test-S1-101/1.3.6.1.4.1.14519.5.2.1.7014.4598.106943890850011666503487579262/104-075.dcm', '/platipy/data/dicom/LCTSC-Test-S1-101/1.3.6.1.4.1.14519.5.2.1.7014.4598.106943890850011666503487579262/105-076.dcm', '/platipy/data/dicom/LCTSC-Test-S1-101/1.3.6.1.4.1.14519.5.2.1.7014.4598.106943890850011666503487579262/106-077.dcm', '/platipy/data/dicom/LCTSC-Test-S1-101/1.3.6.1.4.1.14519.5.2.1.7014.4598.106943890850011666503487579262/107-078.dcm', '/platipy/data/dicom/LCTSC-Test-S1-101/1.3.6.1.4.1.14519.5.2.1.7014.4598.106943890850011666503487579262/108-079.dcm', '/platipy/data/dicom/LCTSC-Test-S1-101/1.3.6.1.4.1.14519.5.2.1.7014.4598.106943890850011666503487579262/109-080.dcm', '/platipy/data/dicom/LCTSC-Test-S1-101/1.3.6.1.4.1.14519.5.2.1.7014.4598.106943890850011666503487579262/11-282.dcm', '/platipy/data/dicom/LCTSC-Test-S1-101/1.3.6.1.4.1.14519.5.2.1.7014.4598.106943890850011666503487579262/110-081.dcm', '/platipy/data/dicom/LCTSC-Test-S1-101/1.3.6.1.4.1.14519.5.2.1.7014.4598.106943890850011666503487579262/111-082.dcm', '/platipy/data/dicom/LCTSC-Test-S1-101/1.3.6.1.4.1.14519.5.2.1.7014.4598.106943890850011666503487579262/112-083.dcm', '/platipy/data/dicom/LCTSC-Test-S1-101/1.3.6.1.4.1.14519.5.2.1.7014.4598.106943890850011666503487579262/113-084.dcm', '/platipy/data/dicom/LCTSC-Test-S1-101/1.3.6.1.4.1.14519.5.2.1.7014.4598.106943890850011666503487579262/114-085.dcm', '/platipy/data/dicom/LCTSC-Test-S1-101/1.3.6.1.4.1.14519.5.2.1.7014.4598.106943890850011666503487579262/115-086.dcm', '/platipy/data/dicom/LCTSC-Test-S1-101/1.3.6.1.4.1.14519.5.2.1.7014.4598.106943890850011666503487579262/116-087.dcm', '/platipy/data/dicom/LCTSC-Test-S1-101/1.3.6.1.4.1.14519.5.2.1.7014.4598.106943890850011666503487579262/117-088.dcm', '/platipy/data/dicom/LCTSC-Test-S1-101/1.3.6.1.4.1.14519.5.2.1.7014.4598.106943890850011666503487579262/118-089.dcm', '/platipy/data/dicom/LCTSC-Test-S1-101/1.3.6.1.4.1.14519.5.2.1.7014.4598.106943890850011666503487579262/119-090.dcm', '/platipy/data/dicom/LCTSC-Test-S1-101/1.3.6.1.4.1.14519.5.2.1.7014.4598.106943890850011666503487579262/12-283.dcm', '/platipy/data/dicom/LCTSC-Test-S1-101/1.3.6.1.4.1.14519.5.2.1.7014.4598.106943890850011666503487579262/120-091.dcm', '/platipy/data/dicom/LCTSC-Test-S1-101/1.3.6.1.4.1.14519.5.2.1.7014.4598.106943890850011666503487579262/121-092.dcm', '/platipy/data/dicom/LCTSC-Test-S1-101/1.3.6.1.4.1.14519.5.2.1.7014.4598.106943890850011666503487579262/122-093.dcm', '/platipy/data/dicom/LCTSC-Test-S1-101/1.3.6.1.4.1.14519.5.2.1.7014.4598.106943890850011666503487579262/123-094.dcm', '/platipy/data/dicom/LCTSC-Test-S1-101/1.3.6.1.4.1.14519.5.2.1.7014.4598.106943890850011666503487579262/124-095.dcm', '/platipy/data/dicom/LCTSC-Test-S1-101/1.3.6.1.4.1.14519.5.2.1.7014.4598.106943890850011666503487579262/125-096.dcm', '/platipy/data/dicom/LCTSC-Test-S1-101/1.3.6.1.4.1.14519.5.2.1.7014.4598.106943890850011666503487579262/126-097.dcm', '/platipy/data/dicom/LCTSC-Test-S1-101/1.3.6.1.4.1.14519.5.2.1.7014.4598.106943890850011666503487579262/127-098.dcm', '/platipy/data/dicom/LCTSC-Test-S1-101/1.3.6.1.4.1.14519.5.2.1.7014.4598.106943890850011666503487579262/128-099.dcm', '/platipy/data/dicom/LCTSC-Test-S1-101/1.3.6.1.4.1.14519.5.2.1.7014.4598.106943890850011666503487579262/129-100.dcm', '/platipy/data/dicom/LCTSC-Test-S1-101/1.3.6.1.4.1.14519.5.2.1.7014.4598.106943890850011666503487579262/13-284.dcm', '/platipy/data/dicom/LCTSC-Test-S1-101/1.3.6.1.4.1.14519.5.2.1.7014.4598.106943890850011666503487579262/130-101.dcm', '/platipy/data/dicom/LCTSC-Test-S1-101/1.3.6.1.4.1.14519.5.2.1.7014.4598.106943890850011666503487579262/14-285.dcm', '/platipy/data/dicom/LCTSC-Test-S1-101/1.3.6.1.4.1.14519.5.2.1.7014.4598.106943890850011666503487579262/15-286.dcm', '/platipy/data/dicom/LCTSC-Test-S1-101/1.3.6.1.4.1.14519.5.2.1.7014.4598.106943890850011666503487579262/16-287.dcm', '/platipy/data/dicom/LCTSC-Test-S1-101/1.3.6.1.4.1.14519.5.2.1.7014.4598.106943890850011666503487579262/17-288.dcm', '/platipy/data/dicom/LCTSC-Test-S1-101/1.3.6.1.4.1.14519.5.2.1.7014.4598.106943890850011666503487579262/18-289.dcm', '/platipy/data/dicom/LCTSC-Test-S1-101/1.3.6.1.4.1.14519.5.2.1.7014.4598.106943890850011666503487579262/19-290.dcm', '/platipy/data/dicom/LCTSC-Test-S1-101/1.3.6.1.4.1.14519.5.2.1.7014.4598.106943890850011666503487579262/2-273.dcm', '/platipy/data/dicom/LCTSC-Test-S1-101/1.3.6.1.4.1.14519.5.2.1.7014.4598.106943890850011666503487579262/20-291.dcm', '/platipy/data/dicom/LCTSC-Test-S1-101/1.3.6.1.4.1.14519.5.2.1.7014.4598.106943890850011666503487579262/21-292.dcm', '/platipy/data/dicom/LCTSC-Test-S1-101/1.3.6.1.4.1.14519.5.2.1.7014.4598.106943890850011666503487579262/22-293.dcm', '/platipy/data/dicom/LCTSC-Test-S1-101/1.3.6.1.4.1.14519.5.2.1.7014.4598.106943890850011666503487579262/23-294.dcm', '/platipy/data/dicom/LCTSC-Test-S1-101/1.3.6.1.4.1.14519.5.2.1.7014.4598.106943890850011666503487579262/24-295.dcm', '/platipy/data/dicom/LCTSC-Test-S1-101/1.3.6.1.4.1.14519.5.2.1.7014.4598.106943890850011666503487579262/25-296.dcm', '/platipy/data/dicom/LCTSC-Test-S1-101/1.3.6.1.4.1.14519.5.2.1.7014.4598.106943890850011666503487579262/26-297.dcm', '/platipy/data/dicom/LCTSC-Test-S1-101/1.3.6.1.4.1.14519.5.2.1.7014.4598.106943890850011666503487579262/27-298.dcm', '/platipy/data/dicom/LCTSC-Test-S1-101/1.3.6.1.4.1.14519.5.2.1.7014.4598.106943890850011666503487579262/28-299.dcm', '/platipy/data/dicom/LCTSC-Test-S1-101/1.3.6.1.4.1.14519.5.2.1.7014.4598.106943890850011666503487579262/29-000.dcm', '/platipy/data/dicom/LCTSC-Test-S1-101/1.3.6.1.4.1.14519.5.2.1.7014.4598.106943890850011666503487579262/3-274.dcm', '/platipy/data/dicom/LCTSC-Test-S1-101/1.3.6.1.4.1.14519.5.2.1.7014.4598.106943890850011666503487579262/30-001.dcm', '/platipy/data/dicom/LCTSC-Test-S1-101/1.3.6.1.4.1.14519.5.2.1.7014.4598.106943890850011666503487579262/31-002.dcm', '/platipy/data/dicom/LCTSC-Test-S1-101/1.3.6.1.4.1.14519.5.2.1.7014.4598.106943890850011666503487579262/32-003.dcm', '/platipy/data/dicom/LCTSC-Test-S1-101/1.3.6.1.4.1.14519.5.2.1.7014.4598.106943890850011666503487579262/33-004.dcm', '/platipy/data/dicom/LCTSC-Test-S1-101/1.3.6.1.4.1.14519.5.2.1.7014.4598.106943890850011666503487579262/34-005.dcm', '/platipy/data/dicom/LCTSC-Test-S1-101/1.3.6.1.4.1.14519.5.2.1.7014.4598.106943890850011666503487579262/35-006.dcm', '/platipy/data/dicom/LCTSC-Test-S1-101/1.3.6.1.4.1.14519.5.2.1.7014.4598.106943890850011666503487579262/36-007.dcm', '/platipy/data/dicom/LCTSC-Test-S1-101/1.3.6.1.4.1.14519.5.2.1.7014.4598.106943890850011666503487579262/37-008.dcm', '/platipy/data/dicom/LCTSC-Test-S1-101/1.3.6.1.4.1.14519.5.2.1.7014.4598.106943890850011666503487579262/38-009.dcm', '/platipy/data/dicom/LCTSC-Test-S1-101/1.3.6.1.4.1.14519.5.2.1.7014.4598.106943890850011666503487579262/39-010.dcm', '/platipy/data/dicom/LCTSC-Test-S1-101/1.3.6.1.4.1.14519.5.2.1.7014.4598.106943890850011666503487579262/4-275.dcm', '/platipy/data/dicom/LCTSC-Test-S1-101/1.3.6.1.4.1.14519.5.2.1.7014.4598.106943890850011666503487579262/40-011.dcm', '/platipy/data/dicom/LCTSC-Test-S1-101/1.3.6.1.4.1.14519.5.2.1.7014.4598.106943890850011666503487579262/41-012.dcm', '/platipy/data/dicom/LCTSC-Test-S1-101/1.3.6.1.4.1.14519.5.2.1.7014.4598.106943890850011666503487579262/42-013.dcm', '/platipy/data/dicom/LCTSC-Test-S1-101/1.3.6.1.4.1.14519.5.2.1.7014.4598.106943890850011666503487579262/43-014.dcm', '/platipy/data/dicom/LCTSC-Test-S1-101/1.3.6.1.4.1.14519.5.2.1.7014.4598.106943890850011666503487579262/44-015.dcm', '/platipy/data/dicom/LCTSC-Test-S1-101/1.3.6.1.4.1.14519.5.2.1.7014.4598.106943890850011666503487579262/45-016.dcm', '/platipy/data/dicom/LCTSC-Test-S1-101/1.3.6.1.4.1.14519.5.2.1.7014.4598.106943890850011666503487579262/46-017.dcm', '/platipy/data/dicom/LCTSC-Test-S1-101/1.3.6.1.4.1.14519.5.2.1.7014.4598.106943890850011666503487579262/47-018.dcm', '/platipy/data/dicom/LCTSC-Test-S1-101/1.3.6.1.4.1.14519.5.2.1.7014.4598.106943890850011666503487579262/48-019.dcm', '/platipy/data/dicom/LCTSC-Test-S1-101/1.3.6.1.4.1.14519.5.2.1.7014.4598.106943890850011666503487579262/49-020.dcm', '/platipy/data/dicom/LCTSC-Test-S1-101/1.3.6.1.4.1.14519.5.2.1.7014.4598.106943890850011666503487579262/5-276.dcm', '/platipy/data/dicom/LCTSC-Test-S1-101/1.3.6.1.4.1.14519.5.2.1.7014.4598.106943890850011666503487579262/50-021.dcm', '/platipy/data/dicom/LCTSC-Test-S1-101/1.3.6.1.4.1.14519.5.2.1.7014.4598.106943890850011666503487579262/51-022.dcm', '/platipy/data/dicom/LCTSC-Test-S1-101/1.3.6.1.4.1.14519.5.2.1.7014.4598.106943890850011666503487579262/52-023.dcm', '/platipy/data/dicom/LCTSC-Test-S1-101/1.3.6.1.4.1.14519.5.2.1.7014.4598.106943890850011666503487579262/53-024.dcm', '/platipy/data/dicom/LCTSC-Test-S1-101/1.3.6.1.4.1.14519.5.2.1.7014.4598.106943890850011666503487579262/54-025.dcm', '/platipy/data/dicom/LCTSC-Test-S1-101/1.3.6.1.4.1.14519.5.2.1.7014.4598.106943890850011666503487579262/55-026.dcm', '/platipy/data/dicom/LCTSC-Test-S1-101/1.3.6.1.4.1.14519.5.2.1.7014.4598.106943890850011666503487579262/56-027.dcm', '/platipy/data/dicom/LCTSC-Test-S1-101/1.3.6.1.4.1.14519.5.2.1.7014.4598.106943890850011666503487579262/57-028.dcm', '/platipy/data/dicom/LCTSC-Test-S1-101/1.3.6.1.4.1.14519.5.2.1.7014.4598.106943890850011666503487579262/58-029.dcm', '/platipy/data/dicom/LCTSC-Test-S1-101/1.3.6.1.4.1.14519.5.2.1.7014.4598.106943890850011666503487579262/59-030.dcm', '/platipy/data/dicom/LCTSC-Test-S1-101/1.3.6.1.4.1.14519.5.2.1.7014.4598.106943890850011666503487579262/6-277.dcm', '/platipy/data/dicom/LCTSC-Test-S1-101/1.3.6.1.4.1.14519.5.2.1.7014.4598.106943890850011666503487579262/60-031.dcm', '/platipy/data/dicom/LCTSC-Test-S1-101/1.3.6.1.4.1.14519.5.2.1.7014.4598.106943890850011666503487579262/61-032.dcm', '/platipy/data/dicom/LCTSC-Test-S1-101/1.3.6.1.4.1.14519.5.2.1.7014.4598.106943890850011666503487579262/62-033.dcm', '/platipy/data/dicom/LCTSC-Test-S1-101/1.3.6.1.4.1.14519.5.2.1.7014.4598.106943890850011666503487579262/63-034.dcm', '/platipy/data/dicom/LCTSC-Test-S1-101/1.3.6.1.4.1.14519.5.2.1.7014.4598.106943890850011666503487579262/64-035.dcm', '/platipy/data/dicom/LCTSC-Test-S1-101/1.3.6.1.4.1.14519.5.2.1.7014.4598.106943890850011666503487579262/65-036.dcm', '/platipy/data/dicom/LCTSC-Test-S1-101/1.3.6.1.4.1.14519.5.2.1.7014.4598.106943890850011666503487579262/66-037.dcm', '/platipy/data/dicom/LCTSC-Test-S1-101/1.3.6.1.4.1.14519.5.2.1.7014.4598.106943890850011666503487579262/67-038.dcm', '/platipy/data/dicom/LCTSC-Test-S1-101/1.3.6.1.4.1.14519.5.2.1.7014.4598.106943890850011666503487579262/68-039.dcm', '/platipy/data/dicom/LCTSC-Test-S1-101/1.3.6.1.4.1.14519.5.2.1.7014.4598.106943890850011666503487579262/69-040.dcm', '/platipy/data/dicom/LCTSC-Test-S1-101/1.3.6.1.4.1.14519.5.2.1.7014.4598.106943890850011666503487579262/7-278.dcm', '/platipy/data/dicom/LCTSC-Test-S1-101/1.3.6.1.4.1.14519.5.2.1.7014.4598.106943890850011666503487579262/70-041.dcm', '/platipy/data/dicom/LCTSC-Test-S1-101/1.3.6.1.4.1.14519.5.2.1.7014.4598.106943890850011666503487579262/71-042.dcm', '/platipy/data/dicom/LCTSC-Test-S1-101/1.3.6.1.4.1.14519.5.2.1.7014.4598.106943890850011666503487579262/72-043.dcm', '/platipy/data/dicom/LCTSC-Test-S1-101/1.3.6.1.4.1.14519.5.2.1.7014.4598.106943890850011666503487579262/73-044.dcm', '/platipy/data/dicom/LCTSC-Test-S1-101/1.3.6.1.4.1.14519.5.2.1.7014.4598.106943890850011666503487579262/74-045.dcm', '/platipy/data/dicom/LCTSC-Test-S1-101/1.3.6.1.4.1.14519.5.2.1.7014.4598.106943890850011666503487579262/75-046.dcm', '/platipy/data/dicom/LCTSC-Test-S1-101/1.3.6.1.4.1.14519.5.2.1.7014.4598.106943890850011666503487579262/76-047.dcm', '/platipy/data/dicom/LCTSC-Test-S1-101/1.3.6.1.4.1.14519.5.2.1.7014.4598.106943890850011666503487579262/77-048.dcm', '/platipy/data/dicom/LCTSC-Test-S1-101/1.3.6.1.4.1.14519.5.2.1.7014.4598.106943890850011666503487579262/78-049.dcm', '/platipy/data/dicom/LCTSC-Test-S1-101/1.3.6.1.4.1.14519.5.2.1.7014.4598.106943890850011666503487579262/79-050.dcm', '/platipy/data/dicom/LCTSC-Test-S1-101/1.3.6.1.4.1.14519.5.2.1.7014.4598.106943890850011666503487579262/8-279.dcm', '/platipy/data/dicom/LCTSC-Test-S1-101/1.3.6.1.4.1.14519.5.2.1.7014.4598.106943890850011666503487579262/80-051.dcm', '/platipy/data/dicom/LCTSC-Test-S1-101/1.3.6.1.4.1.14519.5.2.1.7014.4598.106943890850011666503487579262/81-052.dcm', '/platipy/data/dicom/LCTSC-Test-S1-101/1.3.6.1.4.1.14519.5.2.1.7014.4598.106943890850011666503487579262/82-053.dcm', '/platipy/data/dicom/LCTSC-Test-S1-101/1.3.6.1.4.1.14519.5.2.1.7014.4598.106943890850011666503487579262/83-054.dcm', '/platipy/data/dicom/LCTSC-Test-S1-101/1.3.6.1.4.1.14519.5.2.1.7014.4598.106943890850011666503487579262/84-055.dcm', '/platipy/data/dicom/LCTSC-Test-S1-101/1.3.6.1.4.1.14519.5.2.1.7014.4598.106943890850011666503487579262/85-056.dcm', '/platipy/data/dicom/LCTSC-Test-S1-101/1.3.6.1.4.1.14519.5.2.1.7014.4598.106943890850011666503487579262/86-057.dcm', '/platipy/data/dicom/LCTSC-Test-S1-101/1.3.6.1.4.1.14519.5.2.1.7014.4598.106943890850011666503487579262/87-058.dcm', '/platipy/data/dicom/LCTSC-Test-S1-101/1.3.6.1.4.1.14519.5.2.1.7014.4598.106943890850011666503487579262/88-059.dcm', '/platipy/data/dicom/LCTSC-Test-S1-101/1.3.6.1.4.1.14519.5.2.1.7014.4598.106943890850011666503487579262/89-060.dcm', '/platipy/data/dicom/LCTSC-Test-S1-101/1.3.6.1.4.1.14519.5.2.1.7014.4598.106943890850011666503487579262/9-280.dcm', '/platipy/data/dicom/LCTSC-Test-S1-101/1.3.6.1.4.1.14519.5.2.1.7014.4598.106943890850011666503487579262/90-061.dcm', '/platipy/data/dicom/LCTSC-Test-S1-101/1.3.6.1.4.1.14519.5.2.1.7014.4598.106943890850011666503487579262/91-062.dcm', '/platipy/data/dicom/LCTSC-Test-S1-101/1.3.6.1.4.1.14519.5.2.1.7014.4598.106943890850011666503487579262/92-063.dcm', '/platipy/data/dicom/LCTSC-Test-S1-101/1.3.6.1.4.1.14519.5.2.1.7014.4598.106943890850011666503487579262/93-064.dcm', '/platipy/data/dicom/LCTSC-Test-S1-101/1.3.6.1.4.1.14519.5.2.1.7014.4598.106943890850011666503487579262/94-065.dcm', '/platipy/data/dicom/LCTSC-Test-S1-101/1.3.6.1.4.1.14519.5.2.1.7014.4598.106943890850011666503487579262/95-066.dcm', '/platipy/data/dicom/LCTSC-Test-S1-101/1.3.6.1.4.1.14519.5.2.1.7014.4598.106943890850011666503487579262/96-067.dcm', '/platipy/data/dicom/LCTSC-Test-S1-101/1.3.6.1.4.1.14519.5.2.1.7014.4598.106943890850011666503487579262/97-068.dcm', '/platipy/data/dicom/LCTSC-Test-S1-101/1.3.6.1.4.1.14519.5.2.1.7014.4598.106943890850011666503487579262/98-069.dcm', '/platipy/data/dicom/LCTSC-Test-S1-101/1.3.6.1.4.1.14519.5.2.1.7014.4598.106943890850011666503487579262/99-070.dcm']\n"
     ]
    },
    {
     "data": {
      "text/plain": [
       "(0000, 0900) Status                              US: 0"
      ]
     },
     "execution_count": 19,
     "metadata": {},
     "output_type": "execute_result"
    }
   ],
   "source": [
    "# Setup and verify the Dicom Endpoint\n",
    "dicom_connector = DicomConnector(host='127.0.0.1', port=7777)\n",
    "dicom_connector.verify()\n",
    "\n",
    "# Send the image series to the Dicom Location\n",
    "img_series = [os.path.join(path_to_ct, f) for f in os.listdir(path_to_ct)]\n",
    "dicom_connector.send_dcm(img_series)"
   ]
  },
  {
   "cell_type": "markdown",
   "metadata": {},
   "source": [
    "### If we want to send the data objects as Nifti instead of Dicom...\n",
    "\n",
    "The following cell demonstrates how to send the data as a Nifti object, bypassing the need for Dicom communication. Note the following is a sample and should only be run if the data 'type' above is set to 'FILE' ."
   ]
  },
  {
   "cell_type": "code",
   "execution_count": 27,
   "metadata": {},
   "outputs": [
    {
     "name": "stdout",
     "output_type": "stream",
     "text": [
      "{'children': [],\n",
      " 'dataset_id': 5,\n",
      " 'id': 6,\n",
      " 'is_fetched': True,\n",
      " 'is_input': True,\n",
      " 'is_sent': False,\n",
      " 'meta_data': None,\n",
      " 'parent': None,\n",
      " 'parent_id': None,\n",
      " 'path': '/tmp/tmp15agy_lh/case_test.nii.gz',\n",
      " 'series_instance_uid': None,\n",
      " 'status': None,\n",
      " 'timestamp': '2022-05-30T03:08:38.155',\n",
      " 'type': 'FILE'}\n"
     ]
    }
   ],
   "source": [
    "import SimpleITK as sitk\n",
    "load_path = sitk.ImageSeriesReader().GetGDCMSeriesFileNames(path_to_ct)\n",
    "img = sitk.ReadImage(load_path)\n",
    "\n",
    "path_to_nii = f'testcase.nii.gz'\n",
    "\n",
    "sitk.WriteImage(img, path_to_nii)\n",
    "\n",
    "data_object = None\n",
    "\n",
    "# Get the Series UID of this Data Object\n",
    "with open(path_to_nii,'rb') as file:\n",
    "\n",
    "    data = {'dataset': dataset['id'],\n",
    "            'type': 'FILE',\n",
    "            'file_name': 'case_test.nii.gz'}\n",
    "    \n",
    "    r = requests.post(api_data_object, headers={'API_KEY': api_key}, data=data, files={'file_data':file})\n",
    "    if r.status_code >= 200:\n",
    "            data_object = r.json()\n",
    "        \n",
    "pprint(data_object)"
   ]
  },
  {
   "cell_type": "markdown",
   "metadata": {},
   "source": [
    "### Refresh Data Object\n",
    "\n",
    "Now we can refresh our Data Object from the Server, to see if it has been fetched yet or not. The is_fetched property tells us if it has been fetched or not."
   ]
  },
  {
   "cell_type": "code",
   "execution_count": 28,
   "metadata": {},
   "outputs": [
    {
     "name": "stdout",
     "output_type": "stream",
     "text": [
      "The server has the Dicom data and is ready!\n"
     ]
    }
   ],
   "source": [
    "r = requests.get('{0}/{1}'.format(api_data_object, data_object['id']), headers={'API_KEY': api_key})\n",
    "if r.status_code == 200:\n",
    "    data_object = r.json()\n",
    "    \n",
    "if data_object['is_fetched']:\n",
    "    print('The server has the Dicom data and is ready!')\n",
    "else:\n",
    "    print('The server is still receiving the Dicom data or something has gone wrong.')"
   ]
  },
  {
   "cell_type": "markdown",
   "metadata": {},
   "source": [
    "### Check if Dataset ready\n",
    "\n",
    "Our dataset only has one object, but when you have multiple objects it can be useful to determine if the dataset is ready to run the algorithm on. So, determine if all objects within the dataset have been fetched."
   ]
  },
  {
   "cell_type": "code",
   "execution_count": 29,
   "metadata": {},
   "outputs": [
    {
     "name": "stdout",
     "output_type": "stream",
     "text": [
      "The Dataset is ready, let's run the algorithm!\n"
     ]
    }
   ],
   "source": [
    "r = requests.get('{0}/{1}'.format(api_dataset_ready, dataset['id']), headers={'API_KEY': api_key})\n",
    "if r.status_code == 200:\n",
    "    if r.json()['ready']:\n",
    "        print(\"The Dataset is ready, let's run the algorithm!\")\n",
    "    else:\n",
    "        print(\"Nope, the dataset isn't ready yet\")"
   ]
  },
  {
   "cell_type": "markdown",
   "metadata": {},
   "source": [
    "### Algorithm configuration\n",
    "\n",
    "One last thing we want to do before we run our algorithm is configure the settings. In the next cell, we first print out the default settings, then make some modifications to it to use for our run of the algorithm."
   ]
  },
  {
   "cell_type": "code",
   "execution_count": 30,
   "metadata": {},
   "outputs": [
    {
     "name": "stdout",
     "output_type": "stream",
     "text": [
      "Default Settings:\n",
      "{'lowerThreshold': -1024,\n",
      " 'outputContourName': 'primitive_body_contour',\n",
      " 'seed': [5, 5, 5],\n",
      " 'upperThreshold': -750,\n",
      " 'vectorRadius': [10, 10, 10]}\n",
      "\n",
      "Custom Settings:\n",
      "{'lowerThreshold': -1024,\n",
      " 'outputContourName': 'primitive_body_contour',\n",
      " 'seed': [5, 5, 5],\n",
      " 'upperThreshold': -750,\n",
      " 'vectorRadius': [10, 10, 10]}\n"
     ]
    }
   ],
   "source": [
    "print('Default Settings:')\n",
    "pprint(algorithm['default_settings'])\n",
    "\n",
    "settings = algorithm['default_settings']\n",
    "settings['seed'] = [5,5,5]\n",
    "settings['lowerThreshold'] = -1024\n",
    "settings['upperThreshold'] = -750\n",
    "settings['vectorRadius'] = [10, 10, 10]\n",
    "\n",
    "print()\n",
    "print('Custom Settings:')\n",
    "pprint(settings)"
   ]
  },
  {
   "cell_type": "markdown",
   "metadata": {},
   "source": [
    "### Run the algorithm!\n",
    "\n",
    "Now it's time to run our algorithm. We pass the dataset we want to run the algorithm on, the name of the algorithm and our custom settings.\n",
    "\n",
    "Once triggered, we are given a URL to poll for the progress of the algorithm. Using this we can determine when the algorithm has finished running."
   ]
  },
  {
   "cell_type": "code",
   "execution_count": 32,
   "metadata": {},
   "outputs": [
    {
     "name": "stdout",
     "output_type": "stream",
     "text": [
      "{'state': 'PENDING', 'current': 0, 'total': 1, 'status': 'Pending...'}\n",
      "{'state': 'PENDING', 'current': 0, 'total': 1, 'status': 'Pending...'}\n",
      "{'state': 'PENDING', 'current': 0, 'total': 1, 'status': 'Pending...'}\n",
      "{'state': 'PENDING', 'current': 0, 'total': 1, 'status': 'Pending...'}\n",
      "{'state': 'PENDING', 'current': 0, 'total': 1, 'status': 'Pending...'}\n",
      "{'state': 'PENDING', 'current': 0, 'total': 1, 'status': 'Pending...'}\n",
      "{'state': 'PENDING', 'current': 0, 'total': 1, 'status': 'Pending...'}\n",
      "{'state': 'PENDING', 'current': 0, 'total': 1, 'status': 'Pending...'}\n",
      "{'state': 'PENDING', 'current': 0, 'total': 1, 'status': 'Pending...'}\n",
      "{'state': 'PENDING', 'current': 0, 'total': 1, 'status': 'Pending...'}\n",
      "{'state': 'PENDING', 'current': 0, 'total': 1, 'status': 'Pending...'}\n",
      "{'state': 'PENDING', 'current': 0, 'total': 1, 'status': 'Pending...'}\n",
      "{'state': 'PENDING', 'current': 0, 'total': 1, 'status': 'Pending...'}\n",
      "{'state': 'PENDING', 'current': 0, 'total': 1, 'status': 'Pending...'}\n",
      "{'state': 'PENDING', 'current': 0, 'total': 1, 'status': 'Pending...'}\n",
      "{'state': 'PENDING', 'current': 0, 'total': 1, 'status': 'Pending...'}\n",
      "{'state': 'PENDING', 'current': 0, 'total': 1, 'status': 'Pending...'}\n",
      "{'state': 'PENDING', 'current': 0, 'total': 1, 'status': 'Pending...'}\n",
      "{'state': 'PENDING', 'current': 0, 'total': 1, 'status': 'Pending...'}\n",
      "{'state': 'PENDING', 'current': 0, 'total': 1, 'status': 'Pending...'}\n",
      "{'state': 'PENDING', 'current': 0, 'total': 1, 'status': 'Pending...'}\n",
      "{'state': 'PENDING', 'current': 0, 'total': 1, 'status': 'Pending...'}\n",
      "{'state': 'PENDING', 'current': 0, 'total': 1, 'status': 'Pending...'}\n",
      "{'state': 'PENDING', 'current': 0, 'total': 1, 'status': 'Pending...'}\n",
      "{'state': 'PENDING', 'current': 0, 'total': 1, 'status': 'Pending...'}\n",
      "{'state': 'PENDING', 'current': 0, 'total': 1, 'status': 'Pending...'}\n",
      "{'state': 'PENDING', 'current': 0, 'total': 1, 'status': 'Pending...'}\n",
      "{'state': 'PENDING', 'current': 0, 'total': 1, 'status': 'Pending...'}\n",
      "{'state': 'PENDING', 'current': 0, 'total': 1, 'status': 'Pending...'}\n",
      "{'state': 'PENDING', 'current': 0, 'total': 1, 'status': 'Pending...'}\n",
      "{'state': 'PENDING', 'current': 0, 'total': 1, 'status': 'Pending...'}\n",
      "{'state': 'PENDING', 'current': 0, 'total': 1, 'status': 'Pending...'}\n",
      "{'state': 'PENDING', 'current': 0, 'total': 1, 'status': 'Pending...'}\n",
      "{'state': 'PENDING', 'current': 0, 'total': 1, 'status': 'Pending...'}\n",
      "{'state': 'PENDING', 'current': 0, 'total': 1, 'status': 'Pending...'}\n",
      "{'state': 'PENDING', 'current': 0, 'total': 1, 'status': 'Pending...'}\n",
      "{'state': 'PENDING', 'current': 0, 'total': 1, 'status': 'Pending...'}\n",
      "{'state': 'PENDING', 'current': 0, 'total': 1, 'status': 'Pending...'}\n",
      "{'state': 'PENDING', 'current': 0, 'total': 1, 'status': 'Pending...'}\n",
      "{'state': 'PENDING', 'current': 0, 'total': 1, 'status': 'Pending...'}\n",
      "{'state': 'PENDING', 'current': 0, 'total': 1, 'status': 'Pending...'}\n",
      "{'state': 'PENDING', 'current': 0, 'total': 1, 'status': 'Pending...'}\n",
      "{'state': 'PENDING', 'current': 0, 'total': 1, 'status': 'Pending...'}\n",
      "{'state': 'PENDING', 'current': 0, 'total': 1, 'status': 'Pending...'}\n",
      "{'state': 'PENDING', 'current': 0, 'total': 1, 'status': 'Pending...'}\n",
      "{'state': 'PENDING', 'current': 0, 'total': 1, 'status': 'Pending...'}\n",
      "{'state': 'PENDING', 'current': 0, 'total': 1, 'status': 'Pending...'}\n",
      "{'state': 'PENDING', 'current': 0, 'total': 1, 'status': 'Pending...'}\n",
      "{'state': 'PENDING', 'current': 0, 'total': 1, 'status': 'Pending...'}\n",
      "{'state': 'PENDING', 'current': 0, 'total': 1, 'status': 'Pending...'}\n",
      "{'state': 'PENDING', 'current': 0, 'total': 1, 'status': 'Pending...'}\n",
      "{'state': 'PENDING', 'current': 0, 'total': 1, 'status': 'Pending...'}\n",
      "{'state': 'PENDING', 'current': 0, 'total': 1, 'status': 'Pending...'}\n",
      "{'state': 'PENDING', 'current': 0, 'total': 1, 'status': 'Pending...'}\n",
      "{'state': 'PENDING', 'current': 0, 'total': 1, 'status': 'Pending...'}\n",
      "{'state': 'PENDING', 'current': 0, 'total': 1, 'status': 'Pending...'}\n",
      "{'state': 'PENDING', 'current': 0, 'total': 1, 'status': 'Pending...'}\n",
      "{'state': 'PENDING', 'current': 0, 'total': 1, 'status': 'Pending...'}\n",
      "{'state': 'PENDING', 'current': 0, 'total': 1, 'status': 'Pending...'}\n",
      "{'state': 'PENDING', 'current': 0, 'total': 1, 'status': 'Pending...'}\n",
      "{'state': 'PENDING', 'current': 0, 'total': 1, 'status': 'Pending...'}\n",
      "{'state': 'PENDING', 'current': 0, 'total': 1, 'status': 'Pending...'}\n",
      "{'state': 'PENDING', 'current': 0, 'total': 1, 'status': 'Pending...'}\n",
      "{'state': 'PENDING', 'current': 0, 'total': 1, 'status': 'Pending...'}\n",
      "{'state': 'PENDING', 'current': 0, 'total': 1, 'status': 'Pending...'}\n",
      "{'state': 'PENDING', 'current': 0, 'total': 1, 'status': 'Pending...'}\n",
      "{'state': 'PENDING', 'current': 0, 'total': 1, 'status': 'Pending...'}\n",
      "{'state': 'PENDING', 'current': 0, 'total': 1, 'status': 'Pending...'}\n",
      "{'state': 'PENDING', 'current': 0, 'total': 1, 'status': 'Pending...'}\n",
      "{'state': 'PENDING', 'current': 0, 'total': 1, 'status': 'Pending...'}\n",
      "{'state': 'PENDING', 'current': 0, 'total': 1, 'status': 'Pending...'}\n",
      "{'state': 'PENDING', 'current': 0, 'total': 1, 'status': 'Pending...'}\n",
      "{'state': 'PENDING', 'current': 0, 'total': 1, 'status': 'Pending...'}\n",
      "{'state': 'PENDING', 'current': 0, 'total': 1, 'status': 'Pending...'}\n",
      "{'state': 'PENDING', 'current': 0, 'total': 1, 'status': 'Pending...'}\n",
      "{'state': 'PENDING', 'current': 0, 'total': 1, 'status': 'Pending...'}\n",
      "{'state': 'PENDING', 'current': 0, 'total': 1, 'status': 'Pending...'}\n",
      "{'state': 'PENDING', 'current': 0, 'total': 1, 'status': 'Pending...'}\n",
      "{'state': 'PENDING', 'current': 0, 'total': 1, 'status': 'Pending...'}\n",
      "{'state': 'PENDING', 'current': 0, 'total': 1, 'status': 'Pending...'}\n",
      "{'state': 'PENDING', 'current': 0, 'total': 1, 'status': 'Pending...'}\n",
      "{'state': 'PENDING', 'current': 0, 'total': 1, 'status': 'Pending...'}\n",
      "{'state': 'PENDING', 'current': 0, 'total': 1, 'status': 'Pending...'}\n",
      "{'state': 'PENDING', 'current': 0, 'total': 1, 'status': 'Pending...'}\n",
      "{'state': 'PENDING', 'current': 0, 'total': 1, 'status': 'Pending...'}\n",
      "{'state': 'PENDING', 'current': 0, 'total': 1, 'status': 'Pending...'}\n",
      "{'state': 'PENDING', 'current': 0, 'total': 1, 'status': 'Pending...'}\n",
      "{'state': 'PENDING', 'current': 0, 'total': 1, 'status': 'Pending...'}\n",
      "{'state': 'PENDING', 'current': 0, 'total': 1, 'status': 'Pending...'}\n",
      "{'state': 'PENDING', 'current': 0, 'total': 1, 'status': 'Pending...'}\n",
      "{'state': 'PENDING', 'current': 0, 'total': 1, 'status': 'Pending...'}\n",
      "{'state': 'PENDING', 'current': 0, 'total': 1, 'status': 'Pending...'}\n",
      "{'state': 'PENDING', 'current': 0, 'total': 1, 'status': 'Pending...'}\n",
      "{'state': 'PENDING', 'current': 0, 'total': 1, 'status': 'Pending...'}\n",
      "{'state': 'PENDING', 'current': 0, 'total': 1, 'status': 'Pending...'}\n",
      "{'state': 'PENDING', 'current': 0, 'total': 1, 'status': 'Pending...'}\n",
      "{'state': 'PENDING', 'current': 0, 'total': 1, 'status': 'Pending...'}\n",
      "{'state': 'PENDING', 'current': 0, 'total': 1, 'status': 'Pending...'}\n",
      "{'state': 'PENDING', 'current': 0, 'total': 1, 'status': 'Pending...'}\n",
      "{'state': 'PENDING', 'current': 0, 'total': 1, 'status': 'Pending...'}\n",
      "{'state': 'PENDING', 'current': 0, 'total': 1, 'status': 'Pending...'}\n",
      "{'state': 'PENDING', 'current': 0, 'total': 1, 'status': 'Pending...'}\n",
      "{'state': 'PENDING', 'current': 0, 'total': 1, 'status': 'Pending...'}\n",
      "{'state': 'PENDING', 'current': 0, 'total': 1, 'status': 'Pending...'}\n",
      "{'state': 'PENDING', 'current': 0, 'total': 1, 'status': 'Pending...'}\n",
      "{'state': 'PENDING', 'current': 0, 'total': 1, 'status': 'Pending...'}\n",
      "{'state': 'PENDING', 'current': 0, 'total': 1, 'status': 'Pending...'}\n",
      "{'state': 'PENDING', 'current': 0, 'total': 1, 'status': 'Pending...'}\n",
      "{'state': 'PENDING', 'current': 0, 'total': 1, 'status': 'Pending...'}\n",
      "{'state': 'PENDING', 'current': 0, 'total': 1, 'status': 'Pending...'}\n",
      "{'state': 'PENDING', 'current': 0, 'total': 1, 'status': 'Pending...'}\n",
      "{'state': 'PENDING', 'current': 0, 'total': 1, 'status': 'Pending...'}\n",
      "{'state': 'PENDING', 'current': 0, 'total': 1, 'status': 'Pending...'}\n",
      "{'state': 'PENDING', 'current': 0, 'total': 1, 'status': 'Pending...'}\n",
      "{'state': 'PENDING', 'current': 0, 'total': 1, 'status': 'Pending...'}\n",
      "{'state': 'PENDING', 'current': 0, 'total': 1, 'status': 'Pending...'}\n",
      "{'state': 'PENDING', 'current': 0, 'total': 1, 'status': 'Pending...'}\n",
      "{'state': 'PENDING', 'current': 0, 'total': 1, 'status': 'Pending...'}\n",
      "{'state': 'PENDING', 'current': 0, 'total': 1, 'status': 'Pending...'}\n",
      "{'state': 'PENDING', 'current': 0, 'total': 1, 'status': 'Pending...'}\n",
      "{'state': 'PENDING', 'current': 0, 'total': 1, 'status': 'Pending...'}\n",
      "{'state': 'PENDING', 'current': 0, 'total': 1, 'status': 'Pending...'}\n",
      "{'state': 'PENDING', 'current': 0, 'total': 1, 'status': 'Pending...'}\n",
      "{'state': 'PENDING', 'current': 0, 'total': 1, 'status': 'Pending...'}\n",
      "{'state': 'PENDING', 'current': 0, 'total': 1, 'status': 'Pending...'}\n",
      "{'state': 'PENDING', 'current': 0, 'total': 1, 'status': 'Pending...'}\n",
      "{'state': 'PENDING', 'current': 0, 'total': 1, 'status': 'Pending...'}\n",
      "{'state': 'PENDING', 'current': 0, 'total': 1, 'status': 'Pending...'}\n",
      "{'state': 'PENDING', 'current': 0, 'total': 1, 'status': 'Pending...'}\n",
      "{'state': 'PENDING', 'current': 0, 'total': 1, 'status': 'Pending...'}\n",
      "{'state': 'PENDING', 'current': 0, 'total': 1, 'status': 'Pending...'}\n",
      "{'state': 'PENDING', 'current': 0, 'total': 1, 'status': 'Pending...'}\n",
      "{'state': 'PENDING', 'current': 0, 'total': 1, 'status': 'Pending...'}\n",
      "{'state': 'PENDING', 'current': 0, 'total': 1, 'status': 'Pending...'}\n",
      "{'state': 'PENDING', 'current': 0, 'total': 1, 'status': 'Pending...'}\n",
      "{'state': 'PENDING', 'current': 0, 'total': 1, 'status': 'Pending...'}\n",
      "{'state': 'PENDING', 'current': 0, 'total': 1, 'status': 'Pending...'}\n",
      "{'state': 'PENDING', 'current': 0, 'total': 1, 'status': 'Pending...'}\n",
      "{'state': 'PENDING', 'current': 0, 'total': 1, 'status': 'Pending...'}\n",
      "{'state': 'PENDING', 'current': 0, 'total': 1, 'status': 'Pending...'}\n",
      "{'state': 'PENDING', 'current': 0, 'total': 1, 'status': 'Pending...'}\n",
      "{'state': 'PENDING', 'current': 0, 'total': 1, 'status': 'Pending...'}\n",
      "{'state': 'PENDING', 'current': 0, 'total': 1, 'status': 'Pending...'}\n",
      "{'state': 'PENDING', 'current': 0, 'total': 1, 'status': 'Pending...'}\n",
      "{'state': 'PENDING', 'current': 0, 'total': 1, 'status': 'Pending...'}\n",
      "{'state': 'PENDING', 'current': 0, 'total': 1, 'status': 'Pending...'}\n",
      "{'state': 'PENDING', 'current': 0, 'total': 1, 'status': 'Pending...'}\n",
      "{'state': 'PENDING', 'current': 0, 'total': 1, 'status': 'Pending...'}\n",
      "{'state': 'PENDING', 'current': 0, 'total': 1, 'status': 'Pending...'}\n",
      "{'state': 'PENDING', 'current': 0, 'total': 1, 'status': 'Pending...'}\n",
      "{'state': 'PENDING', 'current': 0, 'total': 1, 'status': 'Pending...'}\n",
      "{'state': 'PENDING', 'current': 0, 'total': 1, 'status': 'Pending...'}\n",
      "{'state': 'PENDING', 'current': 0, 'total': 1, 'status': 'Pending...'}\n",
      "{'state': 'PENDING', 'current': 0, 'total': 1, 'status': 'Pending...'}\n",
      "{'state': 'PENDING', 'current': 0, 'total': 1, 'status': 'Pending...'}\n",
      "{'state': 'PENDING', 'current': 0, 'total': 1, 'status': 'Pending...'}\n",
      "{'state': 'PENDING', 'current': 0, 'total': 1, 'status': 'Pending...'}\n",
      "{'state': 'PENDING', 'current': 0, 'total': 1, 'status': 'Pending...'}\n",
      "{'state': 'SUCCESS'}\n",
      "Algorithm Processing Complete\n"
     ]
    }
   ],
   "source": [
    "# Trigger the algorithm with our dataset containing the data object\n",
    "data={'dataset': dataset['id'],\n",
    "     'algorithm': algorithm['name'],\n",
    "     'config': json.dumps(settings)}\n",
    "r = requests.post(api_trigger, headers={'API_KEY': api_key}, data=data)\n",
    "\n",
    "if r.status_code == 200:\n",
    "    # Poll the URL given to determine the progress of the task\n",
    "    poll_url = '{0}{1}'.format(base_url, r.json()['poll'])\n",
    "    \n",
    "    while(1):\n",
    "        r = requests.get(poll_url, headers={'API_KEY': api_key})\n",
    "        status = r.json()\n",
    "        print(status)\n",
    "\n",
    "        if status['state'] == 'SUCCESS' or status['state'] == 'FAILURE':\n",
    "            break\n",
    "\n",
    "        time.sleep(2)\n",
    "else:\n",
    "    print(r.json())\n",
    "    \n",
    "print('Algorithm Processing Complete')"
   ]
  },
  {
   "cell_type": "markdown",
   "metadata": {},
   "source": [
    "### Retrieve the output\n",
    "\n",
    "Once the algorithm finishes, we can update the dataset from the server to see what output objects we have. For those objects we are interested in, we download from the server!"
   ]
  },
  {
   "cell_type": "code",
   "execution_count": 33,
   "metadata": {},
   "outputs": [
    {
     "name": "stdout",
     "output_type": "stream",
     "text": [
      "{'from_dicom_location': None,\n",
      " 'from_dicom_location_id': None,\n",
      " 'id': 5,\n",
      " 'input_data_objects': [{'children': [],\n",
      "                         'dataset_id': 5,\n",
      "                         'id': 6,\n",
      "                         'is_fetched': True,\n",
      "                         'is_input': True,\n",
      "                         'is_sent': False,\n",
      "                         'meta_data': None,\n",
      "                         'parent': None,\n",
      "                         'parent_id': None,\n",
      "                         'path': '/tmp/tmp15agy_lh/case_test.nii.gz',\n",
      "                         'series_instance_uid': None,\n",
      "                         'status': None,\n",
      "                         'timestamp': '2022-05-30T03:08:38.155',\n",
      "                         'type': 'FILE'}],\n",
      " 'output_data_objects': [],\n",
      " 'owner_key': 'fbf59863-6d63-4e1d-9c19-b2b167f08f46',\n",
      " 'timeout': '2022-05-31T03:07:57.583',\n",
      " 'timestamp': '2022-05-30T03:07:57.601',\n",
      " 'to_dicom_location': None,\n",
      " 'to_dicom_location_id': None}\n"
     ]
    }
   ],
   "source": [
    "# Fetch the latest dataset to see the output objects and download the Nifti file!\n",
    "r = requests.get('{0}/{1}'.format(api_dataset, dataset['id']), headers={'API_KEY': api_key})\n",
    "if r.status_code == 200:\n",
    "    dataset = r.json()\n",
    "    pprint(dataset)\n",
    "\n",
    "    for d in dataset['output_data_objects']:\n",
    "        if d['path'].endswith('nii.gz'):\n",
    "            #print(d)\n",
    "            r = requests.get('http://localhost:8000/api/dataobject/download/{0}'.format(d['id']), headers={'API_KEY': api_key})\n",
    "            filename = r.headers['Content-Disposition'].split('filename=')[1]\n",
    "            print('Downloading to: {0}'.format(filename))\n",
    "            open(filename, 'wb').write(r.content)"
   ]
  },
  {
   "cell_type": "markdown",
   "metadata": {},
   "source": [
    "### That's it\n",
    "\n",
    "This Notebook demonstrated the basics of running a simple segmentation algorithm on a CT image series, and downloading the resulting Nifti mask.\n",
    "\n",
    "There is more complex stuff we can do that this. We can give the algorithm Nifti files as input, or have it automatically fetch the Dicom itself. We can also have the algorithm send generated Dicom objects (in this case RTStruct files) to a Dicom Location of our choice. Documentation and examples on how to achieve this will follow."
   ]
  }
 ],
 "metadata": {
  "kernelspec": {
   "display_name": "Python 3",
   "language": "python",
   "name": "python3"
  },
  "language_info": {
   "codemirror_mode": {
    "name": "ipython",
    "version": 3
   },
   "file_extension": ".py",
   "mimetype": "text/x-python",
   "name": "python",
   "nbconvert_exporter": "python",
   "pygments_lexer": "ipython3",
   "version": "3.8.10"
  }
 },
 "nbformat": 4,
 "nbformat_minor": 4
}
