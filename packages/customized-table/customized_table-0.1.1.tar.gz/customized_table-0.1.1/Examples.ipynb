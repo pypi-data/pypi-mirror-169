{
 "cells": [
  {
   "cell_type": "markdown",
   "id": "0100c16b-b8b1-4dbd-bc63-8d64b6cb3381",
   "metadata": {},
   "source": [
    "## Imports"
   ]
  },
  {
   "cell_type": "code",
   "execution_count": 1,
   "id": "532f5660-db16-400e-874f-77400e2f124d",
   "metadata": {},
   "outputs": [
    {
     "name": "stdout",
     "output_type": "stream",
     "text": [
      "0.1.1\n"
     ]
    }
   ],
   "source": [
    "import customized_table\n",
    "print(customized_table.__version__)\n",
    "from customized_table import *\n",
    "import numpy as np"
   ]
  },
  {
   "cell_type": "markdown",
   "id": "5ae7f8a9-f5fb-4607-bfec-9b9275eb170b",
   "metadata": {},
   "source": [
    "## Test data"
   ]
  },
  {
   "cell_type": "code",
   "execution_count": 2,
   "id": "17175a47-ef30-4825-9c06-7c0ce7fe2544",
   "metadata": {},
   "outputs": [],
   "source": [
    "data = [\n",
    "    [\"The Shawshank Redemption\", 1994, 9.3],\n",
    "    [\"The Dark Knight\", 2008, 9.0],\n",
    "    [\"Batman Begins\", 2005, 8.2],\n",
    "    [\"The Light Between Oceans\", 2016, 7.2],\n",
    "    [\"The Empire Strikes Back\", 1980, 8.7],\n",
    "]\n",
    "dmean = np.mean([x[2] for x in data])\n",
    "dmax = np.max([x[2] for x in data])\n",
    "dmin = np.min([x[2] for x in data])"
   ]
  },
  {
   "cell_type": "markdown",
   "id": "47269d6d-670c-47b5-8281-fa5bd706661b",
   "metadata": {},
   "source": [
    "## Example tables"
   ]
  },
  {
   "cell_type": "markdown",
   "id": "f367f9b5-01a6-4b9f-9410-967ff2f0a1ea",
   "metadata": {},
   "source": [
    "### Simple table with footer"
   ]
  },
  {
   "cell_type": "code",
   "execution_count": 3,
   "id": "c6cd2bf8-ff38-4e14-b5ca-40b24b98a71e",
   "metadata": {},
   "outputs": [
    {
     "data": {
      "text/html": [
       "<table><tr><td style='font-weight:bold;color:black;background:#eef;padding-top:3px;padding-bottom:3px;padding-left:5px;padding-right:15px;border-top:1px solid #aaa;border-bottom:1px solid #aaa;font-family:Courier;font-size:12px;text-align:left;'>Title</td><td style='font-weight:bold;color:black;background:#eef;padding-top:3px;padding-bottom:3px;padding-left:5px;padding-right:15px;border-top:1px solid #aaa;border-bottom:1px solid #aaa;font-family:Courier;font-size:12px;text-align:left;'>Year</td><td style='font-weight:bold;color:black;background:#eef;padding-top:3px;padding-bottom:3px;padding-left:5px;padding-right:15px;border-top:1px solid #aaa;border-bottom:1px solid #aaa;font-family:Courier;font-size:12px;text-align:left;'>Rating</td></tr><tr><td style='font-family:Courier;font-size:12px;text-align:left;background:white;padding-top:3px;padding-bottom:3px;padding-left:5px;padding-right:15px;filter:brightness(100%);'>The Shawshank Redemption</td><td style='font-family:Courier;font-size:12px;text-align:left;background:white;padding-top:3px;padding-bottom:3px;padding-left:5px;padding-right:15px;filter:brightness(100%);'>1994</td><td style='font-family:Courier;font-size:12px;text-align:left;background:white;padding-top:3px;padding-bottom:3px;padding-left:5px;padding-right:15px;filter:brightness(100%);'>9.3</td></tr><tr><td style='font-family:Courier;font-size:12px;text-align:left;background:white;padding-top:3px;padding-bottom:3px;padding-left:5px;padding-right:15px;filter:brightness(96%);'>The Dark Knight</td><td style='font-family:Courier;font-size:12px;text-align:left;background:white;padding-top:3px;padding-bottom:3px;padding-left:5px;padding-right:15px;filter:brightness(96%);'>2008</td><td style='font-family:Courier;font-size:12px;text-align:left;background:white;padding-top:3px;padding-bottom:3px;padding-left:5px;padding-right:15px;filter:brightness(96%);'>9.0</td></tr><tr><td style='font-family:Courier;font-size:12px;text-align:left;background:white;padding-top:3px;padding-bottom:3px;padding-left:5px;padding-right:15px;filter:brightness(100%);'>Batman Begins</td><td style='font-family:Courier;font-size:12px;text-align:left;background:white;padding-top:3px;padding-bottom:3px;padding-left:5px;padding-right:15px;filter:brightness(100%);'>2005</td><td style='font-family:Courier;font-size:12px;text-align:left;background:white;padding-top:3px;padding-bottom:3px;padding-left:5px;padding-right:15px;filter:brightness(100%);'>8.2</td></tr><tr><td style='font-family:Courier;font-size:12px;text-align:left;background:white;padding-top:3px;padding-bottom:3px;padding-left:5px;padding-right:15px;filter:brightness(96%);'>The Light Between Oceans</td><td style='font-family:Courier;font-size:12px;text-align:left;background:white;padding-top:3px;padding-bottom:3px;padding-left:5px;padding-right:15px;filter:brightness(96%);'>2016</td><td style='font-family:Courier;font-size:12px;text-align:left;background:white;padding-top:3px;padding-bottom:3px;padding-left:5px;padding-right:15px;filter:brightness(96%);'>7.2</td></tr><tr><td style='font-family:Courier;font-size:12px;text-align:left;background:white;padding-top:3px;padding-bottom:3px;padding-left:5px;padding-right:15px;filter:brightness(100%);'>The Empire Strikes Back</td><td style='font-family:Courier;font-size:12px;text-align:left;background:white;padding-top:3px;padding-bottom:3px;padding-left:5px;padding-right:15px;filter:brightness(100%);'>1980</td><td style='font-family:Courier;font-size:12px;text-align:left;background:white;padding-top:3px;padding-bottom:3px;padding-left:5px;padding-right:15px;filter:brightness(100%);'>8.7</td></tr><tr><td style='font-family:Courier;font-size:12px;text-align:left;background:#eef;padding-top:3px;padding-bottom:3px;padding-left:5px;padding-right:15px;color:black;border-top:1px solid #aaa;border-bottom:1px solid #aaa;row-toggle-background:0;'>Mean:</td><td style='font-family:Courier;font-size:12px;text-align:left;background:#eef;padding-top:3px;padding-bottom:3px;padding-left:5px;padding-right:15px;color:black;border-top:1px solid #aaa;border-bottom:1px solid #aaa;row-toggle-background:0;'></td><td style='font-family:Courier;font-size:12px;text-align:left;background:#eef;padding-top:3px;padding-bottom:3px;padding-left:5px;padding-right:15px;color:black;border-top:1px solid #aaa;border-bottom:1px solid #aaa;row-toggle-background:0;'>8.48</td></tr><tr><td style='font-family:Courier;font-size:12px;text-align:left;background:#eef;padding-top:3px;padding-bottom:3px;padding-left:5px;padding-right:15px;color:black;border-top:1px solid #aaa;border-bottom:1px solid #aaa;row-toggle-background:0;'>Max:</td><td style='font-family:Courier;font-size:12px;text-align:left;background:#eef;padding-top:3px;padding-bottom:3px;padding-left:5px;padding-right:15px;color:black;border-top:1px solid #aaa;border-bottom:1px solid #aaa;row-toggle-background:0;'></td><td style='font-family:Courier;font-size:12px;text-align:left;background:#eef;padding-top:3px;padding-bottom:3px;padding-left:5px;padding-right:15px;color:black;border-top:1px solid #aaa;border-bottom:1px solid #aaa;row-toggle-background:0;'>9.3</td></tr><tr><td style='font-family:Courier;font-size:12px;text-align:left;background:#eef;padding-top:3px;padding-bottom:3px;padding-left:5px;padding-right:15px;color:black;border-top:1px solid #aaa;border-bottom:1px solid #aaa;row-toggle-background:0;'>Min:</td><td style='font-family:Courier;font-size:12px;text-align:left;background:#eef;padding-top:3px;padding-bottom:3px;padding-left:5px;padding-right:15px;color:black;border-top:1px solid #aaa;border-bottom:1px solid #aaa;row-toggle-background:0;'></td><td style='font-family:Courier;font-size:12px;text-align:left;background:#eef;padding-top:3px;padding-bottom:3px;padding-left:5px;padding-right:15px;color:black;border-top:1px solid #aaa;border-bottom:1px solid #aaa;row-toggle-background:0;'>7.2</td></tr></table>"
      ],
      "text/plain": [
       "<IPython.core.display.HTML object>"
      ]
     },
     "metadata": {},
     "output_type": "display_data"
    }
   ],
   "source": [
    "t = CustomizedTable([\"Title\", \"Year\", \"Rating\"], subheader_style={\"background\": \"#eef\"}, header_style={\"background\": \"#eef\"})\n",
    "for r in data:\n",
    "    t.add_row(r)\n",
    "t.add_subheader([\"Mean:\", \"\", dmean])\n",
    "t.add_subheader([\"Max:\", \"\", dmax])\n",
    "t.add_subheader([\"Min:\", \"\", dmin])\n",
    "t.display()"
   ]
  },
  {
   "cell_type": "markdown",
   "id": "76c257aa-a2d3-4d2f-881d-8aa2c7dc0ab0",
   "metadata": {},
   "source": [
    "### Row styles"
   ]
  },
  {
   "cell_type": "code",
   "execution_count": 4,
   "id": "462f2d60-5809-4ffb-af3a-5a8e9051224b",
   "metadata": {},
   "outputs": [
    {
     "data": {
      "text/html": [
       "<table><tr><td style='font-weight:bold;color:black;background:#ddd;padding-top:3px;padding-bottom:3px;padding-left:5px;padding-right:15px;border-top:1px solid #aaa;border-bottom:1px solid #aaa;font-family:Courier;font-size:12px;text-align:left;'>Title</td><td style='font-weight:bold;color:black;background:#ddd;padding-top:3px;padding-bottom:3px;padding-left:5px;padding-right:15px;border-top:1px solid #aaa;border-bottom:1px solid #aaa;font-family:Courier;font-size:12px;text-align:left;'>Year</td><td style='font-weight:bold;color:black;background:#ddd;padding-top:3px;padding-bottom:3px;padding-left:5px;padding-right:15px;border-top:1px solid #aaa;border-bottom:1px solid #aaa;font-family:Courier;font-size:12px;text-align:left;'>Rating</td></tr><tr><td style='font-family:Courier;font-size:12px;text-align:left;background:white;padding-top:3px;padding-bottom:3px;padding-left:5px;padding-right:15px;color:blue;filter:brightness(100%);'>The Shawshank Redemption</td><td style='font-family:Courier;font-size:12px;text-align:left;background:white;padding-top:3px;padding-bottom:3px;padding-left:5px;padding-right:15px;color:blue;filter:brightness(100%);'>1994</td><td style='font-family:Courier;font-size:12px;text-align:left;background:white;padding-top:3px;padding-bottom:3px;padding-left:5px;padding-right:15px;color:blue;filter:brightness(100%);'>9.3</td></tr><tr><td style='font-family:Courier;font-size:12px;text-align:left;background:white;padding-top:3px;padding-bottom:3px;padding-left:5px;padding-right:15px;color:#777;row-toggle-background:0;'>The Dark Knight</td><td style='font-family:Courier;font-size:12px;text-align:left;background:white;padding-top:3px;padding-bottom:3px;padding-left:5px;padding-right:15px;color:#777;row-toggle-background:0;'>2008</td><td style='font-family:Courier;font-size:12px;text-align:left;background:white;padding-top:3px;padding-bottom:3px;padding-left:5px;padding-right:15px;color:#777;row-toggle-background:0;'>9.0</td></tr><tr><td style='font-family:Courier;font-size:12px;text-align:left;background:white;padding-top:3px;padding-bottom:3px;padding-left:5px;padding-right:15px;color:blue;filter:brightness(100%);'>Batman Begins</td><td style='font-family:Courier;font-size:12px;text-align:left;background:white;padding-top:3px;padding-bottom:3px;padding-left:5px;padding-right:15px;color:blue;filter:brightness(100%);'>2005</td><td style='font-family:Courier;font-size:12px;text-align:left;background:white;padding-top:3px;padding-bottom:3px;padding-left:5px;padding-right:15px;color:blue;filter:brightness(100%);'>8.2</td></tr><tr><td style='font-family:Courier;font-size:12px;text-align:left;background:white;padding-top:3px;padding-bottom:3px;padding-left:5px;padding-right:15px;color:red;filter:brightness(96%);'>The Light Between Oceans</td><td style='font-family:Courier;font-size:12px;text-align:left;background:white;padding-top:3px;padding-bottom:3px;padding-left:5px;padding-right:15px;color:red;filter:brightness(96%);'>2016</td><td style='font-family:Courier;font-size:12px;text-align:left;background:white;padding-top:3px;padding-bottom:3px;padding-left:5px;padding-right:15px;color:red;filter:brightness(96%);'>7.2</td></tr><tr><td style='font-family:Courier;font-size:12px;text-align:left;background:white;padding-top:3px;padding-bottom:3px;padding-left:5px;padding-right:15px;color:red;filter:brightness(100%);border-bottom:1px solid #aaa;'>The Empire Strikes Back</td><td style='font-family:Courier;font-size:12px;text-align:left;background:white;padding-top:3px;padding-bottom:3px;padding-left:5px;padding-right:15px;color:red;filter:brightness(100%);border-bottom:1px solid #aaa;'>1980</td><td style='font-family:Courier;font-size:12px;text-align:left;background:white;padding-top:3px;padding-bottom:3px;padding-left:5px;padding-right:15px;color:red;filter:brightness(100%);border-bottom:1px solid #aaa;'>8.7</td></tr></table>"
      ],
      "text/plain": [
       "<IPython.core.display.HTML object>"
      ]
     },
     "metadata": {},
     "output_type": "display_data"
    }
   ],
   "source": [
    "t = CustomizedTable([\"Title\", \"Year\", \"Rating\"])\n",
    "for r in data:\n",
    "    t.add_row(r)\n",
    "t.row_style([0,2], {\"color\": \"blue\"})\n",
    "t.row_style(range(3,5), {\"color\": \"red\"})\n",
    "t.row_style(1, style={\"color\": \"#777\", \"row-toggle-background\": 0})\n",
    "t.display()"
   ]
  },
  {
   "cell_type": "markdown",
   "id": "d6e4d3c7-66cd-4c30-baad-b8f6db760e55",
   "metadata": {},
   "source": [
    "### Column styles"
   ]
  },
  {
   "cell_type": "code",
   "execution_count": 5,
   "id": "f6d53e5d-cd08-4c7b-812c-d68ec8309b1c",
   "metadata": {},
   "outputs": [
    {
     "data": {
      "text/html": [
       "<table><tr><td style='font-weight:bold;color:black;background:#ddd;padding-top:3px;padding-bottom:3px;padding-left:5px;padding-right:15px;border-top:1px solid #aaa;border-bottom:1px solid #aaa;font-family:Courier;font-size:12px;text-align:left;'>Title</td><td style='font-weight:bold;color:black;background:#ddd;padding-top:3px;padding-bottom:3px;padding-left:5px;padding-right:15px;border-top:1px solid #aaa;border-bottom:1px solid #aaa;font-family:Courier;font-size:12px;text-align:left;'>Year</td><td style='font-weight:bold;color:black;background:#ddd;padding-top:3px;padding-bottom:3px;padding-left:5px;padding-right:15px;border-top:1px solid #aaa;border-bottom:1px solid #aaa;font-family:Courier;font-size:12px;text-align:left;'>Rating</td></tr><tr><td style='font-family:Courier;font-size:12px;text-align:left;background:white;padding-top:3px;padding-bottom:3px;padding-left:5px;padding-right:15px;filter:brightness(100%);'>The Shawshank Redemption</td><td style='font-family:Courier;font-size:12px;text-align:left;background:white;padding-top:3px;padding-bottom:3px;padding-left:5px;padding-right:15px;color:blue;filter:brightness(100%);'>1994</td><td style='font-family:Courier;font-size:12px;text-align:left;background:white;padding-top:3px;padding-bottom:3px;padding-left:5px;padding-right:15px;color:blue;filter:brightness(100%);'>9.3</td></tr><tr><td style='font-family:Courier;font-size:12px;text-align:left;background:white;padding-top:3px;padding-bottom:3px;padding-left:5px;padding-right:15px;filter:brightness(96%);'>The Dark Knight</td><td style='font-family:Courier;font-size:12px;text-align:left;background:white;padding-top:3px;padding-bottom:3px;padding-left:5px;padding-right:15px;color:blue;filter:brightness(96%);'>2008</td><td style='font-family:Courier;font-size:12px;text-align:left;background:white;padding-top:3px;padding-bottom:3px;padding-left:5px;padding-right:15px;color:blue;filter:brightness(96%);'>9.0</td></tr><tr><td style='font-family:Courier;font-size:12px;text-align:left;background:white;padding-top:3px;padding-bottom:3px;padding-left:5px;padding-right:15px;filter:brightness(100%);'>Batman Begins</td><td style='font-family:Courier;font-size:12px;text-align:left;background:white;padding-top:3px;padding-bottom:3px;padding-left:5px;padding-right:15px;color:blue;filter:brightness(100%);'>2005</td><td style='font-family:Courier;font-size:12px;text-align:left;background:white;padding-top:3px;padding-bottom:3px;padding-left:5px;padding-right:15px;color:blue;filter:brightness(100%);'>8.2</td></tr><tr><td style='font-family:Courier;font-size:12px;text-align:left;background:white;padding-top:3px;padding-bottom:3px;padding-left:5px;padding-right:15px;filter:brightness(96%);'>The Light Between Oceans</td><td style='font-family:Courier;font-size:12px;text-align:left;background:white;padding-top:3px;padding-bottom:3px;padding-left:5px;padding-right:15px;color:blue;filter:brightness(96%);'>2016</td><td style='font-family:Courier;font-size:12px;text-align:left;background:white;padding-top:3px;padding-bottom:3px;padding-left:5px;padding-right:15px;color:blue;filter:brightness(96%);'>7.2</td></tr><tr><td style='font-family:Courier;font-size:12px;text-align:left;background:white;padding-top:3px;padding-bottom:3px;padding-left:5px;padding-right:15px;filter:brightness(100%);border-bottom:1px solid #aaa;'>The Empire Strikes Back</td><td style='font-family:Courier;font-size:12px;text-align:left;background:white;padding-top:3px;padding-bottom:3px;padding-left:5px;padding-right:15px;color:blue;filter:brightness(100%);border-bottom:1px solid #aaa;'>1980</td><td style='font-family:Courier;font-size:12px;text-align:left;background:white;padding-top:3px;padding-bottom:3px;padding-left:5px;padding-right:15px;color:blue;filter:brightness(100%);border-bottom:1px solid #aaa;'>8.7</td></tr></table>"
      ],
      "text/plain": [
       "<IPython.core.display.HTML object>"
      ]
     },
     "metadata": {},
     "output_type": "display_data"
    }
   ],
   "source": [
    "t = CustomizedTable([\"Title\", \"Year\", \"Rating\"])\n",
    "for r in data:\n",
    "    t.add_row(r)\n",
    "t.column_style([1,2], {\"color\": \"blue\"})\n",
    "t.display()"
   ]
  },
  {
   "cell_type": "markdown",
   "id": "43935874-65e8-4d65-bf98-5f79a4328f9a",
   "metadata": {},
   "source": [
    "### Sorted tables"
   ]
  },
  {
   "cell_type": "code",
   "execution_count": 6,
   "id": "66ac9713-cc19-46d1-8db0-19b366420af5",
   "metadata": {},
   "outputs": [
    {
     "data": {
      "text/html": [
       "<table><tr><td style='font-weight:bold;color:black;background:#ddd;padding-top:3px;padding-bottom:3px;padding-left:5px;padding-right:15px;border-top:1px solid #aaa;border-bottom:1px solid #aaa;font-family:Courier;font-size:12px;text-align:left;'>Title</td><td style='font-weight:bold;color:black;background:#ddd;padding-top:3px;padding-bottom:3px;padding-left:5px;padding-right:15px;border-top:1px solid #aaa;border-bottom:1px solid #aaa;font-family:Courier;font-size:12px;text-align:left;'>Year</td><td style='font-weight:bold;color:black;background:#ddd;padding-top:3px;padding-bottom:3px;padding-left:5px;padding-right:15px;border-top:1px solid #aaa;border-bottom:1px solid #aaa;font-family:Courier;font-size:12px;text-align:left;'>Rating</td></tr><tr><td style='font-family:Courier;font-size:12px;text-align:left;background:white;padding-top:3px;padding-bottom:3px;padding-left:5px;padding-right:15px;filter:brightness(100%);'>The Shawshank Redemption</td><td style='font-family:Courier;font-size:12px;text-align:left;background:white;padding-top:3px;padding-bottom:3px;padding-left:5px;padding-right:15px;color:blue;filter:brightness(100%);'>1994</td><td style='font-family:Courier;font-size:12px;text-align:left;background:white;padding-top:3px;padding-bottom:3px;padding-left:5px;padding-right:15px;color:blue;filter:brightness(100%);'>9.3</td></tr><tr><td style='font-family:Courier;font-size:12px;text-align:left;background:white;padding-top:3px;padding-bottom:3px;padding-left:5px;padding-right:15px;filter:brightness(96%);'>The Dark Knight</td><td style='font-family:Courier;font-size:12px;text-align:left;background:white;padding-top:3px;padding-bottom:3px;padding-left:5px;padding-right:15px;color:blue;filter:brightness(96%);'>2008</td><td style='font-family:Courier;font-size:12px;text-align:left;background:white;padding-top:3px;padding-bottom:3px;padding-left:5px;padding-right:15px;color:blue;filter:brightness(96%);'>9.0</td></tr><tr><td style='font-family:Courier;font-size:12px;text-align:left;background:white;padding-top:3px;padding-bottom:3px;padding-left:5px;padding-right:15px;filter:brightness(100%);'>The Empire Strikes Back</td><td style='font-family:Courier;font-size:12px;text-align:left;background:white;padding-top:3px;padding-bottom:3px;padding-left:5px;padding-right:15px;color:blue;filter:brightness(100%);'>1980</td><td style='font-family:Courier;font-size:12px;text-align:left;background:white;padding-top:3px;padding-bottom:3px;padding-left:5px;padding-right:15px;color:blue;filter:brightness(100%);'>8.7</td></tr><tr><td style='font-family:Courier;font-size:12px;text-align:left;background:white;padding-top:3px;padding-bottom:3px;padding-left:5px;padding-right:15px;filter:brightness(96%);'>Batman Begins</td><td style='font-family:Courier;font-size:12px;text-align:left;background:white;padding-top:3px;padding-bottom:3px;padding-left:5px;padding-right:15px;color:blue;filter:brightness(96%);'>2005</td><td style='font-family:Courier;font-size:12px;text-align:left;background:white;padding-top:3px;padding-bottom:3px;padding-left:5px;padding-right:15px;color:blue;filter:brightness(96%);'>8.2</td></tr><tr><td style='font-family:Courier;font-size:12px;text-align:left;background:white;padding-top:3px;padding-bottom:3px;padding-left:5px;padding-right:15px;filter:brightness(100%);border-bottom:1px solid #aaa;'>The Light Between Oceans</td><td style='font-family:Courier;font-size:12px;text-align:left;background:white;padding-top:3px;padding-bottom:3px;padding-left:5px;padding-right:15px;color:blue;filter:brightness(100%);border-bottom:1px solid #aaa;'>2016</td><td style='font-family:Courier;font-size:12px;text-align:left;background:white;padding-top:3px;padding-bottom:3px;padding-left:5px;padding-right:15px;color:blue;filter:brightness(100%);border-bottom:1px solid #aaa;'>7.2</td></tr></table>"
      ],
      "text/plain": [
       "<IPython.core.display.HTML object>"
      ]
     },
     "metadata": {},
     "output_type": "display_data"
    },
    {
     "data": {
      "text/html": [
       "<table><tr><td style='font-weight:bold;color:black;background:#ddd;padding-top:3px;padding-bottom:3px;padding-left:5px;padding-right:15px;border-top:1px solid #aaa;border-bottom:1px solid #aaa;font-family:Courier;font-size:12px;text-align:left;'>Title</td><td style='font-weight:bold;color:black;background:#ddd;padding-top:3px;padding-bottom:3px;padding-left:5px;padding-right:15px;border-top:1px solid #aaa;border-bottom:1px solid #aaa;font-family:Courier;font-size:12px;text-align:left;'>Year</td><td style='font-weight:bold;color:black;background:#ddd;padding-top:3px;padding-bottom:3px;padding-left:5px;padding-right:15px;border-top:1px solid #aaa;border-bottom:1px solid #aaa;font-family:Courier;font-size:12px;text-align:left;'>Rating</td></tr><tr><td style='font-family:Courier;font-size:12px;text-align:left;background:white;padding-top:3px;padding-bottom:3px;padding-left:5px;padding-right:15px;filter:brightness(100%);'>The Empire Strikes Back</td><td style='font-family:Courier;font-size:12px;text-align:left;background:white;padding-top:3px;padding-bottom:3px;padding-left:5px;padding-right:15px;color:blue;filter:brightness(100%);'>1980</td><td style='font-family:Courier;font-size:12px;text-align:left;background:white;padding-top:3px;padding-bottom:3px;padding-left:5px;padding-right:15px;color:blue;filter:brightness(100%);'>8.7</td></tr><tr><td style='font-family:Courier;font-size:12px;text-align:left;background:white;padding-top:3px;padding-bottom:3px;padding-left:5px;padding-right:15px;filter:brightness(96%);'>The Shawshank Redemption</td><td style='font-family:Courier;font-size:12px;text-align:left;background:white;padding-top:3px;padding-bottom:3px;padding-left:5px;padding-right:15px;color:blue;filter:brightness(96%);'>1994</td><td style='font-family:Courier;font-size:12px;text-align:left;background:white;padding-top:3px;padding-bottom:3px;padding-left:5px;padding-right:15px;color:blue;filter:brightness(96%);'>9.3</td></tr><tr><td style='font-family:Courier;font-size:12px;text-align:left;background:white;padding-top:3px;padding-bottom:3px;padding-left:5px;padding-right:15px;filter:brightness(100%);'>Batman Begins</td><td style='font-family:Courier;font-size:12px;text-align:left;background:white;padding-top:3px;padding-bottom:3px;padding-left:5px;padding-right:15px;color:blue;filter:brightness(100%);'>2005</td><td style='font-family:Courier;font-size:12px;text-align:left;background:white;padding-top:3px;padding-bottom:3px;padding-left:5px;padding-right:15px;color:blue;filter:brightness(100%);'>8.2</td></tr><tr><td style='font-family:Courier;font-size:12px;text-align:left;background:white;padding-top:3px;padding-bottom:3px;padding-left:5px;padding-right:15px;filter:brightness(96%);'>The Dark Knight</td><td style='font-family:Courier;font-size:12px;text-align:left;background:white;padding-top:3px;padding-bottom:3px;padding-left:5px;padding-right:15px;color:blue;filter:brightness(96%);'>2008</td><td style='font-family:Courier;font-size:12px;text-align:left;background:white;padding-top:3px;padding-bottom:3px;padding-left:5px;padding-right:15px;color:blue;filter:brightness(96%);'>9.0</td></tr><tr><td style='font-family:Courier;font-size:12px;text-align:left;background:white;padding-top:3px;padding-bottom:3px;padding-left:5px;padding-right:15px;filter:brightness(100%);border-bottom:1px solid #aaa;'>The Light Between Oceans</td><td style='font-family:Courier;font-size:12px;text-align:left;background:white;padding-top:3px;padding-bottom:3px;padding-left:5px;padding-right:15px;color:blue;filter:brightness(100%);border-bottom:1px solid #aaa;'>2016</td><td style='font-family:Courier;font-size:12px;text-align:left;background:white;padding-top:3px;padding-bottom:3px;padding-left:5px;padding-right:15px;color:blue;filter:brightness(100%);border-bottom:1px solid #aaa;'>7.2</td></tr></table>"
      ],
      "text/plain": [
       "<IPython.core.display.HTML object>"
      ]
     },
     "metadata": {},
     "output_type": "display_data"
    }
   ],
   "source": [
    "t.sort(\"Rating\", reverse=True)\n",
    "t.display()\n",
    "\n",
    "t.sort(\"Year\")\n",
    "t.display()"
   ]
  },
  {
   "cell_type": "markdown",
   "id": "0e34709a-f8f3-4353-b57a-99d193a31d37",
   "metadata": {},
   "source": [
    "### Vertical borders"
   ]
  },
  {
   "cell_type": "code",
   "execution_count": 7,
   "id": "c61f54bc-0458-4593-ad12-2a0b18ce8dce",
   "metadata": {},
   "outputs": [
    {
     "data": {
      "text/html": [
       "<table><tr><td style='font-weight:bold;color:black;background:#ddd;padding-top:3px;padding-bottom:3px;padding-left:5px;padding-right:15px;border-top:1px solid #aaa;border-bottom:1px solid #aaa;border-left:1px solid #aaa;border-right:1px solid #aaa;font-family:Courier;font-size:12px;text-align:left;'>Title</td><td style='font-weight:bold;color:black;background:#ddd;padding-top:3px;padding-bottom:3px;padding-left:5px;padding-right:15px;border-top:1px solid #aaa;border-bottom:1px solid #aaa;border-left:1px solid #aaa;border-right:1px solid #aaa;font-family:Courier;font-size:12px;text-align:left;'>Year</td><td style='font-weight:bold;color:black;background:#ddd;padding-top:3px;padding-bottom:3px;padding-left:5px;padding-right:15px;border-top:1px solid #aaa;border-bottom:1px solid #aaa;border-left:1px solid #aaa;border-right:1px solid #aaa;font-family:Courier;font-size:12px;text-align:left;'>Rating</td></tr><tr><td style='font-family:Courier;font-size:12px;text-align:left;background:white;padding-top:3px;padding-bottom:3px;padding-left:5px;padding-right:15px;border-left:1px solid #aaa;border-right:1px solid #aaa;filter:brightness(100%);'>The Shawshank Redemption</td><td style='font-family:Courier;font-size:12px;text-align:center;background:white;padding-top:3px;padding-bottom:3px;padding-left:5px;padding-right:15px;color:blue;border-right:1px solid #aaa;filter:brightness(100%);'>1994</td><td style='font-family:Courier;font-size:12px;text-align:center;background:white;padding-top:3px;padding-bottom:3px;padding-left:5px;padding-right:15px;color:blue;border-right:1px solid #aaa;filter:brightness(100%);'>9.3</td></tr><tr><td style='font-family:Courier;font-size:12px;text-align:left;background:white;padding-top:3px;padding-bottom:3px;padding-left:5px;padding-right:15px;border-left:1px solid #aaa;border-right:1px solid #aaa;filter:brightness(96%);'>The Dark Knight</td><td style='font-family:Courier;font-size:12px;text-align:center;background:white;padding-top:3px;padding-bottom:3px;padding-left:5px;padding-right:15px;color:blue;border-right:1px solid #aaa;filter:brightness(96%);'>2008</td><td style='font-family:Courier;font-size:12px;text-align:center;background:white;padding-top:3px;padding-bottom:3px;padding-left:5px;padding-right:15px;color:blue;border-right:1px solid #aaa;filter:brightness(96%);'>9.0</td></tr><tr><td style='font-family:Courier;font-size:12px;text-align:left;background:white;padding-top:3px;padding-bottom:3px;padding-left:5px;padding-right:15px;border-left:1px solid #aaa;border-right:1px solid #aaa;filter:brightness(100%);'>Batman Begins</td><td style='font-family:Courier;font-size:12px;text-align:center;background:white;padding-top:3px;padding-bottom:3px;padding-left:5px;padding-right:15px;color:blue;border-right:1px solid #aaa;filter:brightness(100%);'>2005</td><td style='font-family:Courier;font-size:12px;text-align:center;background:white;padding-top:3px;padding-bottom:3px;padding-left:5px;padding-right:15px;color:blue;border-right:1px solid #aaa;filter:brightness(100%);'>8.2</td></tr><tr><td style='font-family:Courier;font-size:12px;text-align:left;background:white;padding-top:3px;padding-bottom:3px;padding-left:5px;padding-right:15px;border-left:1px solid #aaa;border-right:1px solid #aaa;filter:brightness(96%);'>The Light Between Oceans</td><td style='font-family:Courier;font-size:12px;text-align:center;background:white;padding-top:3px;padding-bottom:3px;padding-left:5px;padding-right:15px;color:blue;border-right:1px solid #aaa;filter:brightness(96%);'>2016</td><td style='font-family:Courier;font-size:12px;text-align:center;background:white;padding-top:3px;padding-bottom:3px;padding-left:5px;padding-right:15px;color:blue;border-right:1px solid #aaa;filter:brightness(96%);'>7.2</td></tr><tr><td style='font-family:Courier;font-size:12px;text-align:left;background:white;padding-top:3px;padding-bottom:3px;padding-left:5px;padding-right:15px;border-left:1px solid #aaa;border-right:1px solid #aaa;filter:brightness(100%);border-bottom:1px solid #aaa;'>The Empire Strikes Back</td><td style='font-family:Courier;font-size:12px;text-align:center;background:white;padding-top:3px;padding-bottom:3px;padding-left:5px;padding-right:15px;color:blue;border-right:1px solid #aaa;filter:brightness(100%);border-bottom:1px solid #aaa;'>1980</td><td style='font-family:Courier;font-size:12px;text-align:center;background:white;padding-top:3px;padding-bottom:3px;padding-left:5px;padding-right:15px;color:blue;border-right:1px solid #aaa;filter:brightness(100%);border-bottom:1px solid #aaa;'>8.7</td></tr></table>"
      ],
      "text/plain": [
       "<IPython.core.display.HTML object>"
      ]
     },
     "metadata": {},
     "output_type": "display_data"
    }
   ],
   "source": [
    "t = CustomizedTable([\"Title\", \"Year\", \"Rating\"], header_style={\"border-left\": 1, \"border-right\": 1})\n",
    "for r in data:\n",
    "    t.add_row(r)\n",
    "t.column_style(0, {\"border-left\": 1, \"border-right\": 1})\n",
    "t.column_style([1,2], {\"color\": \"blue\", \"border-right\": 1, \"text-align\": \"center\"})\n",
    "t.display()"
   ]
  },
  {
   "cell_type": "markdown",
   "id": "2f259b15-2dc2-413c-8fee-668515d768d9",
   "metadata": {},
   "source": [
    "### Block styles"
   ]
  },
  {
   "cell_type": "code",
   "execution_count": 8,
   "id": "ed3f1312-7e3b-4073-9981-7f6545356c9b",
   "metadata": {},
   "outputs": [
    {
     "data": {
      "text/html": [
       "<table><tr><td style='font-weight:bold;color:black;background:#ddd;padding-top:3px;padding-bottom:3px;padding-left:5px;padding-right:15px;border-top:1px solid #aaa;border-bottom:1px solid #aaa;font-family:Courier;font-size:12px;text-align:left;'>No</td><td style='font-weight:bold;color:black;background:#ddd;padding-top:3px;padding-bottom:3px;padding-left:5px;padding-right:15px;border-top:1px solid #aaa;border-bottom:1px solid #aaa;font-family:Courier;font-size:12px;text-align:left;'>Title</td><td style='font-weight:bold;color:black;background:#ddd;padding-top:3px;padding-bottom:3px;padding-left:5px;padding-right:15px;border-top:1px solid #aaa;border-bottom:1px solid #aaa;font-family:Courier;font-size:12px;text-align:left;'>Year</td><td style='font-weight:bold;color:black;background:#ddd;padding-top:3px;padding-bottom:3px;padding-left:5px;padding-right:15px;border-top:1px solid #aaa;border-bottom:1px solid #aaa;font-family:Courier;font-size:12px;text-align:left;'>Rating</td></tr><tr><td style='font-family:Courier;font-size:12px;text-align:left;background:white;padding-top:3px;padding-bottom:3px;padding-left:5px;padding-right:15px;italic:italic;font-style:italic;filter:brightness(100%);'>1</td><td style='font-family:Courier;font-size:12px;text-align:left;background:white;padding-top:3px;padding-bottom:3px;padding-left:5px;padding-right:15px;italic:italic;font-style:italic;filter:brightness(100%);'>The Shawshank Redemption</td><td style='font-family:Courier;font-size:12px;text-align:left;background:white;padding-top:3px;padding-bottom:3px;padding-left:5px;padding-right:15px;italic:italic;font-style:italic;filter:brightness(100%);'>1994</td><td style='font-family:Courier;font-size:12px;text-align:left;background:white;padding-top:3px;padding-bottom:3px;padding-left:5px;padding-right:15px;italic:italic;font-style:italic;filter:brightness(100%);'>9.3</td></tr><tr><td style='font-family:Courier;font-size:12px;text-align:left;background:white;padding-top:3px;padding-bottom:3px;padding-left:5px;padding-right:15px;italic:italic;font-style:italic;filter:brightness(96%);'>2</td><td style='font-family:Courier;font-size:12px;text-align:left;background:white;padding-top:3px;padding-bottom:3px;padding-left:5px;padding-right:15px;italic:italic;color:blue;bold:1;normal:1;font-weight:bold;font-style:normal;filter:brightness(96%);'>The Dark Knight</td><td style='font-family:Courier;font-size:12px;text-align:left;background:white;padding-top:3px;padding-bottom:3px;padding-left:5px;padding-right:15px;italic:italic;color:blue;bold:1;normal:1;font-weight:bold;font-style:normal;filter:brightness(96%);'>2008</td><td style='font-family:Courier;font-size:12px;text-align:left;background:white;padding-top:3px;padding-bottom:3px;padding-left:5px;padding-right:15px;italic:italic;font-style:italic;filter:brightness(96%);'>9.0</td></tr><tr><td style='font-family:Courier;font-size:12px;text-align:left;background:white;padding-top:3px;padding-bottom:3px;padding-left:5px;padding-right:15px;italic:italic;font-style:italic;filter:brightness(100%);'>3</td><td style='font-family:Courier;font-size:12px;text-align:left;background:white;padding-top:3px;padding-bottom:3px;padding-left:5px;padding-right:15px;italic:italic;color:blue;bold:1;normal:1;font-weight:bold;font-style:normal;filter:brightness(100%);'>Batman Begins</td><td style='font-family:Courier;font-size:12px;text-align:left;background:white;padding-top:3px;padding-bottom:3px;padding-left:5px;padding-right:15px;italic:italic;color:blue;bold:1;normal:1;font-weight:bold;font-style:normal;filter:brightness(100%);'>2005</td><td style='font-family:Courier;font-size:12px;text-align:left;background:white;padding-top:3px;padding-bottom:3px;padding-left:5px;padding-right:15px;italic:italic;font-style:italic;filter:brightness(100%);'>8.2</td></tr><tr><td style='font-family:Courier;font-size:12px;text-align:left;background:white;padding-top:3px;padding-bottom:3px;padding-left:5px;padding-right:15px;italic:italic;font-style:italic;filter:brightness(96%);'>4</td><td style='font-family:Courier;font-size:12px;text-align:left;background:white;padding-top:3px;padding-bottom:3px;padding-left:5px;padding-right:15px;italic:italic;color:blue;bold:1;normal:1;font-weight:bold;font-style:normal;filter:brightness(96%);'>The Light Between Oceans</td><td style='font-family:Courier;font-size:12px;text-align:left;background:white;padding-top:3px;padding-bottom:3px;padding-left:5px;padding-right:15px;italic:italic;color:blue;bold:1;normal:1;font-weight:bold;font-style:normal;filter:brightness(96%);'>2016</td><td style='font-family:Courier;font-size:12px;text-align:left;background:white;padding-top:3px;padding-bottom:3px;padding-left:5px;padding-right:15px;italic:italic;font-style:italic;filter:brightness(96%);'>7.2</td></tr><tr><td style='font-family:Courier;font-size:12px;text-align:left;background:white;padding-top:3px;padding-bottom:3px;padding-left:5px;padding-right:15px;italic:italic;font-style:italic;filter:brightness(100%);border-bottom:1px solid #aaa;'>5</td><td style='font-family:Courier;font-size:12px;text-align:left;background:white;padding-top:3px;padding-bottom:3px;padding-left:5px;padding-right:15px;italic:italic;font-style:italic;filter:brightness(100%);border-bottom:1px solid #aaa;'>The Empire Strikes Back</td><td style='font-family:Courier;font-size:12px;text-align:left;background:white;padding-top:3px;padding-bottom:3px;padding-left:5px;padding-right:15px;italic:italic;font-style:italic;filter:brightness(100%);border-bottom:1px solid #aaa;'>1980</td><td style='font-family:Courier;font-size:12px;text-align:left;background:white;padding-top:3px;padding-bottom:3px;padding-left:5px;padding-right:15px;italic:italic;font-style:italic;filter:brightness(100%);border-bottom:1px solid #aaa;'>8.7</td></tr></table>"
      ],
      "text/plain": [
       "<IPython.core.display.HTML object>"
      ]
     },
     "metadata": {},
     "output_type": "display_data"
    }
   ],
   "source": [
    "t = CustomizedTable([\"No\", \"Title\", \"Year\", \"Rating\"])\n",
    "for i,r in enumerate(data):\n",
    "    t.add_row([i+1]+r, style={\"italic\": \"italic\"})\n",
    "t.cell_style(range(1,3), range(1,4), {\"color\": \"blue\", \"bold\": 1, \"normal\": 1})\n",
    "t.display()"
   ]
  },
  {
   "cell_type": "markdown",
   "id": "a7eb5af6-1dcd-473a-824a-302567d11555",
   "metadata": {},
   "source": [
    "### Styles for specific cells"
   ]
  },
  {
   "cell_type": "code",
   "execution_count": 9,
   "id": "a8d205ae-0dbe-48d0-a513-fc820e661583",
   "metadata": {},
   "outputs": [
    {
     "data": {
      "text/html": [
       "<table><tr><td style='font-weight:bold;color:black;background:#ddd;padding-top:3px;padding-bottom:3px;padding-left:5px;padding-right:15px;border-top:1px solid #aaa;border-bottom:1px solid #aaa;font-family:Courier;font-size:12px;text-align:left;'>Title</td><td style='font-weight:bold;color:black;background:#ddd;padding-top:3px;padding-bottom:3px;padding-left:5px;padding-right:15px;border-top:1px solid #aaa;border-bottom:1px solid #aaa;font-family:Courier;font-size:12px;text-align:left;'>Year</td><td style='font-weight:bold;color:black;background:#ddd;padding-top:3px;padding-bottom:3px;padding-left:5px;padding-right:15px;border-top:1px solid #aaa;border-bottom:1px solid #aaa;font-family:Courier;font-size:12px;text-align:left;'>Rating</td></tr><tr><td style='font-family:Courier;font-size:12px;text-align:left;background:white;padding-top:3px;padding-bottom:3px;padding-left:5px;padding-right:15px;color:#777;bold:1;font-weight:bold;filter:brightness(100%);'>The Shawshank Redemption</td><td style='font-family:Courier;font-size:12px;text-align:left;background:white;padding-top:3px;padding-bottom:3px;padding-left:5px;padding-right:15px;bold:1;font-weight:bold;filter:brightness(100%);'>1994</td><td style='font-family:Courier;font-size:12px;text-align:left;background:#9f9;padding-top:3px;padding-bottom:3px;padding-left:5px;padding-right:15px;color:blue;bold:1;font-weight:bold;filter:brightness(100%);'>9.3</td></tr><tr><td style='font-family:Courier;font-size:12px;text-align:left;background:white;padding-top:3px;padding-bottom:3px;padding-left:5px;padding-right:15px;color:#777;filter:brightness(96%);'>The Dark Knight</td><td style='font-family:Courier;font-size:12px;text-align:left;background:white;padding-top:3px;padding-bottom:3px;padding-left:5px;padding-right:15px;filter:brightness(96%);'>2008</td><td style='font-family:Courier;font-size:12px;text-align:left;background:white;padding-top:3px;padding-bottom:3px;padding-left:5px;padding-right:15px;color:blue;filter:brightness(96%);'>9.0</td></tr><tr><td style='font-family:Courier;font-size:12px;text-align:left;background:white;padding-top:3px;padding-bottom:3px;padding-left:5px;padding-right:15px;color:#777;filter:brightness(100%);'>Batman Begins</td><td style='font-family:Courier;font-size:12px;text-align:left;background:white;padding-top:3px;padding-bottom:3px;padding-left:5px;padding-right:15px;filter:brightness(100%);'>2005</td><td style='font-family:Courier;font-size:12px;text-align:left;background:white;padding-top:3px;padding-bottom:3px;padding-left:5px;padding-right:15px;color:blue;filter:brightness(100%);'>8.2</td></tr><tr><td style='font-family:Courier;font-size:12px;text-align:left;background:white;padding-top:3px;padding-bottom:3px;padding-left:5px;padding-right:15px;color:#777;filter:brightness(96%);'>The Light Between Oceans</td><td style='font-family:Courier;font-size:12px;text-align:left;background:white;padding-top:3px;padding-bottom:3px;padding-left:5px;padding-right:15px;filter:brightness(96%);'>2016</td><td style='font-family:Courier;font-size:12px;text-align:left;background:#f999;padding-top:3px;padding-bottom:3px;padding-left:5px;padding-right:15px;color:blue;filter:brightness(96%);'>7.2</td></tr><tr><td style='font-family:Courier;font-size:12px;text-align:left;background:white;padding-top:3px;padding-bottom:3px;padding-left:5px;padding-right:15px;color:#777;filter:brightness(100%);border-bottom:1px solid #aaa;'>The Empire Strikes Back</td><td style='font-family:Courier;font-size:12px;text-align:left;background:white;padding-top:3px;padding-bottom:3px;padding-left:5px;padding-right:15px;filter:brightness(100%);border-bottom:1px solid #aaa;'>1980</td><td style='font-family:Courier;font-size:12px;text-align:left;background:white;padding-top:3px;padding-bottom:3px;padding-left:5px;padding-right:15px;color:blue;filter:brightness(100%);border-bottom:1px solid #aaa;'>8.7</td></tr></table>"
      ],
      "text/plain": [
       "<IPython.core.display.HTML object>"
      ]
     },
     "metadata": {},
     "output_type": "display_data"
    }
   ],
   "source": [
    "t = CustomizedTable([\"Title\", \"Year\", \"Rating\"])\n",
    "for r in data:\n",
    "    t.add_row(r)\n",
    "t.column_style(\"Rating\", {\"color\": \"blue\"})\n",
    "t.column_style(0, {\"color\": \"#777\"})\n",
    "t.row_style(0, {\"bold\": 1})\n",
    "t.cell_style(\"Rating\", 0, {\"background\": \"#9f9\"})\n",
    "t.cell_style(\"Rating\", 3, {\"background\": \"#f999\"})\n",
    "t.display()"
   ]
  },
  {
   "cell_type": "markdown",
   "id": "b195a611-f793-4b11-abfd-9c0732165296",
   "metadata": {},
   "source": [
    "### Rows spanning multiple columns, text tagging and table width"
   ]
  },
  {
   "cell_type": "code",
   "execution_count": 10,
   "id": "d2bcaf50-2b8e-40bf-9c69-94ef90f99c9c",
   "metadata": {},
   "outputs": [
    {
     "data": {
      "text/html": [
       "<table style='width=500px; max-width:500px; min-width:500px; table-layout: fixed; word-wrap: break-word;'><tr><td style='font-weight:bold;color:black;background:#ddd;padding-top:3px;padding-bottom:3px;padding-left:5px;padding-right:15px;border-top:1px solid #aaa;border-bottom:1px solid #aaa;font-family:Courier;font-size:12px;text-align:left;'>Title</td><td style='font-weight:bold;color:black;background:#ddd;padding-top:3px;padding-bottom:3px;padding-left:5px;padding-right:15px;border-top:1px solid #aaa;border-bottom:1px solid #aaa;font-family:Courier;font-size:12px;text-align:left;'>Year</td><td style='font-weight:bold;color:black;background:#ddd;padding-top:3px;padding-bottom:3px;padding-left:5px;padding-right:15px;border-top:1px solid #aaa;border-bottom:1px solid #aaa;font-family:Courier;font-size:12px;text-align:left;'>Rating</td></tr><tr><td style='font-family:Courier;font-size:12px;text-align:left;background:white;padding-top:3px;padding-bottom:3px;padding-left:5px;padding-right:15px;filter:brightness(100%);'>The Shawshank Redemption</td><td style='font-family:Courier;font-size:12px;text-align:left;background:white;padding-top:3px;padding-bottom:3px;padding-left:5px;padding-right:15px;filter:brightness(100%);'>1994</td><td style='font-family:Courier;font-size:12px;text-align:left;background:white;padding-top:3px;padding-bottom:3px;padding-left:5px;padding-right:15px;filter:brightness(100%);'>9.3</td></tr><tr><td style='font-family:Courier;font-size:12px;text-align:left;background:white;padding-top:3px;padding-bottom:3px;padding-left:5px;padding-right:15px;filter:brightness(96%);'>The Dark Knight</td><td style='font-family:Courier;font-size:12px;text-align:left;background:white;padding-top:3px;padding-bottom:3px;padding-left:5px;padding-right:15px;filter:brightness(96%);'>2008</td><td style='font-family:Courier;font-size:12px;text-align:left;background:white;padding-top:3px;padding-bottom:3px;padding-left:5px;padding-right:15px;filter:brightness(96%);'>9.0</td></tr><tr><td style='font-family:Courier;font-size:12px;text-align:left;background:white;padding-top:3px;padding-bottom:3px;padding-left:5px;padding-right:15px;filter:brightness(100%);'><span style='color:#b40403;font-weight:bold;'>Batman</span> Begins</td><td style='font-family:Courier;font-size:12px;text-align:left;background:white;padding-top:3px;padding-bottom:3px;padding-left:5px;padding-right:15px;filter:brightness(100%);'>2005</td><td style='font-family:Courier;font-size:12px;text-align:left;background:white;padding-top:3px;padding-bottom:3px;padding-left:5px;padding-right:15px;filter:brightness(100%);'>8.2</td></tr><tr><td style='font-family:Courier;font-size:12px;text-align:left;background:white;padding-top:3px;padding-bottom:3px;padding-left:5px;padding-right:15px;filter:brightness(96%);'>The Light Between Oceans</td><td style='font-family:Courier;font-size:12px;text-align:left;background:white;padding-top:3px;padding-bottom:3px;padding-left:5px;padding-right:15px;filter:brightness(96%);'>2016</td><td style='font-family:Courier;font-size:12px;text-align:left;background:white;padding-top:3px;padding-bottom:3px;padding-left:5px;padding-right:15px;filter:brightness(96%);'>7.2</td></tr><tr><td style='font-family:Courier;font-size:12px;text-align:left;background:white;padding-top:3px;padding-bottom:3px;padding-left:5px;padding-right:15px;filter:brightness(100%);'>The Empire Strikes Back</td><td style='font-family:Courier;font-size:12px;text-align:left;background:white;padding-top:3px;padding-bottom:3px;padding-left:5px;padding-right:15px;filter:brightness(100%);'>1980</td><td style='font-family:Courier;font-size:12px;text-align:left;background:white;padding-top:3px;padding-bottom:3px;padding-left:5px;padding-right:15px;filter:brightness(100%);'>8.7</td></tr><tr><td style='font-family:Courier;font-size:12px;text-align:left;background:#7e7;padding-top:3px;padding-bottom:3px;padding-left:5px;padding-right:15px;color:green;font-weight:bold;row-toggle-background:0;border-top:1px solid #aaa;border-bottom:1px solid #aaa;' colspan=3>IMDB ratings</td></tr></table>"
      ],
      "text/plain": [
       "<IPython.core.display.HTML object>"
      ]
     },
     "metadata": {},
     "output_type": "display_data"
    }
   ],
   "source": [
    "t = CustomizedTable([\"Title\", \"Year\", \"Rating\"], width=500)\n",
    "for r in data:\n",
    "    t.add_row(r.copy())\n",
    "t.update_cell(0, 2, tag_text(\"<name|bold>Batman</> Begins\"))\n",
    "t.add_colspan_row([[\"IMDB ratings\", 3]], style={\"color\": \"green\", \"font-weight\": \"bold\", \"background\": \"#7e7\", \"row-toggle-background\": 0, \"border-top\": 1})\n",
    "t.display()"
   ]
  },
  {
   "cell_type": "markdown",
   "id": "2c85ab4c-e9ce-446c-8acb-34cdbd82c472",
   "metadata": {},
   "source": [
    "### Formatting values and dump to csv file"
   ]
  },
  {
   "cell_type": "code",
   "execution_count": 11,
   "id": "777da0a1-79fe-4d8e-9267-880f495b20c3",
   "metadata": {},
   "outputs": [
    {
     "data": {
      "text/html": [
       "<table><tr><td style='font-weight:bold;color:black;background:#ddd;padding-top:3px;padding-bottom:3px;padding-left:5px;padding-right:15px;border-top:1px solid #aaa;border-bottom:1px solid #aaa;font-family:Courier;font-size:12px;text-align:left;'>No</td><td style='font-weight:bold;color:black;background:#ddd;padding-top:3px;padding-bottom:3px;padding-left:5px;padding-right:15px;border-top:1px solid #aaa;border-bottom:1px solid #aaa;font-family:Courier;font-size:12px;text-align:left;' width=250>Title</td><td style='font-weight:bold;color:black;background:#ddd;padding-top:3px;padding-bottom:3px;padding-left:5px;padding-right:15px;border-top:1px solid #aaa;border-bottom:1px solid #aaa;font-family:Courier;font-size:12px;text-align:left;'>Year</td><td style='font-weight:bold;color:black;background:#ddd;padding-top:3px;padding-bottom:3px;padding-left:5px;padding-right:15px;border-top:1px solid #aaa;border-bottom:1px solid #aaa;font-family:Courier;font-size:12px;text-align:left;'>Rating</td><td style='font-weight:bold;color:black;background:#ddd;padding-top:3px;padding-bottom:3px;padding-left:5px;padding-right:15px;border-top:1px solid #aaa;border-bottom:1px solid #aaa;font-family:Courier;font-size:12px;text-align:left;'>No ratings</td><td style='font-weight:bold;color:black;background:#ddd;padding-top:3px;padding-bottom:3px;padding-left:5px;padding-right:15px;border-top:1px solid #aaa;border-bottom:1px solid #aaa;font-family:Courier;font-size:12px;text-align:left;'>Part</td><td style='font-weight:bold;color:black;background:#ddd;padding-top:3px;padding-bottom:3px;padding-left:5px;padding-right:15px;border-top:1px solid #aaa;border-bottom:1px solid #aaa;font-family:Courier;font-size:12px;text-align:left;' width=250>Genre</td></tr><tr><td style='font-family:Courier;font-size:12px;text-align:left;background:white;padding-top:3px;padding-bottom:3px;padding-left:5px;padding-right:15px;color:#666;filter:brightness(100%);'>1</td><td style='font-family:Courier;font-size:12px;text-align:left;background:white;padding-top:3px;padding-bottom:3px;padding-left:5px;padding-right:15px;color:#b40403;filter:brightness(100%);'>The Shawshank Redemption</td><td style='font-family:Courier;font-size:12px;text-align:left;background:white;padding-top:3px;padding-bottom:3px;padding-left:5px;padding-right:15px;color:#3b08d3;filter:brightness(100%);'>1994</td><td style='font-family:Courier;font-size:12px;text-align:left;background:white;padding-top:3px;padding-bottom:3px;padding-left:5px;padding-right:15px;color:#3b08d3;filter:brightness(100%);'>9.3</td><td style='font-family:Courier;font-size:12px;text-align:left;background:white;padding-top:3px;padding-bottom:3px;padding-left:5px;padding-right:15px;color:#3b08d3;num-format:prefix;filter:brightness(100%);'>2.6M</td><td style='font-family:Courier;font-size:12px;text-align:left;background:white;padding-top:3px;padding-bottom:3px;padding-left:5px;padding-right:15px;color:#7a03fc;num-format:pct-1;filter:brightness(100%);'>32.3%</td><td style='font-family:Courier;font-size:12px;text-align:left;background:white;padding-top:3px;padding-bottom:3px;padding-left:5px;padding-right:15px;color:#fb4b04;filter:brightness(100%);'>Drama</td></tr><tr><td style='font-family:Courier;font-size:12px;text-align:left;background:white;padding-top:3px;padding-bottom:3px;padding-left:5px;padding-right:15px;color:#666;filter:brightness(96%);'>2</td><td style='font-family:Courier;font-size:12px;text-align:left;background:white;padding-top:3px;padding-bottom:3px;padding-left:5px;padding-right:15px;color:#b40403;filter:brightness(96%);'>The Dark Knight</td><td style='font-family:Courier;font-size:12px;text-align:left;background:white;padding-top:3px;padding-bottom:3px;padding-left:5px;padding-right:15px;color:#3b08d3;filter:brightness(96%);'>2008</td><td style='font-family:Courier;font-size:12px;text-align:left;background:white;padding-top:3px;padding-bottom:3px;padding-left:5px;padding-right:15px;color:#3b08d3;filter:brightness(96%);'>9.0</td><td style='font-family:Courier;font-size:12px;text-align:left;background:white;padding-top:3px;padding-bottom:3px;padding-left:5px;padding-right:15px;color:#3b08d3;num-format:prefix;filter:brightness(96%);'>2.6M</td><td style='font-family:Courier;font-size:12px;text-align:left;background:white;padding-top:3px;padding-bottom:3px;padding-left:5px;padding-right:15px;color:#7a03fc;num-format:pct-1;filter:brightness(96%);'>32.3%</td><td style='font-family:Courier;font-size:12px;text-align:left;background:white;padding-top:3px;padding-bottom:3px;padding-left:5px;padding-right:15px;color:#fb4b04;filter:brightness(96%);'>Action/Crime/Drama</td></tr><tr><td style='font-family:Courier;font-size:12px;text-align:left;background:white;padding-top:3px;padding-bottom:3px;padding-left:5px;padding-right:15px;color:#666;filter:brightness(100%);'>3</td><td style='font-family:Courier;font-size:12px;text-align:left;background:white;padding-top:3px;padding-bottom:3px;padding-left:5px;padding-right:15px;color:#b40403;filter:brightness(100%);'>Batman Begins</td><td style='font-family:Courier;font-size:12px;text-align:left;background:white;padding-top:3px;padding-bottom:3px;padding-left:5px;padding-right:15px;color:#3b08d3;filter:brightness(100%);'>2005</td><td style='font-family:Courier;font-size:12px;text-align:left;background:white;padding-top:3px;padding-bottom:3px;padding-left:5px;padding-right:15px;color:#3b08d3;filter:brightness(100%);'>8.2</td><td style='font-family:Courier;font-size:12px;text-align:left;background:white;padding-top:3px;padding-bottom:3px;padding-left:5px;padding-right:15px;color:#3b08d3;num-format:prefix;filter:brightness(100%);'>1.5M</td><td style='font-family:Courier;font-size:12px;text-align:left;background:white;padding-top:3px;padding-bottom:3px;padding-left:5px;padding-right:15px;color:#7a03fc;num-format:pct-1;filter:brightness(100%);'>18.6%</td><td style='font-family:Courier;font-size:12px;text-align:left;background:white;padding-top:3px;padding-bottom:3px;padding-left:5px;padding-right:15px;color:#fb4b04;filter:brightness(100%);'>Action/Crime/Drama</td></tr><tr><td style='font-family:Courier;font-size:12px;text-align:left;background:white;padding-top:3px;padding-bottom:3px;padding-left:5px;padding-right:15px;color:#666;filter:brightness(96%);'>4</td><td style='font-family:Courier;font-size:12px;text-align:left;background:white;padding-top:3px;padding-bottom:3px;padding-left:5px;padding-right:15px;color:#b40403;filter:brightness(96%);'>The Light Between Oceans</td><td style='font-family:Courier;font-size:12px;text-align:left;background:white;padding-top:3px;padding-bottom:3px;padding-left:5px;padding-right:15px;color:#3b08d3;filter:brightness(96%);'>2016</td><td style='font-family:Courier;font-size:12px;text-align:left;background:white;padding-top:3px;padding-bottom:3px;padding-left:5px;padding-right:15px;color:#3b08d3;filter:brightness(96%);'>7.2</td><td style='font-family:Courier;font-size:12px;text-align:left;background:white;padding-top:3px;padding-bottom:3px;padding-left:5px;padding-right:15px;color:#3b08d3;num-format:prefix;filter:brightness(96%);'>57k</td><td style='font-family:Courier;font-size:12px;text-align:left;background:white;padding-top:3px;padding-bottom:3px;padding-left:5px;padding-right:15px;color:#7a03fc;num-format:pct-1;filter:brightness(96%);'>0.7%</td><td style='font-family:Courier;font-size:12px;text-align:left;background:white;padding-top:3px;padding-bottom:3px;padding-left:5px;padding-right:15px;color:#fb4b04;filter:brightness(96%);'>Drama/Romance</td></tr><tr><td style='font-family:Courier;font-size:12px;text-align:left;background:white;padding-top:3px;padding-bottom:3px;padding-left:5px;padding-right:15px;color:#666;filter:brightness(100%);border-bottom:1px solid #aaa;'>5</td><td style='font-family:Courier;font-size:12px;text-align:left;background:white;padding-top:3px;padding-bottom:3px;padding-left:5px;padding-right:15px;color:#b40403;filter:brightness(100%);border-bottom:1px solid #aaa;'>The Empire Strikes Back</td><td style='font-family:Courier;font-size:12px;text-align:left;background:white;padding-top:3px;padding-bottom:3px;padding-left:5px;padding-right:15px;color:#3b08d3;filter:brightness(100%);border-bottom:1px solid #aaa;'>1980</td><td style='font-family:Courier;font-size:12px;text-align:left;background:white;padding-top:3px;padding-bottom:3px;padding-left:5px;padding-right:15px;color:#3b08d3;filter:brightness(100%);border-bottom:1px solid #aaa;'>8.7</td><td style='font-family:Courier;font-size:12px;text-align:left;background:white;padding-top:3px;padding-bottom:3px;padding-left:5px;padding-right:15px;color:#3b08d3;num-format:prefix;filter:brightness(100%);border-bottom:1px solid #aaa;'>1.3M</td><td style='font-family:Courier;font-size:12px;text-align:left;background:white;padding-top:3px;padding-bottom:3px;padding-left:5px;padding-right:15px;color:#7a03fc;num-format:pct-1;filter:brightness(100%);border-bottom:1px solid #aaa;'>16.1%</td><td style='font-family:Courier;font-size:12px;text-align:left;background:white;padding-top:3px;padding-bottom:3px;padding-left:5px;padding-right:15px;color:#fb4b04;filter:brightness(100%);border-bottom:1px solid #aaa;'>Action/Adventure/Fantasy</td></tr></table>"
      ],
      "text/plain": [
       "<IPython.core.display.HTML object>"
      ]
     },
     "metadata": {},
     "output_type": "display_data"
    }
   ],
   "source": [
    "t = CustomizedTable([\"No\", \"Title\", \"Year\", \"Rating\", \"No ratings\", \"Part\", \"Genre\"])\n",
    "ratings = [2600000, 2600000, 1500000, 57000, 1300000]\n",
    "genres = [\"Drama\", \"Action/Crime/Drama\", \"Action/Crime/Drama\", \"Drama/Romance\", \"Action/Adventure/Fantasy\"]\n",
    "for i,r in enumerate(data):\n",
    "    t.add_row([i+1] + r + [ratings[i]] + [ratings[i]/sum(ratings)] + [genres[i]])\n",
    "t.column_style(\"Genre\", {\"color\": \"category\"})\n",
    "t.column_style(\"Part\", {\"color\": \"percent\", \"num-format\": \"pct-1\"})\n",
    "t.column_style([2,3], {\"color\": \"value\"})\n",
    "t.column_style(4, {\"color\": \"value\", \"num-format\": \"prefix\"})\n",
    "t.column_style(1, {\"color\": \"name\"})\n",
    "t.column_style(0, {\"color\": \"id\"})\n",
    "t.column_width(\"Title\",250)\n",
    "t.column_width(\"Genre\",250)\n",
    "t.display()\n",
    "t.to_csv(\"movies.csv\")\n",
    "t.to_excel(\"movies.xlsx\")"
   ]
  },
  {
   "cell_type": "markdown",
   "id": "d0f7669b-f2b9-4d00-8006-a36d261473cb",
   "metadata": {},
   "source": [
    "### Create table from csv file"
   ]
  },
  {
   "cell_type": "code",
   "execution_count": 12,
   "id": "53a25f28-34fd-4d14-b35a-d205dc734447",
   "metadata": {},
   "outputs": [
    {
     "data": {
      "text/html": [
       "<table><tr><td style='font-weight:bold;color:black;background:#ddd;padding-top:3px;padding-bottom:3px;padding-left:5px;padding-right:15px;border-top:1px solid #aaa;border-bottom:1px solid #aaa;font-family:Courier;font-size:12px;text-align:left;'>No</td><td style='font-weight:bold;color:black;background:#ddd;padding-top:3px;padding-bottom:3px;padding-left:5px;padding-right:15px;border-top:1px solid #aaa;border-bottom:1px solid #aaa;font-family:Courier;font-size:12px;text-align:left;'>Title</td><td style='font-weight:bold;color:black;background:#ddd;padding-top:3px;padding-bottom:3px;padding-left:5px;padding-right:15px;border-top:1px solid #aaa;border-bottom:1px solid #aaa;font-family:Courier;font-size:12px;text-align:left;'>Year</td><td style='font-weight:bold;color:black;background:#ddd;padding-top:3px;padding-bottom:3px;padding-left:5px;padding-right:15px;border-top:1px solid #aaa;border-bottom:1px solid #aaa;font-family:Courier;font-size:12px;text-align:left;'>Rating</td><td style='font-weight:bold;color:black;background:#ddd;padding-top:3px;padding-bottom:3px;padding-left:5px;padding-right:15px;border-top:1px solid #aaa;border-bottom:1px solid #aaa;font-family:Courier;font-size:12px;text-align:left;'>No ratings</td><td style='font-weight:bold;color:black;background:#ddd;padding-top:3px;padding-bottom:3px;padding-left:5px;padding-right:15px;border-top:1px solid #aaa;border-bottom:1px solid #aaa;font-family:Courier;font-size:12px;text-align:left;'>Part</td><td style='font-weight:bold;color:black;background:#ddd;padding-top:3px;padding-bottom:3px;padding-left:5px;padding-right:15px;border-top:1px solid #aaa;border-bottom:1px solid #aaa;font-family:Courier;font-size:12px;text-align:left;'>Genre</td></tr><tr><td style='font-family:Courier;font-size:12px;text-align:left;background:white;padding-top:3px;padding-bottom:3px;padding-left:5px;padding-right:15px;color:#666;filter:brightness(100%);'>1</td><td style='font-family:Courier;font-size:12px;text-align:left;background:white;padding-top:3px;padding-bottom:3px;padding-left:5px;padding-right:15px;color:#b40403;filter:brightness(100%);'>The Shawshank Redemption</td><td style='font-family:Courier;font-size:12px;text-align:left;background:white;padding-top:3px;padding-bottom:3px;padding-left:5px;padding-right:15px;color:#3b08d3;filter:brightness(100%);'>1994</td><td style='font-family:Courier;font-size:12px;text-align:left;background:white;padding-top:3px;padding-bottom:3px;padding-left:5px;padding-right:15px;color:#3b08d3;filter:brightness(100%);'>9.3</td><td style='font-family:Courier;font-size:12px;text-align:left;background:white;padding-top:3px;padding-bottom:3px;padding-left:5px;padding-right:15px;color:#3b08d3;num-format:prefix;filter:brightness(100%);'>2.6M</td><td style='font-family:Courier;font-size:12px;text-align:left;background:white;padding-top:3px;padding-bottom:3px;padding-left:5px;padding-right:15px;color:#7a03fc;num-format:pct-1;filter:brightness(100%);'>32.3%</td><td style='font-family:Courier;font-size:12px;text-align:left;background:white;padding-top:3px;padding-bottom:3px;padding-left:5px;padding-right:15px;color:#fb4b04;filter:brightness(100%);'>Drama</td></tr><tr><td style='font-family:Courier;font-size:12px;text-align:left;background:white;padding-top:3px;padding-bottom:3px;padding-left:5px;padding-right:15px;color:#666;filter:brightness(96%);'>2</td><td style='font-family:Courier;font-size:12px;text-align:left;background:white;padding-top:3px;padding-bottom:3px;padding-left:5px;padding-right:15px;color:#b40403;filter:brightness(96%);'>The Dark Knight</td><td style='font-family:Courier;font-size:12px;text-align:left;background:white;padding-top:3px;padding-bottom:3px;padding-left:5px;padding-right:15px;color:#3b08d3;filter:brightness(96%);'>2008</td><td style='font-family:Courier;font-size:12px;text-align:left;background:white;padding-top:3px;padding-bottom:3px;padding-left:5px;padding-right:15px;color:#3b08d3;filter:brightness(96%);'>9.0</td><td style='font-family:Courier;font-size:12px;text-align:left;background:white;padding-top:3px;padding-bottom:3px;padding-left:5px;padding-right:15px;color:#3b08d3;num-format:prefix;filter:brightness(96%);'>2.6M</td><td style='font-family:Courier;font-size:12px;text-align:left;background:white;padding-top:3px;padding-bottom:3px;padding-left:5px;padding-right:15px;color:#7a03fc;num-format:pct-1;filter:brightness(96%);'>32.3%</td><td style='font-family:Courier;font-size:12px;text-align:left;background:white;padding-top:3px;padding-bottom:3px;padding-left:5px;padding-right:15px;color:#fb4b04;filter:brightness(96%);'>Action/Crime/Drama</td></tr><tr><td style='font-family:Courier;font-size:12px;text-align:left;background:white;padding-top:3px;padding-bottom:3px;padding-left:5px;padding-right:15px;color:#666;filter:brightness(100%);'>3</td><td style='font-family:Courier;font-size:12px;text-align:left;background:white;padding-top:3px;padding-bottom:3px;padding-left:5px;padding-right:15px;color:#b40403;filter:brightness(100%);'>Batman Begins</td><td style='font-family:Courier;font-size:12px;text-align:left;background:white;padding-top:3px;padding-bottom:3px;padding-left:5px;padding-right:15px;color:#3b08d3;filter:brightness(100%);'>2005</td><td style='font-family:Courier;font-size:12px;text-align:left;background:white;padding-top:3px;padding-bottom:3px;padding-left:5px;padding-right:15px;color:#3b08d3;filter:brightness(100%);'>8.2</td><td style='font-family:Courier;font-size:12px;text-align:left;background:white;padding-top:3px;padding-bottom:3px;padding-left:5px;padding-right:15px;color:#3b08d3;num-format:prefix;filter:brightness(100%);'>1.5M</td><td style='font-family:Courier;font-size:12px;text-align:left;background:white;padding-top:3px;padding-bottom:3px;padding-left:5px;padding-right:15px;color:#7a03fc;num-format:pct-1;filter:brightness(100%);'>18.6%</td><td style='font-family:Courier;font-size:12px;text-align:left;background:white;padding-top:3px;padding-bottom:3px;padding-left:5px;padding-right:15px;color:#fb4b04;filter:brightness(100%);'>Action/Crime/Drama</td></tr><tr><td style='font-family:Courier;font-size:12px;text-align:left;background:white;padding-top:3px;padding-bottom:3px;padding-left:5px;padding-right:15px;color:#666;filter:brightness(96%);'>4</td><td style='font-family:Courier;font-size:12px;text-align:left;background:white;padding-top:3px;padding-bottom:3px;padding-left:5px;padding-right:15px;color:#b40403;filter:brightness(96%);'>The Light Between Oceans</td><td style='font-family:Courier;font-size:12px;text-align:left;background:white;padding-top:3px;padding-bottom:3px;padding-left:5px;padding-right:15px;color:#3b08d3;filter:brightness(96%);'>2016</td><td style='font-family:Courier;font-size:12px;text-align:left;background:white;padding-top:3px;padding-bottom:3px;padding-left:5px;padding-right:15px;color:#3b08d3;filter:brightness(96%);'>7.2</td><td style='font-family:Courier;font-size:12px;text-align:left;background:white;padding-top:3px;padding-bottom:3px;padding-left:5px;padding-right:15px;color:#3b08d3;num-format:prefix;filter:brightness(96%);'>57k</td><td style='font-family:Courier;font-size:12px;text-align:left;background:white;padding-top:3px;padding-bottom:3px;padding-left:5px;padding-right:15px;color:#7a03fc;num-format:pct-1;filter:brightness(96%);'>0.7%</td><td style='font-family:Courier;font-size:12px;text-align:left;background:white;padding-top:3px;padding-bottom:3px;padding-left:5px;padding-right:15px;color:#fb4b04;filter:brightness(96%);'>Drama/Romance</td></tr><tr><td style='font-family:Courier;font-size:12px;text-align:left;background:white;padding-top:3px;padding-bottom:3px;padding-left:5px;padding-right:15px;color:#666;filter:brightness(100%);border-bottom:1px solid #aaa;'>5</td><td style='font-family:Courier;font-size:12px;text-align:left;background:white;padding-top:3px;padding-bottom:3px;padding-left:5px;padding-right:15px;color:#b40403;filter:brightness(100%);border-bottom:1px solid #aaa;'>The Empire Strikes Back</td><td style='font-family:Courier;font-size:12px;text-align:left;background:white;padding-top:3px;padding-bottom:3px;padding-left:5px;padding-right:15px;color:#3b08d3;filter:brightness(100%);border-bottom:1px solid #aaa;'>1980</td><td style='font-family:Courier;font-size:12px;text-align:left;background:white;padding-top:3px;padding-bottom:3px;padding-left:5px;padding-right:15px;color:#3b08d3;filter:brightness(100%);border-bottom:1px solid #aaa;'>8.7</td><td style='font-family:Courier;font-size:12px;text-align:left;background:white;padding-top:3px;padding-bottom:3px;padding-left:5px;padding-right:15px;color:#3b08d3;num-format:prefix;filter:brightness(100%);border-bottom:1px solid #aaa;'>1.3M</td><td style='font-family:Courier;font-size:12px;text-align:left;background:white;padding-top:3px;padding-bottom:3px;padding-left:5px;padding-right:15px;color:#7a03fc;num-format:pct-1;filter:brightness(100%);border-bottom:1px solid #aaa;'>16.1%</td><td style='font-family:Courier;font-size:12px;text-align:left;background:white;padding-top:3px;padding-bottom:3px;padding-left:5px;padding-right:15px;color:#fb4b04;filter:brightness(100%);border-bottom:1px solid #aaa;'>Action/Adventure/Fantasy</td></tr></table>"
      ],
      "text/plain": [
       "<IPython.core.display.HTML object>"
      ]
     },
     "metadata": {},
     "output_type": "display_data"
    }
   ],
   "source": [
    "t = from_csv(\"movies.csv\")\n",
    "t.column_style(\"Genre\", {\"color\": \"category\"})\n",
    "t.column_style(\"Part\", {\"color\": \"percent\", \"num-format\": \"pct-1\"})\n",
    "t.column_style([2,3], {\"color\": \"value\"})\n",
    "t.column_style(4, {\"color\": \"value\", \"num-format\": \"prefix\"})\n",
    "t.column_style(1, {\"color\": \"name\"})\n",
    "t.column_style(0, {\"color\": \"id\"})\n",
    "t.display()"
   ]
  },
  {
   "cell_type": "markdown",
   "id": "5b9143b8-2a3e-4786-b8f6-611c97b315ee",
   "metadata": {},
   "source": [
    "### Number formatting and formatting cells with lists"
   ]
  },
  {
   "cell_type": "code",
   "execution_count": 13,
   "id": "8d11ee19-2da0-42c5-8902-b52955336a29",
   "metadata": {},
   "outputs": [
    {
     "data": {
      "text/html": [
       "<table><tr><td style='font-family:Courier;font-size:12px;text-align:left;background:white;padding-top:3px;padding-bottom:3px;padding-left:5px;padding-right:15px;cell-format:list;color:#272;filter:brightness(100%);border-top:1px solid #aaa;'>The Shawshank Redemption, The Dark Knight, Batman Begins, The Light Between Oceans, The Empire Strikes Back</td></tr><tr><td style='font-family:Courier;font-size:12px;text-align:left;background:white;padding-top:3px;padding-bottom:3px;padding-left:5px;padding-right:15px;cell-format:list;filter:brightness(96%);'>0.6394267984578837, 0.025010755222666936, 0.27502931836911926, 0.22321073814882275, 0.7364712141640124</td></tr><tr><td style='font-family:Courier;font-size:12px;text-align:left;background:white;padding-top:3px;padding-bottom:3px;padding-left:5px;padding-right:15px;cell-format:list;num-format:dec-4;filter:brightness(100%);'>0.6394, 0.0250, 0.2750, 0.2232, 0.7365</td></tr><tr><td style='font-family:Courier;font-size:12px;text-align:left;background:white;padding-top:3px;padding-bottom:3px;padding-left:5px;padding-right:15px;cell-format:list;num-format:dec-2;filter:brightness(96%);'>0.64, 0.03, 0.28, 0.22, 0.74</td></tr><tr><td style='font-family:Courier;font-size:12px;text-align:left;background:white;padding-top:3px;padding-bottom:3px;padding-left:5px;padding-right:15px;cell-format:list: ;num-format:pct-2;filter:brightness(100%);'>63.94% 2.50% 27.50% 22.32% 73.65%</td></tr><tr><td style='font-family:Courier;font-size:12px;text-align:left;background:white;padding-top:3px;padding-bottom:3px;padding-left:5px;padding-right:15px;cell-format:list:\n",
       ";num-format:pct-0;color:blue;filter:brightness(96%);'>64%<br>3%<br>28%<br>22%<br>74%</td></tr><tr><td style='font-family:Courier;font-size:12px;text-align:left;background:white;padding-top:3px;padding-bottom:3px;padding-left:5px;padding-right:15px;cell-format:tag-text;filter:brightness(100%);border-bottom:1px solid #aaa;'>This is <span style='color:orange;'>a</span> <span style='color:red;font-style:italic;'>tagged</span> <span style='font-weight:bold;color:green;'>text</span> with<br/>line break</td></tr></table>"
      ],
      "text/plain": [
       "<IPython.core.display.HTML object>"
      ]
     },
     "metadata": {},
     "output_type": "display_data"
    }
   ],
   "source": [
    "# List of random floats\n",
    "from random import Random\n",
    "rnd = Random(42)\n",
    "numbers = [rnd.random() for x in range(0,5)]\n",
    "# Movie titles\n",
    "titles = [x[0] for x in data]\n",
    "\n",
    "t = CustomizedTable([\"\"], header=False)\n",
    "t.add_row([titles], style={\"cell-format\": \"list\", \"color\": \"#272\"})\n",
    "t.add_row([numbers], style={\"cell-format\": \"list\"})\n",
    "t.add_row([numbers], style={\"cell-format\": \"list\", \"num-format\": \"dec-4\"})\n",
    "t.add_row([numbers], style={\"cell-format\": \"list\", \"num-format\": \"dec-2\"})\n",
    "t.add_row([numbers], style={\"cell-format\": \"list: \", \"num-format\": \"pct-2\"})\n",
    "t.add_row([numbers], style={\"cell-format\": \"list:\\n\", \"num-format\": \"pct-0\", \"color\": \"blue\"})\n",
    "t.add_row([\"This is <orange>a</> <red|italic>tagged</> <bold|green>text</> with\\nline break\"], style={\"cell-format\": \"tag-text\"})\n",
    "t.display()"
   ]
  },
  {
   "cell_type": "code",
   "execution_count": null,
   "id": "9b98782f-b120-43ee-bdf3-e856e200c2ab",
   "metadata": {},
   "outputs": [],
   "source": []
  }
 ],
 "metadata": {
  "kernelspec": {
   "display_name": "Python 3",
   "language": "python",
   "name": "python3"
  },
  "language_info": {
   "codemirror_mode": {
    "name": "ipython",
    "version": 3
   },
   "file_extension": ".py",
   "mimetype": "text/x-python",
   "name": "python",
   "nbconvert_exporter": "python",
   "pygments_lexer": "ipython3",
   "version": "3.9.7"
  }
 },
 "nbformat": 4,
 "nbformat_minor": 5
}
